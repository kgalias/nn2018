{
 "cells": [
  {
   "cell_type": "markdown",
   "metadata": {},
   "source": [
    "\n",
    "---\n",
    "<big><big><big><big><big><big>Sieci neuronowe 2018</big></big></big></big></big></big>\n",
    "\n",
    "---\n",
    "\n",
    "\n"
   ]
  },
  {
   "cell_type": "markdown",
   "metadata": {},
   "source": [
    "\n",
    "---\n",
    "<big><big><big><big><big>Sieci autoasocjacyjne</big></big></big></big></big>\n",
    "\n",
    "---\n",
    "\n"
   ]
  },
  {
   "cell_type": "markdown",
   "metadata": {},
   "source": [
    "---\n",
    "\n",
    "<id=tocheading><big><big><big><big>Spis treści</big></big></big></big>\n",
    "<div id=\"toc\"></div>\n",
    "\n",
    "---"
   ]
  },
  {
   "cell_type": "code",
   "execution_count": null,
   "metadata": {},
   "outputs": [],
   "source": [
    "%%javascript\n",
    "$.getScript('https://kmahelona.github.io/ipython_notebook_goodies/ipython_notebook_toc.js')"
   ]
  },
  {
   "cell_type": "code",
   "execution_count": 21,
   "metadata": {},
   "outputs": [],
   "source": [
    "# -*- coding: utf-8 -*-\n",
    "\n",
    "import numpy as np\n",
    "import pandas as pd\n",
    "\n",
    "%matplotlib inline\n",
    "import matplotlib.pyplot as plt\n",
    "import seaborn as sns\n",
    "from mpl_toolkits.mplot3d import Axes3D\n",
    "from matplotlib import cm\n",
    "from matplotlib.ticker import LinearLocator, FormatStrFormatter\n",
    "\n",
    "plt.style.use(\"fivethirtyeight\")\n",
    "\n",
    "#from bokeh.io import gridplot, output_file, show\n",
    "#from bokeh.plotting import figure, output_notebook\n",
    "#from bkcharts import Scatter\n",
    "\n",
    "import random"
   ]
  },
  {
   "cell_type": "code",
   "execution_count": null,
   "metadata": {},
   "outputs": [],
   "source": [
    "output_notebook()"
   ]
  },
  {
   "cell_type": "code",
   "execution_count": null,
   "metadata": {},
   "outputs": [],
   "source": [
    "sns.set(font_scale=2.0)"
   ]
  },
  {
   "cell_type": "markdown",
   "metadata": {},
   "source": [
    "Image inclusion\n",
    "<img src=\"nn_figures/\" width=\"100%\">"
   ]
  },
  {
   "cell_type": "code",
   "execution_count": null,
   "metadata": {},
   "outputs": [],
   "source": [
    "\n"
   ]
  },
  {
   "cell_type": "markdown",
   "metadata": {},
   "source": [
    "# Reguła Hebba\n",
    "> Jeśli akson neuronu A jest wystarczająco blisko neuronu B i regularnie bierze udział w jego aktywacji, wtedy następuje pewien proces wzrostu lub zmian metabolicznych w obu komórkach tak, że zdolność A do aktywacji B wzrasta (Donald Hebb, 1949)\n",
    "\n",
    "\n",
    "1. reguła __uczenia hebbowskiego__ spowoduje wzrost wag $w_{mn}$ i $w_{nm}$\n",
    "  $$\\dfrac{dw_{ij}}{dt}\\propto x_i^Tx_j$$\n",
    "2. to jest uczenie __asocjacyjne__ z lokalną regułą aktywacji\n",
    "  $$\\Delta w_{ij}=\\eta x_i() y_j()$$\n",
    "  * nauczanie bez nauczyciela\n",
    "  * korelacyjne\n",
    "  * jeśli istnieje struktura, to tworzy pamięć asocjacyjną"
   ]
  },
  {
   "cell_type": "markdown",
   "metadata": {},
   "source": [
    "# Pamięć asocjacyjna\n",
    "1. __auto__-asocjacja $$\\{x_1,\\dots,x_N\\} \\hskip2em\\text{z}\\hskip2em \\{x_1,\\dots,x_N\\} $$\n",
    "2. __hetero__-asocjacja $$\\{x_1,\\dots,x_N\\} \\hskip2em\\text{z}\\hskip2em \\{y_1,\\dots,y_N\\} $$\n",
    "3. prosty sposób zdefiniowania wag\n",
    "$$\\begin{align*}\n",
    "W=&W_{1}+\\dots+W_{n}\\\\\n",
    "W_{k}=&[y_{k}(x_{k})^{T}]\\\\\n",
    "x_{k}W=&x_{k}(W_{1}+\\dots+W_{n})\n",
    "\\end{align*}$$\n",
    "\n",
    "4. odpowiedź składa się z poprawnego sygnału oraz szumu\n",
    "$$\\begin{align*}\n",
    "(x_k)^{T}W=&(x_k)^{T}(W_1+W_2+\\dots+W_m)\\\\\n",
    "=&(x_k)^{T}W_k+\\sum_{i\\neq k}(x_k)^{T}W_i\\\\\n",
    "=&\\underbrace{y_k(x_k^T x_k)}_{sygnał}+\\underbrace{\\sum_{i\\neq k}y_i(x_i^Tx_k)}_{szum}\n",
    "\\end{align*}$$\n",
    "  * co zrobić, by odtwarzany był idealny sygnał?\n",
    "  * szum musi być zerowy\n",
    "  * wyktory muszą być parami ortogonalne by $x_i^Tx_j=0$\n",
    "    * nierealne - pamięć ograniczona do liczby wymiarów\n",
    "  * a gdyby wprowadzić __nieliniowość__ $y_k=x_k^TW$?\n",
    "    * zakładamy, że wektory są kodowane za pomocą $0/1$\n",
    "    $$\\begin{align*}\n",
    "    sgn((x_{k})^{T}W)=&sgn\\left(y_k(x_k\\cdot x_k)+\\sum_{i\\neq k}y_i(x_i\\cdot x_k)\\right)\\\\\n",
    "    &\\tag{składnik $x_k^Tx_k>0$}\\\\\n",
    "    =&sgn\\left(y_k+\\sum_{i\\neq k}y^i\\frac{(x_i\\cdot x_k)}{(x_k\\cdot x_k)}\\right)\n",
    "    \\end{align*}$$\n",
    "    * aby spełnić równość, wystarczy by czynnik szumu był mniejszy od jedności\n",
    "    $$\\left|\\sum_{i\\neq k}y^i\\frac{(x^i\\cdot x_k)}{(x_k\\cdot x_k)}\\right|<1$$\n",
    "5. jakie są szanse, by dla $n$ pamiętanych wektorów rozwiązanie było prawoidłowe?\n",
    "    * zależy od liczby pamiętanych wektorów\n",
    "    * od ich postaci\n",
    "    * od odległości od punktu startowego\n",
    "      * $H(,)$ odległość Hamminga od punktu początkowego iteracji (w kolumnach 1 do 4)\n",
    "      * liczba pamiętanych wektorów (od 2 do 7)\n",
    "      * w kolumnach obok siebie kodowanie za pomocą $0, 1$ (lewa) i za pomocą $-1, +1$ (prawa)\n",
    "      * wartości podają procent poprawnie zbieżnych wektorów\n",
    "\n",
    "| H(,) | 2 | 3 | 4 | 5 | 6 | 7 |\n",
    "| --- | --- | --- | --- | --- | --- | --- |\n",
    "| 1 | 100 100 | 90 90 | 85 85 | 60 60 | 60 60 | 54 54 |\n",
    "| 2 |  87 100 | 64 73 | 57 71 | 40 42 | 32 35 | 23 28 |\n",
    "| 3 |  50  80 | 39 49 | 25 48 | 14 18 |  8 11 |  5  9 |\n",
    "| 4 |  10  43 | 10 22 |  7 22 |  5  7 |  3  4 |  1  2 |\n",
    "\n",
    "6. w modelu Hopfielda dla $n$ elementowych wektorów wynosi $0.18 n$ z błędem co najwyżej jednego bitu"
   ]
  },
  {
   "cell_type": "markdown",
   "metadata": {},
   "source": [
    "# Model Hopfielda\n",
    "<img src=\"nn_figures/hopfield-round.png\" width=\"80%\">\n",
    "1. $N$ neuronów\n",
    "  * symetryczne połączenia $w_{ij}=w_{ji}$\n",
    "  * __brak__ połączeń neuronów samych ze sobą\n",
    "  $$w_{ii}=0$$\n",
    "  * nieliniowa progowa funkcja aktywacji\n",
    "  $$\\begin{align*}\n",
    "  x(v_{i})=\\left\\{\\begin{array}{rl}\n",
    "           +1&v_{i}\\geq{}0\\\\\n",
    "           -1&v_{i}<0\n",
    "           \\end{array}\n",
    "  \\right.\\hskip3em v_{i}=&\\sum_{j}w_{ij}x_{j}\n",
    "  \\end{align*}\n",
    "  $$\n",
    "2. __tryby aktualizacji__\n",
    "  * __synchroniczny__\n",
    "    1. __równoczesne__ obliczenie wartości $v_k$ dla __wszystkich__ neuronów\n",
    "    2. aktualizacja stanów\n",
    "  * __asynchroniczny__\n",
    "    1. wybór neuronu \n",
    "      * losowy, w ustalonej kolejności, itp.\n",
    "      * kolejność __nie związana__ z obliczonymi aktywacjami\n",
    "    2. obliczenie aktywacji tego neuronu\n",
    "  * model Hopfielda nakłada dodatkowe ograniczenie na aktualizacje\n",
    "3. __uczenie__ jest jednokrokowe\n",
    "$$w_{ij}=\\frac{1}{N}\\sum_k x_i^kx_j^k$$\n",
    "gdzie $i, j$ są indeksami w wektorze, a $k$ indeksami przykładów\n",
    "  * $w_{ii}=0$"
   ]
  },
  {
   "cell_type": "markdown",
   "metadata": {},
   "source": [
    "## Funkcja energii modelu Hopfielda\n",
    "$$E(x)=-\\frac{1}{2}\\sum_{i}\\sum_{j}w_{ij}x_{i}x_{j}-\\sum_{i}h_{i}x_{i}$$\n",
    "gdzie $h_i$ jest pewnym __progiem__ neuronu $x_i$\n",
    "1. model zakłada ograniczenie: stan modelu może się zmieniać __tylko wtedy__ gdy poziom energii się __zmniejsza__\n",
    "  1. wybrany $k$-ty neuron (tryb asynchroniczny)\n",
    "  2. $v_{k}=\\sum_{j}w_{kj}x_{j}-h_{k}$\n",
    "  3. $x'_k=sgn(v_k)$\n",
    "  4. $x=x'\\;\\longrightarrow\\;E(x')=E(x)$\n",
    "  5. $x\\neq x'$\n",
    "  6. $$\\begin{align*}\n",
    "     E(x)-E(x')&=\\left(-\\sum_{j}w_{kj}x_{k}x_{j}-h_{k}x_{k}\\right)-\\left(-             \\sum_{j}w_{kj}x'_{k}x'_{j}-h_{k} x'_ { k } \\right)\\\\\n",
    "     &=-(x_{k}-x'_{k})\\left(\\sum_{j}w_{kj}x_{j}-h_{k}\\right)\\\\\n",
    "     &=-(x_{k}-x'_{k})v_{k}\n",
    "     \\end{align*}$$\n",
    "  7. aktywacja neuronu $x_k$ zmieni się __tylko__ wtedy, gdy __zmieni__ się wartość $v_k$\n",
    "  $$\\begin{align*}\n",
    "  sgn(v_{k})&\\neq{}sgn(x_{k})\\\\\n",
    "  sgn(v_{k})&\\neq{}sgn(-x'_{k})\n",
    "  \\end{align*}$$\n",
    "  8. jeśli $(x_k-x'_k)>0\\,\\longrightarrow\\,E(x)-E(x')>0$\n",
    "  9. wartość energii __maleje__ jeśli zmienia się stan\n",
    "    * ponieważ liczba stanów jest ograniczona, to musi osiągnąć minimum!\n",
    "2. funkcja energii definiuje __baseny atrakcji__\n",
    "  * baseny atrakcji powinny być związane z pamięciami fundamentalnymi\n",
    "  * ponieważ funkcja jest zdefiniowana dla $I$-neuronowej sieci o __binarnych__ aktywacjach, baseny stany odpowiadają __rogom__ $I$-wymiarowej hiperkostki"
   ]
  },
  {
   "cell_type": "markdown",
   "metadata": {},
   "source": [
    "## Zbieżność\n",
    "$$\n",
    "E(x;w)=-\\frac{1}{2}\\sum_{i}\\sum_{j}w_{ij}x_{i}x_{j}-\\sum_{i}h_{i}x_{i}\n",
    "$$\n",
    "1. Funkcja energii jest dla $v_{i}=sum_{j}w_{ij}x_{j}$ and $x_{i}=\\tanh(a_{i})$ funkcją __Lyapunova__ systemu dynamicznego\n",
    "  * Funkcja E(x) jest f. Lyapunova jeśli ma ciągłe pochodne, $E(\\bar{x})=0$ oraz $E(x)>0$ w pewnym małym otoczeniu punktu stabilności $\\widehat{x}$\n",
    "  * Stan równowagi $\\bar{x}$ jest stabilny jeśli w małym otoczeniu $\\bar{x}$ pochodna funkcji Lyapunowa ze względu na czas jest ujemnie określona\n",
    "  <img src=\"nn_figures/hopfield-map1.pdf\" width=\"80%\"> [McKay]\n",
    "    * niewielkie różnice (tu nawet do 11) prowadż do stanów stabilnych\n",
    "    * niektóre też prowadzą do stanów stabilnych, ale __różnych__ od zapamiętanych\n",
    "      * \"_negatywy_\" stanów pamiętanych są także stabilne (przykład (m) jest negatywem innego stanu stabilnego (l))\n",
    "    * stanami stabilnymi są często także mieszanki pamieci oryginalnych\n",
    "2. jeśli dla systemu istnieje funkcja Lyapunova, to jego przestrzeń stanów jest podzielona na baseny atrakcji\n",
    "3. jeśli funkcja energii (Lyapunowa) jest wypukła dla każdego $v_{i}$, to sieć Hopfielda __zawsze__ będzie zbieżna do jakiegoś stabilnego punktu stałego\n",
    "4. istnienie funkcji Lyapunova zależy od symetryczności wag, braku sprzężenia zwrotnego, oraz asynchronicznego trybu aktywacji\n",
    "5. Usunięcie wag z modelu powoduje zawężenie basenów atrakcji\n",
    "<img src=\"nn_figures/hopfield-map3.pdf\" width=\"80%\"> [McKay]\n",
    "5. Pamięć modelu jest ograniczona i próba zapamietania zbyt dużej liczby wzorców kończy się zwykle utworzeniem tylko kilku stanów sztucznych (ang. spurious)\n",
    "<img src=\"nn_figures/hopfield-map2.pdf\" width=\"80%\"> [McKay]"
   ]
  },
  {
   "cell_type": "markdown",
   "metadata": {},
   "source": [
    "## Czy można zapamietać więcej wektorów?\n",
    "1. można poprawiać zapamietywane wektory\n",
    "  * to pozwoli zapamietać więcej wektorów\n",
    "  * wektory powinny być bardziej ortogonalne\n",
    "2. więcej wektorów niż zapamiętywane jest stabilne\n",
    "  * stany odwrotne do zapamiętywanych są stabilne\n",
    "  * stabilne mogą być także także mieszaniny stanów\n",
    "3. silnie zaburzona siec także będzie działać\n",
    "4. im więcej zapamietamy stanów, tym jakość odtwarzania bedzie niższa\n"
   ]
  },
  {
   "cell_type": "markdown",
   "metadata": {},
   "source": [
    "## Pojemność sieci Hopfielda\n",
    "1. aktywacja i wagi dla wzorca $x^{(n)}$\n",
    "$$v_{i}=&\\sum_{j}w_{ij}x_{j}^{(n)}\\\\\n",
    "w_{ij}=&x_{i}^{(n)}x_{j}^{(n)}+\\sum_{m\\neq{}n}x_{i}^{(m)}x_{j}^{(m)}\\\\\n",
    "v_{i}=&\\sum_{j\\neq{}i}x_{i}^{(n)}x_{j}^{(n)}x_{j}^{(n)}\n",
    "+\\sum_{j\\neq{}i}\\sum_{m\\neq{}n}x_{i}^{(m)}x_{j}^{(m)}x_{j}^{(n)}\\\\\n",
    "=&(N-1)x_{i}^{(n)}+\\sum_{j\\neq{}i}\\sum_{m\\neq{}n}x_{i}^{(m)}x_{j}^{(m)}x_{j}^{(n)}\n",
    "\\end{align*}$$\n",
    "2. pierszy składnik jest $N-1$ razy większy od oczekiwanej wartości $x_{i}^{(n)}$\n",
    "3. __szum__ ma\n",
    "4. wartość rzędu $(N-1)(K-1)$ razy losowe wartości $x_{i}^{(m)}x_{j}^{(m)}x_{j}^{(n)}$ (dla $K$ wzorców)\n",
    "5. to losowe wartości o średniej $0$ i wariancji $1$\n",
    "6. $v_{i}$ ma średnią $(N-1)x_{i}^{(n)}$ oraz wariancję $(N-1)(K-1)$\n",
    "7. jakie jest prawdopodobieństwo, że sieć w stanie $x^{(n)}$ będzie stabilna?\n",
    "  * ustawiamy sieć w stanie pamięci $x^{(n)}$\n",
    "  * jaka jest szansa, że i-ty bit zmieni swój stan w pierwszej iteracji\n",
    "  <img src=\"nn_figures/normal.pdf\" width=\"40%\">\n",
    "    * aby neuron nie zmienił stanu, jego wartość oczekiwana powinna wynosić $(I-1)x_i$\n",
    "      * $I$ to liczba nauronów\n",
    "      * średnia rozkładu na rysunku (na osi poziomej aktywacje, załóżmy, że dodatnia)\n",
    "    * prawdopodobieństwo, że stan się zmieni, odpowiada powierzchni gdzie zmienia znak\n",
    "    * jeśli będziemy pamiętać $N\\simeq 0.18I$, to z $1\\%$ szansą jeden bit będzie niestabilny przy pierwszej iteracji\n",
    "8. stany przejściowe w pamięci Hopfielda\n",
    "  * prosta analiza mówi ile neuronów może być niestabilnych w pierwszej iteracji \n",
    "    * następne mogą zmienić sytuację\n",
    "    * niestabilność pierwszego może pociągnąć następne\n",
    "  <img src=\"nn_figures/hopfield-capacity.pdf\" width=\"100%\">\n",
    "  * w $N/I=0.138$ zachodzi gwałtowna nieciągłość: poniżej większość stanów pożądanych jest stablina z niewielką liczbą zamienionych bitów\n",
    "    * rysunek pokazuje prawdopodobieństwo stabilności pamięci zasadniczych\n",
    "  * jeśli $N/I$ przekracza $0.138$, to istnieją \\alert{tylko}stany fałszywe (tzw. stany szkła spinowego)\n",
    "  * tuż poniżej $0.138$ liczba zamienionych bitów jest rzędu $1.6\\%$\n",
    "  * dla $N/I\\,\\in\\,(0,0.138))$ istnieją stabilne stany blisko stanów zapamiętanych\n",
    "  * dla $N/I\\in(0,0.05)$ stany stabilne związane ze stanami żądanymi mają \\alert{niższe energie} niż stany fałszywe szkła spinowego\n",
    "  * dla $N/I\\in(0.05,0.138)$ stany szkła spinowego dominują i niektóre mają niższą energię niż stany pożądane\n",
    "  * dla $N/I\\in(0.0.03)$ istnieją pewne dodatkowe stany mieszane których energia nie jest niższa od stanów pożądanych\\end{enumerate}\n",
    "  * pojemność może być poprawiona kosztem mniejszych basenów atrakcji\n"
   ]
  },
  {
   "cell_type": "markdown",
   "metadata": {},
   "source": [
    "## Poprawianie pojemności\n",
    "1. dla każdego wzorca, jeśli wszystkie poza $i$-tym neuronem odpowiadają wzorcowi $x^{n}$, to ustaw wagi tak, by $x_{i}=x_{i}^{n}$\n",
    "2. optymalizuj $G(W)$\n",
    "$$G(W)=-\\sum_{i}\\sum_{n}t_{i}^{(n)}\\ln{}y_{i}^{(n)}+(1-t_{i}^{(n)})\\ln{}(1-y_{i}^{(n)})$$\n",
    "gdzie $t_{i}^{(n)}=1$ jeśli $x_{i}^{(n)}=1$, w przeciwnym wypadku $t_{i}^{(n)}=0$,\n",
    "oraz $y_{i}^{(n)}=1/(1+\\exp(-a_{i}^{(n)}))$\n",
    "3. procedura optymalizacji\n",
    "  * inicjalizuj wagi na $W=X^{T}X$ ($X$ -- macierz przykładów)\n",
    "  * poprawiaj\n",
    "    1. $w_{ii}=0\\;\\forall\\,i$\n",
    "    2. $y=\\sigma(xW)$ aktywacje\n",
    "    3. obliczenie błędów $e=t-y$\n",
    "    4. gradienty $gw=x^{T}e$ ($gw$ to macierz dla wszystkich przykładów)\n",
    "    5. $gw=gw+gw^{T}$ dla symetryzacji\n",
    "    6. poprawa wag $w=w+\\eta(gw - \\alpha{}w)$\n",
    "4. to pozwala by więcej wzorców było stabilnymi stanami\n"
   ]
  },
  {
   "cell_type": "markdown",
   "metadata": {},
   "source": [
    "## Hopfield dla TSP\n",
    "<img src=\"nn_figures/hopfield-tsp.pdf\" width=\"90%\"> [McKay]\n",
    "1. Problem NP-zupełny\n",
    "1. opis rozwiązania jako macierz\n",
    "  * każdy wiersz odpowiada miastu\n",
    "  * kolumna kolejności w której miasto zostanie odwiedzone\n",
    "    * naturalnie po jednej jedynce w każdym wierszu/kolumnie\n",
    "  * ujemne wagi między neuronami w kolumnie/wierszu wymuszają __poprawność__ rozwiązania\n",
    "    * wystarczająco wysokie\n",
    "  * ujemne wagi między miastem w pozycji odwiedzenia a innymi miastami w pozycjach poprzedniej/następnej wymuszają __optymalność__ rozwiązania\n",
    "    * proporcjonalne do odległości\n",
    "2. problem z poprawnym określeniem wag\n",
    "  * zbyt duże wartości bezwzględne znajdą rozwiązanie poprawne, ale dalekie od optymalnego\n",
    "  * zbyt małe mogą znaleźć rozwiązania niepoprawne"
   ]
  },
  {
   "cell_type": "markdown",
   "metadata": {},
   "source": [
    "# Model Isinga\n",
    "1. jest modelem fizycznym leżącym u podstawy modeli Hopfielda czy Boltzmana\n",
    "  * $x$ jest stanem modelu Isinga o $N$ spinach (wartości $+1$ lub $-1$)\n",
    "  * $J_{mn}$ jest wartością __sprzężenia__ między spinami $m$ i $n$ jeśli __są__ sąsiadami; $0$ jeśli __nie są__ sąsiadami\n",
    "  * energia stanu $x$\n",
    "  * $1/2$ ponieważ kazdy stan jest liczony podwójnie\n",
    "  $$E(x; J, H)=-\\frac{1}{2}\\left(\\sum_{m, n}J_{mn}x_mx_n+\\sum_nHx_n\\right)$$\n",
    "  gdzie $H$ jest przyłożonym polem\n",
    "    * jeśli $J>0$, to układ jest _ferromagnetykiem_\n",
    "    * jeśli $J<0$, to _antyferromagnetykiem_\n",
    "2. na model ma wpływ __temperatura__ (niech to bedzie ferromagnetyk)\n",
    "  * gdy jest __wysoka__, to spiny są ukierunkowane losowo\n",
    "  * gdy spada, lokalne zależności zaczynają przeważać\n",
    "  * wraz z jej spadkiem w czasie, układ staje się stabilnym magnesem\n",
    "  * prawdopodobieństwo dodatniego spinu jest określone przez\n",
    "  $$P(+1\\mid v_n)=\\frac{1}{1+\\exp(-2\\beta v_n)}$$\n",
    "  gdzie $\\beta=1/(k_B T)$ gdzie $k_B$ jest stałą Boltzmanna ($k_B=1.38\\times10^{-23}\\;J/K$), a $T$ temperaturą\n",
    "3. alternatywą dla samplingu Gibbsa może być Metropolis, w którym określana jest zmiana energia wynikająca ze zmiany spinu\n",
    "$$\\Delta E=2x_nb_n$$ i przyjęcie nowego stanu z prawdopodobieństwem\n",
    "$$P(zmiana; \\Delta E, \\beta)=\\begin{cases} 1 &\\mbox{if } \\Delta E\\leq 0 \\\\ \n",
    "\\exp(-\\beta\\Delta E) & \\mbox{if } \\Delta E>0 \\end{cases}$$"
   ]
  },
  {
   "cell_type": "markdown",
   "metadata": {},
   "source": [
    "## Sampling\n",
    "Polityk szuka poparcia\n",
    "1. odwiedza wyspy w swoim rejonie jedna po drugiej\n",
    "2. każdego dnia wybiera sąsiednią wyspę porównując liczbę mieszkańców\n",
    "  * jeśli sąsiednia wyspa ma ich więcej, to jedzie tam\n",
    "  * jeśli ma mniej mieszkańców, to jedzie z prawdopodobieństwem $p=\\dfrac{\\text{liczba mieszkańców na sąsiedniej}}{\\text{liczba mieszkańców na aktualnej}}$\n",
    "  * w przeciwnym wypadku pozostaje na aktualnej\n",
    "3. jeśli będzie to robił wystarczająco długo, to czas spędzony na każdej wyspie będzie __proporcjonalny__ do liczby mieszkańców\n",
    "4. porównując liczbę mieszkańców na sąsiednich wyspach dochodzi do estymacji na wszystkich!"
   ]
  },
  {
   "cell_type": "markdown",
   "metadata": {},
   "source": [
    "## Próbkowanie Metropolis-Hastings\n",
    "1. potrzebujemy losowania z rozkładu równomiernego, propozycji $p(x)$, docelowego posterior $g(x)$\n",
    "  1. początkowy punkt startu $\\theta$\n",
    "  2. propozycja $\\theta_p$ taka, że\n",
    "  $$\\begin{align}\n",
    "  \\theta_p&=\\theta+\\Delta\\theta\\\\\n",
    "  \\Delta\\theta&\\sim\\mathcal{N}(0,\\sigma)\n",
    "  \\end{align}$$\n",
    "  3. ułamek $$\\rho=\\frac{g(\\theta_p\\mid X)}{g(\\theta\\mid X)}$$\n",
    "    * jeśli $\\rho\\geq1$, to $\\theta=\\theta_p$\n",
    "    * jeśli $\\rho<1$ to $\\theta=\\theta_p$ z prawdopodobieństwem $\\rho$\n",
    "    * w przeciwnym wypadku bez zmian $\\theta=\\theta$\n",
    "  \n",
    "  * po pewnej liczbie kroków $\\theta_k, \\theta_{k+1}, \\dots$ będą próbkami z rozkładu posterior\n",
    "2. czemu to działa?\n",
    "  * akceptujemy nowe $\\theta_{k+1}$ kiedykolwiek gęstość prawdopodobieństwa docelowego rozkładu jest w $\\theta_{k+1}$ jest większa niż w $\\theta_k$\n",
    "    * parametr $\\theta$ będzie __częściej__ znajdywany w miejscach o większej gęstości\n",
    "  * gdyby tak zawsze akceptować, to samplowanie utknęłoby w lokalnym minimum\n",
    "    * akceptujemy ruchy do miejsc o mniejszej gęstości z szansą $\\rho$\n",
    "  * ponieważ $\\rho$ jest ułamkiem, to mianowniki w\n",
    "  $$g(\\theta\\mid X)=\\frac{g(X\\mid\\theta)p(\\theta)}{g(X)}$$ się upraszczają i wystarczają próbki z posterior $g(\\theta\\mid X)$\n",
    "  * $\\theta$ będzie spędzać czas proporcjonalnie do gęstości"
   ]
  },
  {
   "cell_type": "code",
   "execution_count": null,
   "metadata": {},
   "outputs": [],
   "source": [
    "def metropolis(start, target, proposal, niter):\n",
    "    current = start\n",
    "    post = [current]\n",
    "    for i in range(niter):\n",
    "        proposed = proposal(current)\n",
    "        p = min(target(proposed) / target(current), 1)\n",
    "        if np.random.random() < p:\n",
    "            current = proposed\n",
    "        post.append(current)\n",
    "    return post"
   ]
  },
  {
   "cell_type": "markdown",
   "metadata": {},
   "source": [
    "<img src=\"nn_figures/metropolis.pdf\" width=\"70%\"> [McKay]\n",
    "1. poziomo stany od 0 do 20; pionowo czas\n",
    "2. sampling Metropolis-Hastings\n",
    "3. histogram dla niezależnego losowania stanów z __docelowego__ rozkładu\n",
    "\n",
    "1. proces rozpoczynał od stanu 10 i z równym rozkładem przechodził do lewego/prawego (przejście poza granicę było odrzucane)\n",
    "> Reguła: jeśli największa skala w przestrzeni stanów wynosi $L$, a metoda Metropolis generuje propozycje z krokiem $\\epsilon$, to algorytm musi być wykonany przez co najmniej $(L/\\epsilon)^2$ iteracji dla osiągnięcia szeregu niezależnych próbek z rozkładu."
   ]
  },
  {
   "cell_type": "markdown",
   "metadata": {},
   "source": [
    "## Próbkowanie Gibbsa\n",
    "1. niech $\\theta=(\\theta_1,\\theta_2,\\dots,\\theta_k)$\n",
    "2. potrafimy losować z rozkładów warunkowych $p(\\theta_i\\mid \\theta_1,\\dots,\\theta_{i-1},\\theta_{i+1},\\dots,\\theta_k,X)$\n",
    "3. próbkujemy\n",
    "  1. $\\theta_i$ z rozkładów warunkowych traktując wszystkie inne parametry jako widzialne\n",
    "    * przejście wszystkich parametrów oznacza jeden cykl\n",
    "  2. w każdej iteracji proponowana jest nowa wartość konkretnego parametru wynikająca z jego rozkładu warunkowego\n",
    "    * taka propozycja jest __zawsze__ akceptowana\n",
    "    \n",
    "4. nie ma potrzeby wyszukiwania coraz lepszych rozkładów propozycji\n",
    "5. zalety i wady\n",
    "  * propozycje są zawsze akceptowane\n",
    "  * ale proces musi być zdolny generować rozkłady warunkowe I LOSOWAĆ Z NICH\n",
    "  * może być powolny, jeśli parametry są skorelowane\n",
    "<img src=\"nn_figures/gibbs.pdf\" width=\"70%\"> [McKay]"
   ]
  },
  {
   "cell_type": "code",
   "execution_count": 130,
   "metadata": {},
   "outputs": [],
   "source": [
    "def ising(T, wdth=64, max_turns=300):\n",
    "    beta = 1.0 / T\n",
    "\n",
    "    s= np.ones((wdth, wdth))\n",
    "    for i in range(wdth):\n",
    "        for j in range(wdth):\n",
    "            if random.random() > 0.5:\n",
    "                s[i, j] = -s[i, j]\n",
    "    fig, ax = plt.subplots(1, 2, sharey=True, figsize=(16, 8))\n",
    "    ax[0].pcolor(s)\n",
    "\n",
    "    turns = 0\n",
    "    dE = np.zeros((wdth, wdth))\n",
    "    while turns < max_turns:\n",
    "        turns = turns + 1\n",
    "        for i in range(wdth):\n",
    "            for j in range(wdth):\n",
    "                dE[i, j] =  0.5 * 2 * s[i, j]*(s[(i - 1) % wdth, j] + s[(i + 1) % wdth, j] + s[i, (j - 1) % wdth] + s[i, (j + 1) % wdth])\n",
    "                if dE[i, j]  < 0 or random.random() < np.exp(-2 * beta * dE[i, j]):\n",
    "                    s[i, j] = - s[i, j]\n",
    "    ax[1].pcolor(s)"
   ]
  },
  {
   "cell_type": "code",
   "execution_count": 131,
   "metadata": {},
   "outputs": [
    {
     "data": {
      "image/png": "[encoded data removed]",
      "text/plain": [
       "<Figure size 1152x576 with 2 Axes>"
      ]
     },
     "metadata": {},
     "output_type": "display_data"
    }
   ],
   "source": [
    "ising(T=2.0, wdth=100, max_turns=500)"
   ]
  },
  {
   "cell_type": "code",
   "execution_count": 132,
   "metadata": {},
   "outputs": [
    {
     "data": {
      "image/png": "[encoded data removed]",
      "text/plain": [
       "<Figure size 1152x576 with 2 Axes>"
      ]
     },
     "metadata": {},
     "output_type": "display_data"
    }
   ],
   "source": [
    "# temperatura odpowiadająca log T ~= 0.8 odpowiada przejściu między magnetykiem a antymagnetykiem\n",
    "ising(T=1.30, max_turns=500)"
   ]
  },
  {
   "cell_type": "markdown",
   "metadata": {},
   "source": [
    "### model Isinga\n",
    "1. ze względu na prawa fizyczne jest idealnym modelem do obserwacji przejść fazowych \n",
    "  * prawa mówią, że dla modeli o tym samym wymiarze, zachowanie przenosi się dokładnie\n",
    "1. ciekawe zachowanie jest dla trójkątów\n",
    "  * dla $J=1$ zachowanie będzie podobne\n",
    "  * dla $J=-1$ trójki sąsiadów o tym samym spinie"
   ]
  },
  {
   "cell_type": "markdown",
   "metadata": {},
   "source": [
    "# Maszyna Boltzmanna\n",
    "1. składa się z\n",
    "  * warstwy neuronów ___widzialnych___ $x$\n",
    "  * warstwy neuronów ___ukrytych___ $h$\n",
    "  * wag pomiędzy \n",
    "    * warstwami widzialną i ukrytą $W$\n",
    "    * neuronami warstwy widzialnej $U$\n",
    "    * neuronami warstwy ukrytej $V$\n",
    "  * __wszystkie__ wagi są __symetryczne__\n",
    "2. dla modelu określona jest energia\n",
    "$$E(x,h)=-b^Tx - c^Th -h^TWx -x^Tx - h^TVh$$\n",
    "  * dla prostoty wszędzie dalej będziemy określali \n",
    "    * wszystkie wagi przez $W$\n",
    "    * wszystkie neurony przez $x$\n",
    "  * oraz opuszczali temeperaturę $T$\n",
    "3. prawdopodobieństwo stanu $x$ jest określone przez\n",
    "$$P(x\\mid W)=\\frac{1}{Z}\\exp(-E(x;W)/k_B\\,T)$$\n",
    "gdzie $Z$ jest __sumą statystyczną__ (partition function)\n",
    "$$Z(W)=\\sum_{x}\\exp\\left(-\\frac{E(x;W)}{k_B\\,T}\\right)$$\n",
    "  * stała Boltzmanna $k_B$ jest w $J/\\,K$\n",
    "  * jeśli temperaturę określimy w Kelvinach, to energia jest bezjednostkowa\n",
    "  * $Z(W)$ jest sumą energii po __wszystkich__ możliwych stanach\n",
    "  * stany o __niskiej__ energii mają __wyższe__ prawdopodobieństwo\n",
    "  * __zmniejszanie__ temperatury powoduje skupianie się prawdopodobieństwa na małym podzbiorze stanów o niskiej energii\n",
    "    * osiągnie stan stabilny\n",
    "    * __simmulated annealing__, __symulowane wyżarzanie__\n",
    "      * wyższa tamperatura pozwala na łatwiejsze losowe przeskakiwanie do stanów o wyższej energii, co przyspiesza uczenie\n",
    "      * trudne procedury prawidłowego schematu obniżania temperatury\n",
    "      * temperatura musi spadać __nie szybciej__ niżlogarytmicznie, co daje gwarancję zbieżności do minimum\n",
    "      * zwykle bardzo powolne __wykładnicze__ obniżanie temperatury, np. $$T_k=\\alpha\\,T_{k-1}$$ dla $\\alpha\\in(0.8, 0.99)$\n",
    "      * zakończenie gdy przez określoną liczbę kroków żadna propozycja nie jest akceptowana\n",
    "4. funkcja log-likelihood układu\n",
    "$$\\begin{align}L(\\theta)&=\\log\\prod_{x\\in\\,Data}P(X=x)\\\\&=\\sum_{x\\in\\,Data}\\log\\,P(X=x)\\end{align}$$\n",
    "5. neurony widzialne i ukryte __różnią__ się\n",
    "  * neurony widzialne dostają zewnętrzny sygnał (mają ustalane aktywacje)\n",
    "  * neurony ukryte mają obliczane aktywacje na podstawie widzialnych\n",
    "6. po obliczeniu ukrytych aktywacji, obliczane są widzialne i warstwami na zmianę aż do osiągnięcia stanu __stabilnego__\n",
    "7. Przeliczając log-likelihood biorąc pod uwagę definicję energii dla stanu dostajemy\n",
    "$$\\log\\left[\\prod_{n=1}^NP(x^{(n)})\\right]=\\sum_{n=1}^N\\left[\\frac{1}{2}x^{(n)^T}Wx^{(n)}-\\log\\,Z(W)\\right]$$\n",
    "8. dla minimalizacji log-likelihood obliczamy pochodną po wagach\n",
    "$$\\begin{align}\n",
    "\\frac{\\partial}{\\partial w_{ij}}\\log\\,Z(W)&=\\sum_xx_ix_jP(x\\mid W)\\\\\n",
    "&=\\langle\\,x_i\\,x_j\\rangle_{P(x\\mid W)}\\\\\n",
    "\\frac{\\partial}{\\partial w_{ij}}\\log\\,P(\\{x^{(n)}\\}_{n=1}^N\\mid\\,W)&=\\sum_{n=1}^N\\left[x_i^{(n)}x_j^{(n)}-\\langle\\,x_i\\,x_j\\rangle_{P(x\\mid W)}\\right]\\\\\n",
    "&=N\\left[\\langle\\,x_ix_j\\rangle_{Data}-\\langle\\,x_i\\,x_j\\rangle_{P(x\\mid W)}\\right]\n",
    "\\end{align}$$\n",
    "  * pierwszy składnik ostatniego wyrażenia\n",
    "    * iloczyny skalarne pomiedzy neuronami dla wartosci wylosowanych (wysamplowanych) z prawdziwego rozkładu danych $Data$\n",
    "    * to tzw. faza __świadomości__, faza __dodatnia__\n",
    "  * drugi składnik\n",
    "    * iloczyny skalarne dla wszystkich możliwych stanów\n",
    "    * obejmuje także stany warstwy ukrytej\n",
    "    * to tzw. faza __marzeń sennych__, faza __ujemna__"
   ]
  },
  {
   "cell_type": "markdown",
   "metadata": {},
   "source": [
    "## Restricted Boltzmann Machine RBM\n",
    "1. uczenie maszyny Boltzmanna w cyklu fazy dodatniej-ujemnej jest __bardzo__ powolne\n",
    "2. ograniczenie maszyny B. przez usunięcie połączeń wewnątrz warstw widzialnej i ukrytej\n",
    "$$\\begin{align}\n",
    "E(x,h)&=-b^{T}x-c^{T}h-h^{T}Wx\\\\\n",
    "P(h\\mid x)&=\\prod_{i}P(h_{i}\\mid x)\\\\\n",
    "P(x\\mid h)&=\\prod_{i}P(x_{j}\\mid h)\\\\\n",
    "P(h_{i}=1\\mid x)&=\\frac{exp(c_{i}+W_{i}x)}{1+exp(c_{i}+W_{i}x)}=sigm(c_{i}+W_{i}x)\n",
    "\\end{align}$$\n",
    "3. neurony w poszczególnych warstwach stają się __niezależne__ od siebie i można je liczyć niezależnie\n",
    "  * aktywacje dla ukrytych w zależności od widzialnych z ustawioną aktywacją (clamped) $P(h\\mid x)$\n",
    "  * widzialnych na podstawie ukrytych można liczyć niezależnie\n",
    "4. uczenie\n",
    "  1. dla każdej $w_{ij}$ korelacja $\\langle\\,v_i^0h_j^0\\rangle$ dla zadanych widzialnych\n",
    "  2. próbkowanie Gibbsa aż do osiągnięcia stanu stabilnego i korelacji $\\langle\\,v_i^\\infty\\,h_j^\\infty\\rangle$\n",
    "  3. gradient\n",
    "  $$\\frac{\\partial\\,\\log\\,p(v^0)}{\\partial\\,w_{ij}}=\\langle\\,v_i^0h_j^0\\rangle-\\langle\\,v_i^\\infty\\,h_j^\\infty\\rangle$$\n",
    "5. Hinton pokazał, że __wystarczy__ przeprowadzić __dwa__ cykle prżetwarzania\n",
    "  * obliczanie aktywacji ukrytych wprzód\n",
    "  * obliczenie wejściowych na podstawie ukrytych\n",
    "  * by uzyskać wystarczające przybliżenie całego procesu"
   ]
  },
  {
   "cell_type": "markdown",
   "metadata": {},
   "source": [
    "## Deep Boltzmann Machine\n",
    "1. RBM __nie jest__ wystarczającym modelem\n",
    "2. uczenie głębokiego modelu w oczywisty sposób napotkało na trudności\n",
    "  * trudność z definicją przetwarzania wprzód-wstecz\n",
    "  * zanikanie sygnału gradientu\n",
    "    * wykorzystane aktywacje sigmoidalne\n",
    "  * problem z definicją uczenia nadzorowanego\n",
    "3. Hinton (i współpracownicy) pokazał algorytm __zachłannego__ uczenia modelu\n",
    "  * uczenie nadzorowane ze wstępnym etapem uczenia nienadzorowanego\n",
    "  * rozpoczynamy od prostej RBM złożonej z warstw $x, h_1$\n",
    "  * ta jest uczona do stanu względnej stabilności\n",
    "  * dodawana jest nowa warstwa tworząca na szczycie nową RBM\n",
    "  * znowu uczenie jej do stanu stabilności\n",
    "    * ustalenie likelihood dla $P(h_2\\mid h_1)$\n",
    "  * tak do osiągniecia ustalonej liczby warstw\n",
    "  * to kończy wstępny etap uczenia __nienadzorowanego__\n",
    "  * na szczycie warstwa z uczeniem nadzorowanym\n",
    "  * uczenie tej warstwy\n",
    "  * następnie __tuning__ całego modelu w trybie nadzorowanym\n",
    "3. Salakhutdinov zaproponował rozszerzenie\n",
    "  * podobnie zachłanne uczenie\n",
    "  * w trakcie dodawania nowych warstw i uczenia $P(h_k\\mid h_{k-1})$\n",
    "    * uczenie $P(h_{k-1}\\mid h_k)$ i wstecz\n",
    "  * bardzo złożony algorytm nawet mimo kilku sprytnych trików\n",
    "  "
   ]
  },
  {
   "cell_type": "code",
   "execution_count": null,
   "metadata": {},
   "outputs": [],
   "source": []
  }
 ],
 "metadata": {
  "kernelspec": {
   "display_name": "Python 3",
   "language": "python",
   "name": "python3"
  },
  "language_info": {
   "codemirror_mode": {
    "name": "ipython",
    "version": 3
   },
   "file_extension": ".py",
   "mimetype": "text/x-python",
   "name": "python",
   "nbconvert_exporter": "python",
   "pygments_lexer": "ipython3",
   "version": "3.6.4"
  }
 },
 "nbformat": 4,
 "nbformat_minor": 2
}
