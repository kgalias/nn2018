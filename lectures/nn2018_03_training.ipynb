{
 "cells": [
  {
   "cell_type": "markdown",
   "metadata": {},
   "source": [
    "\n",
    "---\n",
    "<big><big><big><big><big><big>Sieci neuronowe 2018</big></big></big></big></big></big>\n",
    "\n",
    "---\n",
    "\n",
    "\n"
   ]
  },
  {
   "cell_type": "markdown",
   "metadata": {},
   "source": [
    "\n",
    "---\n",
    "<big><big><big><big><big>Uczenie -- metody adaptacyjne</big></big></big></big></big>\n",
    "\n",
    "---\n",
    "\n"
   ]
  },
  {
   "cell_type": "markdown",
   "metadata": {},
   "source": [
    "---\n",
    "\n",
    "<id=tocheading><big><big><big><big>Spis treści</big></big></big></big>\n",
    "<div id=\"toc\"></div>\n",
    "\n",
    "---"
   ]
  },
  {
   "cell_type": "code",
   "execution_count": 4,
   "metadata": {},
   "outputs": [
    {
     "data": {
      "application/javascript": [
       "$.getScript('https://kmahelona.github.io/ipython_notebook_goodies/ipython_notebook_toc.js')"
      ],
      "text/plain": [
       "<IPython.core.display.Javascript object>"
      ]
     },
     "metadata": {},
     "output_type": "display_data"
    }
   ],
   "source": [
    "%%javascript\n",
    "$.getScript('https://kmahelona.github.io/ipython_notebook_goodies/ipython_notebook_toc.js')"
   ]
  },
  {
   "cell_type": "code",
   "execution_count": 5,
   "metadata": {},
   "outputs": [],
   "source": [
    "# -*- coding: utf-8 -*-\n",
    "\n",
    "import numpy as np\n",
    "import pandas as pd\n",
    "\n",
    "%matplotlib inline\n",
    "import matplotlib.pyplot as plt\n",
    "import seaborn as sns\n",
    "from mpl_toolkits.mplot3d import Axes3D\n",
    "from matplotlib import cm\n",
    "from matplotlib.ticker import LinearLocator, FormatStrFormatter\n",
    "\n",
    "plt.style.use(\"fivethirtyeight\")\n",
    "\n",
    "#from bokeh.io import gridplot, output_file, show\n",
    "#from bokeh.plotting import figure, output_notebook\n",
    "#from bkcharts import Scatter"
   ]
  },
  {
   "cell_type": "markdown",
   "metadata": {},
   "source": [
    "output_notebook()"
   ]
  },
  {
   "cell_type": "code",
   "execution_count": null,
   "metadata": {},
   "outputs": [],
   "source": [
    "sns.set(font_scale=2.0)"
   ]
  },
  {
   "cell_type": "markdown",
   "metadata": {
    "collapsed": true
   },
   "source": [
    "Image inclusion\n",
    "<img src=\"../nn_figures/\" width=\"100%\">"
   ]
  },
  {
   "cell_type": "markdown",
   "metadata": {},
   "source": [
    "\n",
    "# Przyspieszanie uczenia, regularyzacja\n",
    "1. SGD jest bardzo stochastyczne\n",
    "2. branie większych batchy stabilizuje uczenie, ale potrzeba więcej obliczeń dla jednej poprawki\n",
    "  * w rzeczywistości najwazniejszy jest stosunek `learning_rate / batch_size`\n",
    "    * będzie na ćwiczeniach\n",
    "3. preprocessing\n",
    "4. rozróżnienie uczenia w różnych kierunkach\n",
    "5. metody wyższych rzędów"
   ]
  },
  {
   "cell_type": "markdown",
   "metadata": {},
   "source": [
    "## Momentum\n",
    "1. podąża w kierunku największego spadku\n",
    "  * pamięta zwolnienia/przyspieszenia\n",
    "  $$E(W_t+v_t)=E(W_t)+v_t\\nabla{}E(W_t)+O(v_t^2)$$\n",
    "  * krok $$v_t=-\\alpha\\nabla{}E(W_t)$$ __zmniejszy__ wartość $E()$\n",
    "2. __metoda momentum__\n",
    " $$\\begin{align}v_{t}&=-\\alpha\\nabla{}E(W_t)+\\lambda{}v_{t-1}\\\\\n",
    " W_{t+1}&=W_{t}+v_{t}\n",
    " \\end{align}$$\n",
    "   * $\\lambda\\in[0,1)$, zwykle $\\lambda=0.9$\n",
    "   * dobry wybór: $\\alpha=0.1, \\lambda=0.9$\n",
    "     * poźniejsza modyfikacja wielkością batcha\n",
    "3. pamięta jedynie by podążać w głównym kierunku\n",
    "  * nie patrzy wprzód\n",
    " <img src=\"nn_figures/sgd-various-speed.gif\" width=\"80%\"> \n"
   ]
  },
  {
   "cell_type": "markdown",
   "metadata": {},
   "source": [
    "## Regularyzacja\n",
    "1. poprawia regularyzację\n",
    "  * ogranicza przestrzeń funkcji możliwych do realizacji\n",
    "  * typowa brzytwa Ockhama\n",
    "2. Weight decay\n",
    "  $$\\begin{align}\n",
    "  w_{t}&=w_{t-1}-\\alpha\\nabla{}E(w_{t-1})-\\lambda{}w_{t-1}\\\\\n",
    "  &=(1-\\lambda)w_{t-1}-\\alpha\\nabla{}E(w_{t-1})\n",
    "  \\end{align}$$\n",
    "3. regularyzacja L2\n",
    "  $$E(w)=E(w)+\\frac{1}{2}\\lambda\\|w\\|^2_2$$\n",
    "    * gradient $E$\n",
    "    $$\\nabla{}E(w)=\\nabla{}E(w)+\\lambda{}w$$\n",
    "4. kontroluje nieograniczony wzrost wag\n",
    "5. biblioteki dodają czynnik L2 albo bezpośrednio modyfikują gradient\n",
    "6. okazuje się, że L2 i weight decay __nie są równoważne__!"
   ]
  },
  {
   "cell_type": "markdown",
   "metadata": {},
   "source": [
    "## SGD z momentum: L2 czy weight decay\n",
    "1. oznaczenia (dla zgodności z późniejszym Adam)\n",
    "  * $\\alpha$ współczynnik uczenia\n",
    "  * $\\beta_1$ momentum\n",
    "  * $\\beta_2$ drugi współczynnik momentu (Adam)\n",
    "  * $\\lambda_t$ weight decay\n",
    "  * $\\eta_t$ współczynnik schematu uczenia (stały, malejący, zmienny)\n",
    "  * $m_t$ wektor przesunięcia ($m_{t=0}=0$)\n",
    "  * $v_t$ drugi wektor przesunięcia (Adam, $v_{t=0}=0$)\n",
    "  \n",
    "| SGD z momentum  plus regularyzacja L2                | SGD z momentum plus weight decay       |\n",
    "|--------------------------------------------------------------------------------------------------------------------------------------|:------------------------------------------|\n",
    "| $t=t+1$                                   | $t=t+1$                                   |\n",
    "| $g_t=\\nabla{}E(w_{t-1})+\\lambda_tw_{t-1}$ | $g_t=\\nabla{}E(w_{t-1})$                  |\n",
    "| $\\eta_t=scheduleMultiplier(t)$            | $\\eta_t=scheduleMultiplier(t)$            |\n",
    "| $m_t=\\beta_1{}m_{t-1}+\\eta_t\\alpha_tg_t$  | $m_t=\\beta_1{}m_{t-1}+\\eta_t\\alpha_tg_t$  |\n",
    "| $w_t=w_{t-1}- m_t$                        | $w_t=w_{t-1}- m_t-\\eta_t\\lambda_tw_{t-1}$ |\n",
    "2. wbrew pozorom poprawki różnią się, co może mieć wpływ\n",
    "  * dla definicji funkcji kosztu z regularyzacją L2\n",
    "  $$\\begin{align}\n",
    "  w_t&=w_{t-1}- m_t\\\\\n",
    "  &=w_{t-1}-\\beta_1{}m_{t-1}-\\eta_t\\alpha_tg_t\\\\\n",
    "  &=w_{t-1}-\\beta_1{}m_{t-1}-\\eta_t\\alpha_t(\\nabla{}E(w_{t-1})+\\lambda_tw_{t-1})\\\\\n",
    "  &=w_{t-1}-\\beta_1{}m_{t-1}-\\eta_t\\alpha_t\\nabla{}E(w_{t-1})-\\mathbf{\\eta_t\\alpha_t\\lambda_tw_{t-1}}\n",
    "  \\end{align}$$\n",
    "    * współczynniki uczenia $\\alpha_t$ i weight decay $\\lambda_t$ są ze sobą związane\n",
    "    * trudno jest wybrać jeden niezależnie od drugiego\n",
    "  * dla SGD z weight decay\n",
    "  $$\\begin{align}\n",
    "  w_t&=w_{t-1}- m_t-\\eta_t\\lambda_tw_{t-1}\\\\\n",
    "  &=w_{t-1}-\\beta_1{}m_{t-1}-\\eta_t\\alpha_tg_t-\\eta_t\\lambda_tw_{t-1}\\\\\n",
    "  &=w_{t-1}-\\beta_1{}m_{t-1}-\\eta_t\\alpha_t\\nabla{}E(w_{t-1})-\\mathbf{\\eta_t\\lambda_tw_{t-1}}\n",
    "  \\end{align}$$\n",
    "    * oczywiście można znaleźć $\\lambda'=\\alpha\\lambda$ i rozwiązania będą identyczne, ale modyfikacje $\\alpha_t$ i $\\lambda_t$ utrudniają proces i prostą analizę\n",
    "    * $\\alpha_t$ i $\\lambda_t$ są niezależne, co powinno ułatwiać szukanie hiperparametrów\n",
    "  <img src=\"nn_figures/sgd_momentum.pdf\" width=\"100%\">[Loshchilov, Hutter, arXiv:1711.05101]  \n",
    "  "
   ]
  },
  {
   "cell_type": "markdown",
   "metadata": {},
   "source": [
    "## Metoda Nesterova \n",
    "1. spojrzenie __wprzód__ z oszacowaniem nowego $w_{t+1}$\n",
    "  * gradient obliczany w nowym miejscu\n",
    "  $$\\begin{align}\n",
    "  v_{t+1}&=(1+\\beta)w_t-\\beta{}w_{t-1}\\\\\n",
    "  &=w_t+\\beta(w_t-w_{t-1})\\\\\n",
    "  w_{t+1}&=v_{t+1}-\\alpha\\nabla{}E(v_{t+1})\\\\\n",
    "  &=w_{t}+\\beta(w_t-w_{t-1})-\\alpha\\nabla{}E(v_{t+1})\n",
    "  \\end{align}$$\n",
    "  * $v_{t+1}$: położenie po pewnej ekstrapolacji na podstawie poprzednich zmian\n",
    "3. __optymalny__ dla optymalizacji wypukłej\n",
    "  * __wygładza__ ostatnie dwie wartości $w$\n",
    "  * __ekstrapoluje__ obliczając gradient w tym nowym punkcie\n",
    "  * tak jak momentum __kontunuuje__ poprawianie $W$ w poprzednim kierunku\n",
    "  $$\\begin{align}\n",
    "  v_{t+1}&=-\\alpha\\nabla{}E(w_{t}+\\beta{}v_t)+\\beta{}v_t\\\\\n",
    "  w_{t+1}&=w_{t}+v_{t+1}\n",
    "  \\end{align}$$\n",
    "4. __parametry__\n",
    "  * __uczenia__ $\\alpha$ ustalony w eksperymentach; $0.1$ bezpieczne\n",
    "  * __momentum Nesterova__ \n",
    "    * zwykle rosnący schemat $\\beta_t=1-3/(5+t)$\n",
    "    * w dalszych iteracjach dalej wybiega wprzód\n",
    " <img src=\"nn_figures/nesterov.png\" width=\"100%\">"
   ]
  },
  {
   "cell_type": "markdown",
   "metadata": {},
   "source": [
    "# Metody adaptacyjne\n",
    "1. jest szereg postulatów, które powinny zwiększać prędkość\n",
    "  * parametry uczenia mogą się zmieniać w trakcie uczenia\n",
    "  * przyspieszanie/zwalnianie w zależności od znaku pochodnej w kolejnych iteracjach"
   ]
  },
  {
   "cell_type": "markdown",
   "metadata": {},
   "source": [
    "## Reguła delta-delta i pochodne\n",
    "1. każdy kierunek w przestrzeni danych może się uczyć z różną prędkością\n",
    "2. a może niech każdy parametr $w_{ji}$ ma osobny __modyfikowalny__ współczynnik uczenia $\\alpha_{ji}$?\n",
    "3. jak go zmieniać?\n",
    "  * inaczej, jaki jest jego wpływ na funkcję kosztu?\n",
    "  $$\\frac{\\partial E}{\\partial \\alpha_{ji}}=\\frac{\\partial E}{\\partial y_j}\\frac{\\partial y_j}{\\partial v_j}\\frac{\\partial v_j}{\\partial \\alpha_{ji}}$$\n",
    "  gdzie $\\alpha_{ji}=\\alpha_{ji}(t)$ jest zależne od kroku, oraz\n",
    "  $$\\begin{align}\n",
    "  w_{ji}(t)&=w_{ji}(t-1)-\\alpha_{ji}\\frac{\\partial E_{t-1}}{\\partial y_{j, t-1}}\\\\\n",
    "  v_j&=\\sum_iw_{ji}y_i\\\\\n",
    "  &=\\sum_iy_i\\left(w_{ji}(t-1)-\\alpha_{ji}\\frac{\\partial E_{t-1}}{\\partial y_{j, t-1}}\\right)\n",
    "  \\end{align}$$\n",
    "  \n",
    "  Podstawiając odpowiednie elementy (proszę sprawdzić) dostaniemy ciekawy wynik\n",
    "  $$\n",
    "  \\frac{\\partial E(t)}{\\partial \\alpha_{ji}(t)}=\\frac{\\partial E(t)}{\\partial w_{ji}(t)}\\frac{\\partial E(t-1)}{\\partial w_{ji}(t-1)}\n",
    "  $$\n",
    "    * wpływ $\\alpha_{ji}$ na koszt jest równy iloczynowi wpływów na koszt odpowiadającej wagi $w_{ji}$ w ostatnich __dwóch__ krokach\n",
    "      * liczymy po $w_{ji}$, więc to wartości skalarne\n",
    "      * jeśli gardienty po wagach miały w ostatnich iteracjach ten sam znak, to uczenie trzeba przyspieszyć\n",
    "      * jeśli przeciwny, to zwolnić!\n",
    "      * nie ma żadnych dodatkowych obliczeń!!!\n",
    "    * regguła __delta-delta__\n",
    "    $$\\begin{align}\n",
    "    \\alpha_{ji}&=\\alpha_{ji}-\\gamma\\frac{\\partial E}{\\partial \\alpha_{ji}}\\\\\n",
    "    &=\\alpha_{ji}-\\gamma\\frac{\\partial E(t)}{\\partial w_{ji}(t)}\\frac{\\partial E(t-1)}{\\partial w_{ji}(t-1)}\n",
    "    \\end{align}$$\n",
    "2. ta reguła jest bardzo niestabilna\n",
    "  * patrz wybuchajace/zanikajace gradienty\n",
    "  * dwie kolejne małe/duże wartosci mogą totalnie nagle zmienić $\\alpha_{ji}$\n",
    "3. dla stabilności zmiany przez \n",
    "  * mnożenie przez stały czynnik dla wzrostu/spadku $\\alpha$\n",
    "  * (__delta-bar-delta__) wzrost przez __dodanie__ małej wartosci, spadek przez mnożenie przez stały czynnik w zależności od znaku iloczynu gradientów\n",
    "  \n",
    "4. resilient propagation\n",
    "  * delta-delta i jej modyfikacje w dalszym ciągu niestabilne\n",
    "  * zmiany wag uzależnione jedynie od __znaku__ gradientu: zmiana jedynie gdy gradienty zgodne\n",
    "  $$w_{ji}=w_{ji}-\\alpha_{ji}(t)\\,sgn(\\nabla_{ji}E(t))\\;\\;\\;iff \\;\\;\\;\\nabla_{ji}E(t)\\nabla_{ji}E(t)\\geq0$$\n",
    "  * w przeciwnym wypadku wagi są nie zmieniane a gradient zerowany $\\nabla_{ji}E(t)=0$\n",
    "    * __wyhamowanie__ w miejscu, zamiast zwolnienia, gdy uczenie wpada oscylacje\n",
    "  * prędkość uczenia jest przejmowana przez wartość $\\alpha_{ji}$\n",
    "  $$\n",
    "  \\alpha_{ji}(t+1)=\\left\\{\n",
    "  \\begin{align}\n",
    "  min(u\\cdot\\alpha_{ji},\\alpha_{max})&\\nabla_{ji}E(t)\\hskip{3em}\\nabla_{ji}E(t)\\nabla_{ji}E(t-1)>0\\\\\n",
    "  max(d\\cdot\\alpha_{ji},\\alpha_{min})&\\nabla_{ji}E(t)\\hskip{3em}\\nabla_{ji}E(t)\\nabla_{ji}E(t-1)<0\\\\\n",
    "  \\alpha_{ji}(t)&\n",
    "  \\end{align}\n",
    "  \\right.\n",
    "  $$\n",
    "  dla $u>1 \\;(\\simeq1.05),\\; d<1 \\;(\\simeq0.8)$\n",
    "  * na płaskim obszarze algorytm przyspiesza\n",
    "  * pochłania ewentualne oscylacje\n",
    "  * ale oczywiście są już lepsze\n",
    "  \n",
    "5. to typowe algorytmy __adaptujące__\n",
    "  * zbierają statystykę ostatnich zmian\n",
    "  * jednak tylko dwóch ostatnich, przestają być odporne, gdy są małe oscylacje\n",
    "  * do wszystkich można dodać czynnik momentum"
   ]
  },
  {
   "cell_type": "markdown",
   "metadata": {},
   "source": [
    "## Adam  \n",
    "|Adam z momentum plus regularyzacja L2    |Adam z momentum plus regularyzacja weight decay|\n",
    "|-------------------------------------------|---------------------------------------|\n",
    "| $t=t+1$                                   | $t=t+1$                               |\n",
    "| $g_t=\\nabla{}E(w_{t-1})\\mathbf{+\\lambda_tw_{t-1}}$ | $g_t=\\nabla{}E(w_{t-1})$     |\n",
    "| $m_t=\\beta_1m_{t-1}+(1-\\beta_1)g_t$       | $m_t=\\beta_1m_{t-1}+(1-\\beta_1)g_t$   |\n",
    "| $v_t=\\beta_2v_{t-1}+(1-\\beta_2)g_t^2$     | $v_t=\\beta_2v_{t-1}+(1-\\beta_2)g_t^2$ |\n",
    "| $\\widehat{m}_t=m_t/(1-\\beta_1^t)$         | $\\widehat{m}_t=m_t/(1-\\beta_1^t)$     |\n",
    "| $\\widehat{v}_t=v_t/(1-\\beta_2^t)$         | $\\widehat{v}_t=v_t/(1-\\beta_2^t)$     |\n",
    "| $\\eta_t=scheduleMultiplier(t)$            | $\\eta_t=scheduleMultiplier(t)$        |\n",
    "| $w_t=w_{t-1}-\\eta_t\\alpha{}\\widehat{m}/(\\sqrt{\\widehat{v}_t}+\\epsilon)$| $w_t=w_{t-1}-\\eta_t\\left(\\alpha{}\\widehat{m}/(\\sqrt{\\widehat{v}_t}+\\epsilon)\\mathbf{+\\lambda_tw_{t-1}}\\right)$|\n",
    "1. metoda adaptacyjna\n",
    "2. $v_t$ przechowuje wygładzone amplitudy gradientów dla parametrów\n",
    "  * normalizuje gradienty parametrów przez wartość $\\sqrt{\\widehat{v}_t}+\\epsilon$\n",
    "  * w ten sposób momentum mało przypomina oryginalną definicję weight decay chociaż odpowiada kosztowi L2\n",
    "3. w rozwiązaniu z wbudowanym kosztem L2 współczynniki uczenia $\\alpha$ i decay $\\lambda$ są ze sobą splatane\n",
    "  * rozwiniecie do weight decay uniezależnia je\n",
    "3. w problemach rozpoznawania obrazów SGD z momentum radzi sobie najlepiej!"
   ]
  },
  {
   "cell_type": "markdown",
   "metadata": {},
   "source": [
    "1. Adam z weight decay i rozdzielonoymi hiperparametrami uczenia $\\alpha$ i deacay $\\lambda$ uczy się lepiej dając sporo lepszą generalizację\n",
    "<img src=\"nn_figures/adam-learn.pdf\" width=\"100%\">\n",
    "2. Adam z rozdzielonymi $\\alpha$ i $\\lambda$ może uczyć się o wiele dłużej dając lepszą generalizację\n",
    "  * szczególnie istotne z powodu normalizacji $m_t$ i $v_t$ przez coraz  bardziej zanikające czynniki $(1-\\beta_1^t)$ i $(1-\\beta_2^t)$"
   ]
  },
  {
   "cell_type": "markdown",
   "metadata": {},
   "source": [
    "# Zmienny schemat uczenia (warm restart)\n",
    "1. typowa metoda dla algorytmów nie-gradientowych, np. optymalizacje metodami genetycznymi\n",
    "  * szczególnie gdy funkcje są _wielomodalne_ i chcemy znaleźć więcej minimów/maksimów\n",
    "  * w gradientowych przyspiesza zbieżność\n",
    "2. co pewien czas schemat uczenia (hiper-parametry) są wzburzane, co pomaga na dotarcie do innych minimów niż dotąd znalezione\n",
    "3. schemat warm-restart może być łatwo zrealizowany przez zdefiniowanie schematu zmiany $\\eta_t$\n",
    "4. kiedy pownien być restart? według jednej z prac\n",
    "  * gdy funkcja celu zaczyna rosnąć\n",
    "  * gdy kąt miedzy momentum a negatywnym gradientem jest __rozwarty__\n",
    "    * momentum prowadzi prawdopodobnie w złym kierunku\n",
    "5. [Loshchilov i Hutter] proponują schemat\n",
    "$$\\eta_t=\\eta^i_{min}+(\\eta_{max}^i-\\eta^i_{min})(1+cos(\\pi t_i/T_i))/2$$\n",
    "  gdzie \n",
    "  * $\\eta_{max}^i, \\eta^i_{min}$ maksymalne i minimalna wartość $\\eta_t$ w $i$-tym restarcie\n",
    "    * mogą być zmienne: zmniejszanie w kolejnych restartach może poprawiać zbieżność\n",
    "  * $T_i$ długość $i$-tego restartu\n",
    "  * $t_i$ numer iteracji w $i$-tym restarcie\n",
    "  * długości restartów powinny być coraz większe, np. wedłig $T_{i+1}=2 T_i$\n",
    "6. schemat restartów działa __dopiero__ po rozdzieleniu $\\alpha$ i $\\lambda$"
   ]
  },
  {
   "cell_type": "code",
   "execution_count": 16,
   "metadata": {},
   "outputs": [
    {
     "data": {
      "image/png": "[encoded data removed]",
      "text/plain": [
       "<matplotlib.figure.Figure at 0x10c2b83c8>"
      ]
     },
     "metadata": {},
     "output_type": "display_data"
    }
   ],
   "source": [
    "def lrst(t, rest): \n",
    "    return np.sum((t - rest) >= 0) - 1\n",
    "\n",
    "eta_min = 0\n",
    "eta_max = 1\n",
    "restarts = np.array((0, 100, 300, 700, 1500))\n",
    "eta_maxes = np.array((1, 0.975, 0.925, 0.825))\n",
    "eta_mins = np.array([0.1, 0.08, 0.04, 0.0])\n",
    "eta = []\n",
    "for t in range(restarts[-1]):\n",
    "    lst_rst = lrst(t, restarts)\n",
    "    t_i = restarts[lst_rst + 1] - restarts[lst_rst]\n",
    "    t_cur = t - restarts[lst_rst]\n",
    "    eta_min = eta_mins[lst_rst]\n",
    "    eta_max = eta_maxes[lst_rst]\n",
    "    eta.append(eta_min + (eta_max - eta_min) * (1 + np.cos(np.pi * t_cur / t_i)) / 2)\n",
    "\n",
    "fg = plt.figure(figsize=(14, 7))\n",
    "plt.plot(range(restarts[-1]), eta)\n",
    "plt.show()"
   ]
  },
  {
   "cell_type": "markdown",
   "metadata": {},
   "source": [
    "1. restartowanie przyspiesza uczenie\n",
    "2. każdy restart wzburza parametry (wagi) tak, że błąd rośnie chwilowo\n",
    "<img src=\"nn_figures/warm-restart.pdf\" width=\"100%\">"
   ]
  },
  {
   "cell_type": "code",
   "execution_count": null,
   "metadata": {},
   "outputs": [],
   "source": []
  }
 ],
 "metadata": {
  "kernelspec": {
   "display_name": "Python 3",
   "language": "python",
   "name": "python3"
  },
  "language_info": {
   "codemirror_mode": {
    "name": "ipython",
    "version": 3
   },
   "file_extension": ".py",
   "mimetype": "text/x-python",
   "name": "python",
   "nbconvert_exporter": "python",
   "pygments_lexer": "ipython3",
   "version": "3.6.4"
  }
 },
 "nbformat": 4,
 "nbformat_minor": 2
}
