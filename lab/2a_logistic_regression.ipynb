{
 "cells": [
  {
   "cell_type": "markdown",
   "metadata": {},
   "source": [
    "# Binomial logistic regression in numpy\n",
    "\n",
    "In this notebook we will refresh our knowledge of linear models. This notebook assumes familiarity with basic machine learning concepts. See \"Resources\" section for material if you are unfamiliar with some of the concepts.\n",
    "\n",
    "Your tasks will be:\n",
    "\n",
    "* Implement binary logistic regression using numpy\n",
    "* Implement SGD training loop \n",
    "\n",
    "Goal is to:\n",
    "\n",
    "* Get accustomed with the environment and grading\n",
    "* Refresh our numpy skills\n",
    "* Refresh our machine learning knowledge\n",
    "\n",
    "Next up:\n",
    "\n",
    "* Implementing multinomial logistic regression in PyTorch\n",
    "\n",
    "\n",
    "## Resources\n",
    "\n",
    "If content of this notebook is new, confusing or difficult - don't worry! Check out the following resources:\n",
    "* Logistic regression:  https://www.coursera.org/learn/neural-networks-deep-learning/lecture/yWaRd/logistic-regression-cost-function\n"
   ]
  },
  {
   "cell_type": "markdown",
   "metadata": {},
   "source": [
    "# Imports, data"
   ]
  },
  {
   "cell_type": "code",
   "execution_count": 1,
   "metadata": {},
   "outputs": [
    {
     "name": "stderr",
     "output_type": "stream",
     "text": [
      "/home/kg/miniconda3/envs/nn2018/lib/python3.6/site-packages/h5py/__init__.py:34: FutureWarning: Conversion of the second argument of issubdtype from `float` to `np.floating` is deprecated. In future, it will be treated as `np.float64 == np.dtype(float).type`.\n",
      "  from ._conv import register_converters as _register_converters\n",
      "Using TensorFlow backend.\n"
     ]
    }
   ],
   "source": [
    "%load_ext autoreload\n",
    "%autoreload 2\n",
    "\n",
    "import numpy as np\n",
    "import tqdm\n",
    "import json\n",
    "\n",
    "from keras.datasets import fashion_mnist\n",
    "from keras.utils import np_utils\n",
    "\n",
    "%matplotlib inline\n",
    "import matplotlib.pylab as plt\n",
    "\n",
    "import matplotlib as mpl\n",
    "mpl.rcParams['lines.linewidth'] = 2\n",
    "mpl.rcParams['figure.figsize'] = (7, 7)\n",
    "mpl.rcParams['axes.titlesize'] = 12\n",
    "mpl.rcParams['axes.labelsize'] = 12"
   ]
  },
  {
   "cell_type": "code",
   "execution_count": 2,
   "metadata": {
    "collapsed": true
   },
   "outputs": [],
   "source": [
    "# Get FashionMNIST (see 1b_FMNIST.ipynb for data exploration)\n",
    "(x_train, y_train), (x_test, y_test) = fashion_mnist.load_data()\n",
    "\n",
    "# Logistic regression needs 2D data\n",
    "x_train = x_train.reshape(-1, 784)\n",
    "x_test = x_test.reshape(-1, 784)\n",
    "\n",
    "# 0-1 normalization\n",
    "x_train = x_train / 255.\n",
    "x_test = x_test / 255.\n",
    "\n",
    "# For simplicity - implicit bias\n",
    "x_train = np.concatenate([np.ones_like(x_train[:, 0:1]), x_train], axis=1)\n",
    "x_test = np.concatenate([np.ones_like(x_test[:, 0:1]), x_test], axis=1)\n",
    "\n",
    "# Use only first 1k examples. Just for notebook to run faster\n",
    "x_train, y_train = x_train[0:1000], y_train[0:1000]\n",
    "x_test, y_test = x_test[0:1000], y_test[0:1000]\n",
    "\n",
    "# Cast as binary\n",
    "y_train = (y_train == 0).astype(\"int\")\n",
    "y_test = (y_test == 0).astype(\"int\")"
   ]
  },
  {
   "cell_type": "markdown",
   "metadata": {},
   "source": [
    "## Numpy primer\n",
    "\n",
    "This section introduces useful concepts from Numpy to complete the notebook"
   ]
  },
  {
   "cell_type": "markdown",
   "metadata": {},
   "source": [
    "<img src=\"https://github.com/gmum/nn2018/raw/master/lab/fig/2/python-comic-2.png\">"
   ]
  },
  {
   "cell_type": "code",
   "execution_count": 3,
   "metadata": {},
   "outputs": [
    {
     "name": "stdout",
     "output_type": "stream",
     "text": [
      "a:  [1 2 3 4]\n",
      "Pierwszy element:  1\n",
      "Drugi element!:  2\n",
      "a+1: [2 3 4 5]\n",
      "2*a: [2 4 6 8]\n",
      "b:  [1 2 3 4]\n",
      "Iloczyn skalarny <a,b>:  30\n"
     ]
    }
   ],
   "source": [
    "a = np.array([1, 2, 3, 4])\n",
    "print(\"a: \", a)\n",
    "print(\"Pierwszy element: \", a[0])\n",
    "print(\"Drugi element!: \", a[1])\n",
    "print(\"a+1:\", a + 1)\n",
    "print(\"2*a:\", 2*a)\n",
    "b = np.array([1, 2, 3, 4])\n",
    "print(\"b: \", b)\n",
    "print(\"Iloczyn skalarny <a,b>: \", np.inner(a,b))"
   ]
  },
  {
   "cell_type": "markdown",
   "metadata": {},
   "source": [
    "# Logistic regression\n",
    "\n",
    "## Model\n",
    "\n",
    "\n",
    "Class prediction is given by:\n",
    "\n",
    "<br>\n",
    "<font size=4>\n",
    "$ p(\\textbf{y = 1} | \\textbf{x}, \\textbf{w}) = \\sigma(\\langle\\textbf{w}, \\textbf{x}\\rangle)$\n",
    "</font>\n",
    "\n",
    ", where $\\sigma(z) = \\frac{1}{1 + \\exp(-z)}$.\n",
    "\n",
    "http://www.deeplearningbook.org/, Ch.1.\n",
    "\n",
    "<img width=600 src=\"https://github.com/gmum/nn2018/raw/master/lab/fig/1/fig4.png\">\n",
    "\n",
    "\n",
    "Loss is given by the cross-entropy loss:\n",
    "\n",
    "<br>\n",
    "<font size=4>\n",
    "$ L(\\textbf{w}) = - \\frac{1}{N} (\\sum_i y_i \\log(p(\\textbf{y=1} | \\textbf{x_i}, \\textbf{w})) + (1 - y_i) \\log(1 - p(\\textbf{y=1} | \\textbf{x_i}, \\textbf{w})))$\n",
    "</font>\n",
    "\n",
    "\n",
    "Ref: https://github.com/jcjohnson/pytorch-examples"
   ]
  },
  {
   "cell_type": "markdown",
   "metadata": {},
   "source": [
    "# Gradient Descent\n",
    "\n",
    "\n",
    "<img width=300 src=\"https://github.com/gmum/nn2018/raw/master/lab/fig/2/gd.png\">\n",
    "<br>\n",
    "\n",
    "## Logistic regression\n",
    "\n",
    "<img width=600 src=\"https://github.com/gmum/nn2018/raw/master/lab/fig/2/graph_logreg.png\">\n",
    "<br>\n",
    "\n",
    "Gradient of the loss is given by:\n",
    "\n",
    "<br>\n",
    "<font size=5>\n",
    "$ \\frac{\\partial L(\\textbf{w})}{\\partial \\textbf{w}_i} = \\frac{1}{N} \\sum_{i=1}^{N} \\frac{\\partial L(\\textbf{x_i, w})}{\\partial \\textbf{w}_i} = \\frac{1}{N} \\sum_{i=1}^{N} x_i (p_j - y_j)$\n",
    "</font>\n",
    "\n",
    ", where $p_i$ denotes prediction of the model on $i^{th}$ example\n"
   ]
  },
  {
   "cell_type": "markdown",
   "metadata": {},
   "source": [
    "# Implementation"
   ]
  },
  {
   "cell_type": "code",
   "execution_count": 4,
   "metadata": {
    "collapsed": true
   },
   "outputs": [],
   "source": [
    "def cross_entropy_loss(y_pred, y):\n",
    "    \"\"\"\n",
    "    Parameters\n",
    "    ----------\n",
    "    y_pred: np.arrary, shape: (batch_size,)\n",
    "        Probabiities\n",
    "    y: np.array, shape: (batch_size,)\n",
    "        Correct classes\n",
    "    \n",
    "    Returns\n",
    "    -------\n",
    "    loss: float\n",
    "        Cross entropy loss\n",
    "    \"\"\"\n",
    "    return - np.mean(y * np.log(y_pred) + (1 - y) * np.log(1 - y_pred))\n",
    "\n",
    "def sigmoid(z): \n",
    "    \"\"\"\n",
    "    Parameters\n",
    "    ----------\n",
    "    z: np.arrary, shape: (batch_size,)\n",
    "        Logits\n",
    "\n",
    "    Returns\n",
    "    -------\n",
    "    y_pred: np.arrary, shape: (batch_size,)\n",
    "        Probabiities\n",
    "    \"\"\"\n",
    "    return 1 / (1 + np.exp(-z))\n",
    "\n",
    "\n",
    "def gradient(y_pred, y, x): \n",
    "    \"\"\"\n",
    "    Parameters\n",
    "    ----------\n",
    "    y_pred: np.arrary, shape: (batch_size,)\n",
    "        Probabiities\n",
    "    y: np.array, shape: (batch_size,)\n",
    "        Correct classes\n",
    "    x: np.array, shape: (batch_size, D)\n",
    "        Logits\n",
    "        \n",
    "    Returns\n",
    "    -------\n",
    "    grad: np.array, shape: (D, )\n",
    "        Array representing gradient of loss wrt to weight vector\n",
    "    \"\"\"\n",
    "    batch_size = len(y)\n",
    "    r = (y_pred - y).reshape(1, batch_size)\n",
    "    return (r.T * x).mean(axis=0)\n",
    "\n",
    "def forward(x, w):\n",
    "    return sigmoid(x.dot(w))\n",
    "\n",
    "def evaluate(w):\n",
    "    y_test_pred = forward(x_test, w)\n",
    "    return np.mean((y_test_pred>0.5) == y_test)"
   ]
  },
  {
   "cell_type": "code",
   "execution_count": 5,
   "metadata": {
    "collapsed": true
   },
   "outputs": [],
   "source": [
    "# Asserts to help you implement the functions.\n",
    "D = 785\n",
    "\n",
    "x = x_train[0:100]\n",
    "y = y_train[0:100]\n",
    "w = 0.01*np.ones_like(x_train[0, :])\n",
    "y_pred = forward(x, w)\n",
    "\n",
    "yours = forward(x, w)[0:4]\n",
    "correct = [0.95257767, 0.96536256, 0.75657633, 0.86287448]\n",
    "assert np.allclose(yours, correct, atol=0.01)\n",
    "\n",
    "yours = cross_entropy_loss(y_pred, y)\n",
    "correct = 2.087\n",
    "assert np.abs(yours - correct) < 0.01\n",
    "\n",
    "yours = gradient(y_pred, y, x)[0:4]\n",
    "correct = [7.53742754e-01, 0.00000000e+00, 0.00000000e+00, 3.50197809e-05]\n",
    "assert np.allclose(yours, correct, atol=0.01)"
   ]
  },
  {
   "cell_type": "code",
   "execution_count": 6,
   "metadata": {
    "collapsed": true
   },
   "outputs": [],
   "source": [
    "def train_logistic_regression(lr=0.1, n_epochs=100, batch_size=100):\n",
    "    \"\"\"\n",
    "    Parameters\n",
    "    ----------\n",
    "    lr: float\n",
    "        Learning rate used in SGD\n",
    "    n_epochs: int\n",
    "        Number of epochs to train\n",
    "    use_autograd: bool\n",
    "        If true will use PyTorch autograd\n",
    "    \n",
    "    Returns\n",
    "    -------\n",
    "    w: np.array, shape: (D_in, D_out)\n",
    "        Found parameters\n",
    "    \"\"\"\n",
    "    \n",
    "    n_epochs = 100\n",
    "    batch_size = 100\n",
    "    learning_rate = 0.1\n",
    "\n",
    "    # 784 + bias -> 1 model\n",
    "    D = 784 + 1\n",
    "\n",
    "    # Define all Variables used in the computation\n",
    "    w = np.random.normal(size=(D, ))\n",
    "    \n",
    "    loss_history = []\n",
    "    for epoch in tqdm.tqdm(range(n_epochs), total=n_epochs):    \n",
    "        for batch in range(len(x_train) // batch_size):\n",
    "            # Sample data\n",
    "            x_batch = x_train[batch*batch_size:(batch+1)*batch_size]\n",
    "            y_batch = y_train[batch*batch_size:(batch+1)*batch_size]\n",
    "            \n",
    "            y_pred = forward(x_batch, w)\n",
    "            loss = cross_entropy_loss(y_pred, y_batch)\n",
    "\n",
    "            if batch == 0:\n",
    "                loss_history.append(loss)\n",
    "\n",
    "            # Compute grad_w\n",
    "            grad_w = gradient(y_pred, y_batch, x_batch)\n",
    "\n",
    "            # Update weights using gradient descent\n",
    "            w -= learning_rate * grad_w\n",
    "\n",
    "    plt.plot(loss_history)\n",
    "    plt.xlabel(\"Epoch\")\n",
    "    plt.ylabel(\"Loss\")\n",
    "    \n",
    "    return w"
   ]
  },
  {
   "cell_type": "markdown",
   "metadata": {},
   "source": [
    "# Tests\n",
    "\n",
    "Each notebook will terminate with Tests section. This will automatically grade and assign points."
   ]
  },
  {
   "cell_type": "code",
   "execution_count": 7,
   "metadata": {},
   "outputs": [
    {
     "name": "stderr",
     "output_type": "stream",
     "text": [
      "100%|██████████| 100/100 [00:00<00:00, 119.17it/s]\n"
     ]
    },
    {
     "name": "stdout",
     "output_type": "stream",
     "text": [
      "Evaluation results:\n",
      "===========\n",
      "{'test1': 1}\n"
     ]
    },
    {
     "data": {
      "image/png": "[encoded data removed]",
      "text/plain": [
       "<matplotlib.figure.Figure at 0x7f678643ff28>"
      ]
     },
     "metadata": {},
     "output_type": "display_data"
    }
   ],
   "source": [
    "result = {}\n",
    "result['test1'] = int(evaluate(train_logistic_regression(n_epochs=100, lr=0.1)) > 0.8)\n",
    "print(\"Evaluation results:\\n===========\")\n",
    "print(result)\n",
    "json.dump(result, open(\"2a_logistic_regression.json\", \"w\"))"
   ]
  }
 ],
 "metadata": {
  "kernelspec": {
   "display_name": "Python [conda env:nn2018]",
   "language": "python",
   "name": "conda-env-nn2018-py"
  },
  "language_info": {
   "codemirror_mode": {
    "name": "ipython",
    "version": 3
   },
   "file_extension": ".py",
   "mimetype": "text/x-python",
   "name": "python",
   "nbconvert_exporter": "python",
   "pygments_lexer": "ipython3",
   "version": "3.6.2"
  },
  "toc": {
   "toc_cell": false,
   "toc_number_sections": true,
   "toc_threshold": 6,
   "toc_window_display": false
  }
 },
 "nbformat": 4,
 "nbformat_minor": 1
}
