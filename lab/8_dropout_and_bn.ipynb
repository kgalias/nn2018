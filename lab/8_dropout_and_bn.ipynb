{
 "cells": [
  {
   "cell_type": "markdown",
   "metadata": {},
   "source": [
    "# Dropout and Batch Normalization\n",
    "\n",
    "In this notebook we will implement Dropout and Batch Normalization. Batch Normalization both improves generalization and training speed. Dropout is considered to be a regularization technique.\n",
    "\n",
    "Goal of this lab is to:\n",
    "\n",
    "* Implement and understand basic aspects of Dropout\n",
    "* Implement and understand basic aspects of Batch Normalization\n",
    "\n",
    "References:\n",
    "* \"Dropout: A Simple Way to Prevent Neural Networks from Overfitting\": https://www.cs.toronto.edu/~hinton/absps/JMLRdropout.pdf\n",
    "\n",
    "* \"Batch Normalization: Accelerating Deep Network Training by Reducing Internal Covariate Shift\": https://arxiv.org/abs/1502.03167"
   ]
  },
  {
   "cell_type": "markdown",
   "metadata": {},
   "source": [
    "# Setup"
   ]
  },
  {
   "cell_type": "code",
   "execution_count": 1,
   "metadata": {},
   "outputs": [
    {
     "name": "stderr",
     "output_type": "stream",
     "text": [
      "/home/kg/miniconda3/envs/nn2018/lib/python3.6/site-packages/h5py/__init__.py:34: FutureWarning: Conversion of the second argument of issubdtype from `float` to `np.floating` is deprecated. In future, it will be treated as `np.float64 == np.dtype(float).type`.\n",
      "  from ._conv import register_converters as _register_converters\n",
      "Using TensorFlow backend.\n"
     ]
    }
   ],
   "source": [
    "%load_ext autoreload\n",
    "%autoreload \n",
    "%matplotlib inline\n",
    "\n",
    "import json\n",
    "import matplotlib as mpl\n",
    "from src import fmnist_utils\n",
    "from src.fmnist_utils import *\n",
    "\n",
    "import torch\n",
    "from torch.autograd.function import InplaceFunction\n",
    "from torch.autograd import Variable\n",
    "from itertools import repeat\n",
    "from torch import nn\n",
    "from torch import optim"
   ]
  },
  {
   "cell_type": "code",
   "execution_count": 2,
   "metadata": {
    "collapsed": true
   },
   "outputs": [],
   "source": [
    "def plot(H):\n",
    "    plt.title(max(H['test_acc']))\n",
    "    plt.plot(H['acc'], label=\"acc\")\n",
    "    plt.plot(H['test_acc'], label=\"test_acc\")\n",
    "    plt.legend()\n",
    "\n",
    "mpl.rcParams['lines.linewidth'] = 2\n",
    "mpl.rcParams['figure.figsize'] = (7, 7)\n",
    "mpl.rcParams['axes.titlesize'] = 12\n",
    "mpl.rcParams['axes.labelsize'] = 12\n",
    "\n",
    "(x_train, y_train), (x_test, y_test) = fmnist_utils.get_data(which=\"mnist\")"
   ]
  },
  {
   "cell_type": "markdown",
   "metadata": {},
   "source": [
    "# Whiteboard exercises\n",
    "\n",
    "* (1.0, only this lab) Write equations for training and inference phase of Dropout. Explain inference mode of Dropout (see https://www.cs.toronto.edu/~hinton/absps/JMLRdropout.pdf, p 1531)\n",
    "* (0.5, only this lab) Write equations for training and inference phase of Batch Normalization\n",
    "* (0.5) Using either stability, or bias-variance perspective on generalization, argue why Dropout should prevent overfitting? \n",
    "* (0.5) Can Batch Normalization prevent vanishing gradient? How?\n",
    "* (1.0) Yet another perspective on generalization in Deep Networks is through the lenses of memorization, see https://arxiv.org/abs/1611.03530. Do you think Dropout prevents or encourages memorization? \n",
    "\n",
    "(And any left-out exercise from the previous lab)"
   ]
  },
  {
   "cell_type": "markdown",
   "metadata": {},
   "source": [
    "# Dropout\n",
    "\n",
    "Note: We use MNIST to be able to quickly and in a stable way fit data, which makes it a good target for studying generalization."
   ]
  },
  {
   "cell_type": "markdown",
   "metadata": {},
   "source": [
    "## Exercise 1: Implement and show better generalization of Dropout\n",
    "\n",
    "Answer the following questions using the provided starting code and model:\n",
    "\n",
    "a) What train and test accuracy did you achieve without dropout?\n",
    "\n",
    "b) What train and test accuracy did you achieve with dropout (best alpha)?\n",
    "\n",
    "Hint: use torch.rand()"
   ]
  },
  {
   "cell_type": "code",
   "execution_count": 3,
   "metadata": {
    "collapsed": true
   },
   "outputs": [],
   "source": [
    "class BernoulliDropout(nn.Module):\n",
    "    def __init__(self, alpha=1.0):\n",
    "        super(BernoulliDropout, self).__init__()\n",
    "        self.alpha = torch.Tensor([alpha])\n",
    "        \n",
    "    def forward(self, x):\n",
    "        \"\"\"\n",
    "        Sample noise e ~ B(alpha)\n",
    "        Multiply noise h = h_ * e\n",
    "        \"\"\"\n",
    "        if self.train():\n",
    "            return Variable(torch.rand(x.size()) > self.alpha).float() * x\n",
    "        else:\n",
    "            return (1 - self.alpha) * x"
   ]
  },
  {
   "cell_type": "code",
   "execution_count": 4,
   "metadata": {},
   "outputs": [
    {
     "name": "stderr",
     "output_type": "stream",
     "text": [
      "100%|██████████| 100/100 [00:06<00:00, 14.69it/s]\n",
      "  2%|▏         | 2/100 [00:00<00:07, 13.49it/s]"
     ]
    },
    {
     "name": "stdout",
     "output_type": "stream",
     "text": [
      "alpha: 0.0 | train: 1.0 | test: 0.842\n"
     ]
    },
    {
     "name": "stderr",
     "output_type": "stream",
     "text": [
      "100%|██████████| 100/100 [00:07<00:00, 13.05it/s]\n",
      "  2%|▏         | 2/100 [00:00<00:06, 14.85it/s]"
     ]
    },
    {
     "name": "stdout",
     "output_type": "stream",
     "text": [
      "alpha: 0.1 | train: 0.998 | test: 0.861\n"
     ]
    },
    {
     "name": "stderr",
     "output_type": "stream",
     "text": [
      "100%|██████████| 100/100 [00:07<00:00, 12.75it/s]\n",
      "  2%|▏         | 2/100 [00:00<00:06, 14.66it/s]"
     ]
    },
    {
     "name": "stdout",
     "output_type": "stream",
     "text": [
      "alpha: 0.2 | train: 0.985 | test: 0.844\n"
     ]
    },
    {
     "name": "stderr",
     "output_type": "stream",
     "text": [
      "100%|██████████| 100/100 [00:06<00:00, 14.56it/s]\n",
      "  2%|▏         | 2/100 [00:00<00:07, 13.01it/s]"
     ]
    },
    {
     "name": "stdout",
     "output_type": "stream",
     "text": [
      "alpha: 0.5 | train: 0.842 | test: 0.715\n"
     ]
    },
    {
     "name": "stderr",
     "output_type": "stream",
     "text": [
      "100%|██████████| 100/100 [00:06<00:00, 15.81it/s]"
     ]
    },
    {
     "name": "stdout",
     "output_type": "stream",
     "text": [
      "alpha: 0.8 | train: 0.133 | test: 0.13\n"
     ]
    },
    {
     "name": "stderr",
     "output_type": "stream",
     "text": [
      "\n"
     ]
    }
   ],
   "source": [
    "for alpha in [0.0, 0.1, 0.2, 0.5, 0.8]:\n",
    "    input_dim = 784\n",
    "    output_dim = 10\n",
    "    # alpha = 0.00\n",
    "    hidden_dims =  [50, 50, 50]\n",
    "    model = torch.nn.Sequential()\n",
    "    previous_dim = input_dim\n",
    "    for id, D in enumerate(hidden_dims):\n",
    "        model.add_module(\"dropout_{}\".format(id), BernoulliDropout(alpha))\n",
    "        model.add_module(\"linear_{}\".format(id), torch.nn.Linear(previous_dim, D, bias=True))\n",
    "        model.add_module(\"nonlinearity_{}\".format(id), torch.nn.ReLU())\n",
    "        previous_dim = D\n",
    "    model.add_module(\"final_layer\", torch.nn.Linear(D, output_dim, bias=True))\n",
    "\n",
    "    loss = torch.nn.CrossEntropyLoss(size_average=True)\n",
    "    optimizer = optim.SGD(model.parameters(), lr=0.1, momentum=0.9)\n",
    "    H = train(loss=loss, model=model, x_train=x_train, y_train=y_train,\n",
    "              x_test=x_test, y_test=y_test,\n",
    "              optim=optimizer, batch_size=128, n_epochs=100)\n",
    "\n",
    "    print(\"alpha:\", alpha, \"| train:\", max(H['acc']), \"| test:\", max(H['test_acc']))"
   ]
  },
  {
   "cell_type": "code",
   "execution_count": 5,
   "metadata": {
    "collapsed": true
   },
   "outputs": [],
   "source": [
    "answers = {\"a\": \"alpha: 0.0 | train: 1.0 | test: 0.842\", \"b\": \"alpha: 0.1 | train: 0.998 | test: 0.861\"}\n",
    "json.dump(answers, open(\"8_ex1.json\", \"w\"))"
   ]
  },
  {
   "cell_type": "code",
   "execution_count": 6,
   "metadata": {
    "scrolled": true
   },
   "outputs": [
    {
     "name": "stderr",
     "output_type": "stream",
     "text": [
      "100%|██████████| 100/100 [00:06<00:00, 15.41it/s]\n"
     ]
    },
    {
     "data": {
      "image/png": "[encoded data removed]",
      "text/plain": [
       "<matplotlib.figure.Figure at 0x7f90b06af2b0>"
      ]
     },
     "metadata": {},
     "output_type": "display_data"
    }
   ],
   "source": [
    "## Starting code\n",
    "\n",
    "input_dim = 784\n",
    "output_dim = 10\n",
    "alpha = 0.1\n",
    "hidden_dims =  [50, 50, 50]\n",
    "model = torch.nn.Sequential()\n",
    "previous_dim = input_dim\n",
    "for id, D in enumerate(hidden_dims):\n",
    "    model.add_module(\"dropout_{}\".format(id), BernoulliDropout(alpha))\n",
    "    model.add_module(\"linear_{}\".format(id), torch.nn.Linear(previous_dim, D, bias=True))\n",
    "    model.add_module(\"nonlinearity_{}\".format(id), torch.nn.ReLU())\n",
    "    previous_dim = D\n",
    "model.add_module(\"final_layer\", torch.nn.Linear(D, output_dim, bias=True))\n",
    "\n",
    "loss = torch.nn.CrossEntropyLoss(size_average=True)\n",
    "optimizer = optim.SGD(model.parameters(), lr=0.1, momentum=0.9)\n",
    "H = train(loss=loss, model=model, x_train=x_train, y_train=y_train,\n",
    "          x_test=x_test, y_test=y_test,\n",
    "          optim=optimizer, batch_size=128, n_epochs=100)\n",
    "\n",
    "plot(H)"
   ]
  },
  {
   "cell_type": "markdown",
   "metadata": {},
   "source": [
    "# Batch Normalization"
   ]
  },
  {
   "cell_type": "markdown",
   "metadata": {},
   "source": [
    "## Exercise 2: Implement Batch Normalization\n",
    "\n",
    "Answer the following questions using the provided starting code and model:\n",
    "\n",
    "a) What train and test accuracy did you achieve without BN?\n",
    "\n",
    "b) What train and test accuracy did you achieve with BN?\n",
    "\n",
    "c) Can you use a larger LR in network with BN?"
   ]
  },
  {
   "cell_type": "code",
   "execution_count": 7,
   "metadata": {
    "collapsed": true
   },
   "outputs": [],
   "source": [
    "def batch_norm(input, running_mean, running_var, weight, bias,\n",
    "    training, momentum, eps):\n",
    "    \n",
    "    running_mean.set_(momentum * running_mean + (1 - momentum) * input.mean(0).data)\n",
    "    running_var.set_(momentum * running_var + (1 - momentum) * input.var(0).data)\n",
    "    \n",
    "    if training:\n",
    "        return weight * (input - Variable(input.mean(0).data)) / Variable(torch.sqrt(input.var(0).data + eps)) + bias\n",
    "    else:\n",
    "        return weight * (input - running_mean) / torch.sqrt(running_var + eps) + bias\n",
    "    \n",
    "class BatchNorm(nn.Module):\n",
    "\n",
    "    def __init__(self, num_features, eps=1e-5, momentum=0.1):\n",
    "        super(BatchNorm, self).__init__()\n",
    "        self.num_features = num_features\n",
    "        self.eps = eps\n",
    "        self.momentum = momentum\n",
    "        self.weight = nn.Parameter(torch.Tensor(num_features))\n",
    "        self.bias = nn.Parameter(torch.Tensor(num_features))\n",
    "        self.register_buffer('running_mean', torch.zeros(num_features))\n",
    "        self.register_buffer('running_var', torch.ones(num_features))\n",
    "        self.reset_parameters()\n",
    "\n",
    "    def reset_parameters(self):\n",
    "        self.running_mean.zero_()\n",
    "        self.running_var.fill_(1)\n",
    "        self.weight.data.uniform_()\n",
    "        self.bias.data.zero_()\n",
    "\n",
    "    def _check_input_dim(self, input):\n",
    "        return NotImplemented\n",
    "\n",
    "    def forward(self, input):\n",
    "        return batch_norm(\n",
    "            input, self.running_mean, self.running_var, self.weight, self.bias,\n",
    "            self.training, self.momentum, self.eps)\n",
    "\n",
    "    def extra_repr(self):\n",
    "        return '{num_features}, eps={eps}, momentum={momentum}, affine={affine}, ' \\\n",
    "               'track_running_stats={track_running_stats}'.format(**self.__dict__)\n"
   ]
  },
  {
   "cell_type": "code",
   "execution_count": 8,
   "metadata": {
    "scrolled": true
   },
   "outputs": [
    {
     "name": "stderr",
     "output_type": "stream",
     "text": [
      "100%|██████████| 100/100 [00:02<00:00, 41.40it/s]"
     ]
    },
    {
     "name": "stdout",
     "output_type": "stream",
     "text": [
      "no bn | train: 0.458 | test: 0.422\n"
     ]
    },
    {
     "name": "stderr",
     "output_type": "stream",
     "text": [
      "\n"
     ]
    }
   ],
   "source": [
    "## Starting code\n",
    "\n",
    "input_dim = 784\n",
    "output_dim = 10\n",
    "hidden_dims =  [50, 50, 50]\n",
    "model = torch.nn.Sequential()\n",
    "previous_dim = input_dim\n",
    "for id, D in enumerate(hidden_dims):\n",
    "    lin = torch.nn.Linear(previous_dim, D, bias=True)\n",
    "    model.add_module(\"linear_{}\".format(id), lin)\n",
    "    #bn = BatchNorm(D)\n",
    "    #model.add_module(\"bn_{}\".format(id), bn)\n",
    "    model.add_module(\"nonlinearity_{}\".format(id), torch.nn.ReLU())\n",
    "    previous_dim = D\n",
    "model.add_module(\"final_layer\", torch.nn.Linear(D, output_dim, bias=True))\n",
    "\n",
    "loss = torch.nn.CrossEntropyLoss(size_average=True)\n",
    "optimizer = optim.SGD(model.parameters(), lr=1.0, momentum=0.9)\n",
    "H_nobn = train(loss=loss, model=model, x_train=x_train, y_train=y_train,\n",
    "          x_test=x_test, y_test=y_test,\n",
    "          optim=optimizer, batch_size=128, n_epochs=100)\n",
    "\n",
    "print(\"no bn\", \"| train:\", max(H_nobn['acc']), \"| test:\", max(H_nobn['test_acc']))"
   ]
  },
  {
   "cell_type": "code",
   "execution_count": 9,
   "metadata": {},
   "outputs": [
    {
     "name": "stderr",
     "output_type": "stream",
     "text": [
      "100%|██████████| 100/100 [00:04<00:00, 20.01it/s]"
     ]
    },
    {
     "name": "stdout",
     "output_type": "stream",
     "text": [
      "bn | train: 1.0 | test: 0.847\n"
     ]
    },
    {
     "name": "stderr",
     "output_type": "stream",
     "text": [
      "\n"
     ]
    }
   ],
   "source": [
    "## Starting code\n",
    "\n",
    "input_dim = 784\n",
    "output_dim = 10\n",
    "hidden_dims =  [50, 50, 50]\n",
    "model = torch.nn.Sequential()\n",
    "previous_dim = input_dim\n",
    "for id, D in enumerate(hidden_dims):\n",
    "    lin = torch.nn.Linear(previous_dim, D, bias=True)\n",
    "    model.add_module(\"linear_{}\".format(id), lin)\n",
    "    bn = BatchNorm(D)\n",
    "    model.add_module(\"bn_{}\".format(id), bn)\n",
    "    model.add_module(\"nonlinearity_{}\".format(id), torch.nn.ReLU())\n",
    "    previous_dim = D\n",
    "model.add_module(\"final_layer\", torch.nn.Linear(D, output_dim, bias=True))\n",
    "\n",
    "loss = torch.nn.CrossEntropyLoss(size_average=True)\n",
    "optimizer = optim.SGD(model.parameters(), lr=1.0, momentum=0.9)\n",
    "H_bn = train(loss=loss, model=model, x_train=x_train, y_train=y_train,\n",
    "          x_test=x_test, y_test=y_test,\n",
    "          optim=optimizer, batch_size=128, n_epochs=100)\n",
    "\n",
    "print(\"bn\", \"| train:\", max(H_bn['acc']), \"| test:\", max(H_bn['test_acc']))"
   ]
  },
  {
   "cell_type": "code",
   "execution_count": 10,
   "metadata": {
    "collapsed": true
   },
   "outputs": [],
   "source": [
    "answers = {\"a\": \"bn | train: 1.0 | test: 0.847\", \"b\": \"no bn | train: 0.458 | test: 0.422\", \"c\": \"yes\"}\n",
    "json.dump(answers, open(\"8_ex2.json\", \"w\"))"
   ]
  },
  {
   "cell_type": "markdown",
   "metadata": {},
   "source": [
    "## Exercise 3: Does it really reduce internal drift?\n",
    "\n",
    "Produce an experiment similar to Figure 1 in https://arxiv.org/pdf/1502.03167.pdf (you can use our data and neural network). \n",
    "\n",
    "<img width=200 src=\"https://github.com/gmum/nn2018/raw/master/lab/fig/8/fig1.png\">\n",
    "\n",
    "Result is just a figure, save it to 8_3.png."
   ]
  },
  {
   "cell_type": "code",
   "execution_count": 11,
   "metadata": {
    "collapsed": true
   },
   "outputs": [],
   "source": [
    "def train_bn(model, loss, optim, \n",
    "          x_train, y_train, x_test, y_test, batch_size=100, n_epochs=10):\n",
    "    \"\"\"\n",
    "    Trains given model on the FashionMNIST dataset.\n",
    "    \n",
    "    Returns\n",
    "    -------\n",
    "    history: dict\n",
    "        History containing 'acc' and 'test_acc' keys.\n",
    "    \"\"\"\n",
    "    torch.manual_seed(42) \n",
    "    n_examples = len(x_train)\n",
    "    bn_act = nn.Sequential(*list(model.children())[:2])\n",
    "    history = {\"acc\": [], \"test_acc\": [], \"bn\": []}\n",
    "    for i in tqdm.tqdm(range(n_epochs), total=n_epochs):\n",
    "        \n",
    "        # Ugly way to shuffle dataset\n",
    "        ids = np.random.choice(len(x_train), len(x_train), replace=False)\n",
    "        x_train = torch.from_numpy(x_train.numpy()[ids])\n",
    "        y_train = torch.from_numpy(y_train.numpy()[ids])\n",
    "        \n",
    "        cost = 0.\n",
    "        num_batches = n_examples // batch_size\n",
    "        for k in range(num_batches):\n",
    "            start, end = k * batch_size, (k + 1) * batch_size\n",
    "            cost += step(model, loss, optim, x_train[start:end], y_train[start:end])\n",
    "            history['bn'].append(bn_act(Variable(x_train[start:end])))\n",
    "        \n",
    "        predY = predict(model, x_test)\n",
    "        test_acc = np.mean(predY == y_test.numpy())\n",
    "        history['test_acc'].append(test_acc)\n",
    " \n",
    "        # Usually it is computed from per batch averages, but I compute\n",
    "        # here using the whole train set to reduce level of noise in the learning curves\n",
    "        predY = predict(model, x_train)\n",
    "        train_acc = np.mean(predY == y_train.numpy())\n",
    "        history['acc'].append(train_acc)\n",
    "        \n",
    "    return history"
   ]
  },
  {
   "cell_type": "code",
   "execution_count": 12,
   "metadata": {},
   "outputs": [
    {
     "name": "stderr",
     "output_type": "stream",
     "text": [
      "100%|██████████| 100/100 [00:05<00:00, 18.25it/s]\n"
     ]
    }
   ],
   "source": [
    "input_dim = 784\n",
    "output_dim = 10\n",
    "hidden_dims =  [50, 50, 50]\n",
    "model = torch.nn.Sequential()\n",
    "previous_dim = input_dim\n",
    "for id, D in enumerate(hidden_dims):\n",
    "    lin = torch.nn.Linear(previous_dim, D, bias=True)\n",
    "    model.add_module(\"linear_{}\".format(id), lin)\n",
    "    bn = BatchNorm(D)\n",
    "    model.add_module(\"bn_{}\".format(id), bn)\n",
    "    model.add_module(\"nonlinearity_{}\".format(id), torch.nn.ReLU())\n",
    "    previous_dim = D\n",
    "model.add_module(\"final_layer\", torch.nn.Linear(D, output_dim, bias=True))\n",
    "\n",
    "loss = torch.nn.CrossEntropyLoss(size_average=True)\n",
    "optimizer = optim.SGD(model.parameters(), lr=1.0, momentum=0.9)\n",
    "H_bn = train_bn(loss=loss, model=model, x_train=x_train, y_train=y_train,\n",
    "          x_test=x_test, y_test=y_test,\n",
    "          optim=optimizer, batch_size=128, n_epochs=100)"
   ]
  },
  {
   "cell_type": "code",
   "execution_count": 13,
   "metadata": {
    "scrolled": true
   },
   "outputs": [],
   "source": [
    "#numpy.percentile(a, q, axis=None, out=None, overwrite_input=False, interpolation='linear', keepdims=False)\n",
    "np.percentile(H_bn['bn'][0].data.numpy(), [15, 50, 85], axis=0).mean(axis=1)\n",
    "a = []\n",
    "b = []\n",
    "c = []\n",
    "for i in range(len(H_bn['bn'])):\n",
    "    a.append(np.percentile(H_bn['bn'][i].data.numpy(), [15, 50, 85], axis=0).mean(axis=1)[0])\n",
    "    b.append(np.percentile(H_bn['bn'][i].data.numpy(), [15, 50, 85], axis=0).mean(axis=1)[1])\n",
    "    c.append(np.percentile(H_bn['bn'][i].data.numpy(), [15, 50, 85], axis=0).mean(axis=1)[2])"
   ]
  },
  {
   "cell_type": "code",
   "execution_count": 14,
   "metadata": {
    "collapsed": true
   },
   "outputs": [],
   "source": [
    "def train_(model, loss, optim, \n",
    "          x_train, y_train, x_test, y_test, batch_size=100, n_epochs=10):\n",
    "    \"\"\"\n",
    "    Trains given model on the FashionMNIST dataset.\n",
    "    \n",
    "    Returns\n",
    "    -------\n",
    "    history: dict\n",
    "        History containing 'acc' and 'test_acc' keys.\n",
    "    \"\"\"\n",
    "    torch.manual_seed(42) \n",
    "    n_examples = len(x_train)\n",
    "    mod = nn.Sequential(*list(model.children())[:1])\n",
    "    history = {\"acc\": [], \"test_acc\": [], \"asd\": []}\n",
    "    for i in tqdm.tqdm(range(n_epochs), total=n_epochs):\n",
    "        \n",
    "        # Ugly way to shuffle dataset\n",
    "        ids = np.random.choice(len(x_train), len(x_train), replace=False)\n",
    "        x_train = torch.from_numpy(x_train.numpy()[ids])\n",
    "        y_train = torch.from_numpy(y_train.numpy()[ids])\n",
    "        \n",
    "        cost = 0.\n",
    "        num_batches = n_examples // batch_size\n",
    "        for k in range(num_batches):\n",
    "            start, end = k * batch_size, (k + 1) * batch_size\n",
    "            cost += step(model, loss, optim, x_train[start:end], y_train[start:end])\n",
    "            history['asd'].append(mod(Variable(x_train[start:end])))\n",
    "        \n",
    "        predY = predict(model, x_test)\n",
    "        test_acc = np.mean(predY == y_test.numpy())\n",
    "        history['test_acc'].append(test_acc)\n",
    " \n",
    "        # Usually it is computed from per batch averages, but I compute\n",
    "        # here using the whole train set to reduce level of noise in the learning curves\n",
    "        predY = predict(model, x_train)\n",
    "        train_acc = np.mean(predY == y_train.numpy())\n",
    "        history['acc'].append(train_acc)\n",
    "        \n",
    "    return history"
   ]
  },
  {
   "cell_type": "code",
   "execution_count": 15,
   "metadata": {},
   "outputs": [
    {
     "name": "stderr",
     "output_type": "stream",
     "text": [
      "100%|██████████| 100/100 [00:02<00:00, 36.07it/s]\n"
     ]
    }
   ],
   "source": [
    "input_dim = 784\n",
    "output_dim = 10\n",
    "hidden_dims =  [50, 50, 50]\n",
    "model = torch.nn.Sequential()\n",
    "previous_dim = input_dim\n",
    "for id, D in enumerate(hidden_dims):\n",
    "    lin = torch.nn.Linear(previous_dim, D, bias=True)\n",
    "    model.add_module(\"linear_{}\".format(id), lin)\n",
    "    #bn = BatchNorm(D)\n",
    "    #model.add_module(\"bn_{}\".format(id), bn)\n",
    "    model.add_module(\"nonlinearity_{}\".format(id), torch.nn.ReLU())\n",
    "    previous_dim = D\n",
    "model.add_module(\"final_layer\", torch.nn.Linear(D, output_dim, bias=True))\n",
    "\n",
    "loss = torch.nn.CrossEntropyLoss(size_average=True)\n",
    "optimizer = optim.SGD(model.parameters(), lr=1.0, momentum=0.9)\n",
    "H = train_(loss=loss, model=model, x_train=x_train, y_train=y_train,\n",
    "          x_test=x_test, y_test=y_test,\n",
    "          optim=optimizer, batch_size=128, n_epochs=100)"
   ]
  },
  {
   "cell_type": "code",
   "execution_count": 16,
   "metadata": {},
   "outputs": [],
   "source": [
    "d = []\n",
    "e = []\n",
    "f = []\n",
    "for i in range(len(H['asd'])):\n",
    "    d.append(np.percentile(H['asd'][i].data.numpy(), [15, 50, 85], axis=0).mean(axis=1)[0])\n",
    "    e.append(np.percentile(H['asd'][i].data.numpy(), [15, 50, 85], axis=0).mean(axis=1)[1])\n",
    "    f.append(np.percentile(H['asd'][i].data.numpy(), [15, 50, 85], axis=0).mean(axis=1)[2])"
   ]
  },
  {
   "cell_type": "code",
   "execution_count": 17,
   "metadata": {},
   "outputs": [
    {
     "data": {
      "image/png": "[encoded data removed]",
      "text/plain": [
       "<matplotlib.figure.Figure at 0x7f9095f1db38>"
      ]
     },
     "metadata": {},
     "output_type": "display_data"
    }
   ],
   "source": [
    "fig, (ax1, ax2) = plt.subplots(1, 2)\n",
    "ax1.plot(a)\n",
    "ax1.plot(b)\n",
    "ax1.plot(c)\n",
    "ax1.set_title('bn')\n",
    "ax2.plot(d)\n",
    "ax2.plot(e)\n",
    "ax2.plot(f)\n",
    "ax2.set_title('no bn')\n",
    "plt.savefig(\"8_ex3.png\")"
   ]
  }
 ],
 "metadata": {
  "kernelspec": {
   "display_name": "Python [conda env:nn2018]",
   "language": "python",
   "name": "conda-env-nn2018-py"
  },
  "language_info": {
   "codemirror_mode": {
    "name": "ipython",
    "version": 3
   },
   "file_extension": ".py",
   "mimetype": "text/x-python",
   "name": "python",
   "nbconvert_exporter": "python",
   "pygments_lexer": "ipython3",
   "version": "3.6.2"
  },
  "toc": {
   "toc_cell": false,
   "toc_number_sections": true,
   "toc_threshold": 6,
   "toc_window_display": false
  }
 },
 "nbformat": 4,
 "nbformat_minor": 1
}
