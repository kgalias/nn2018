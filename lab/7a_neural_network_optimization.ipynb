{
 "cells": [
  {
   "cell_type": "markdown",
   "metadata": {
    "collapsed": true
   },
   "source": [
    "# Optimizing Neural Networks\n",
    "\n",
    "To remind, necessary ingredients to train NN:\n",
    "    * model\n",
    "    * objective\n",
    "    * optimizer\n",
    "    \n",
    "Today we will try to understand basics of optimization of neural networks, giving context for the last two lectures. Goal is to:\n",
    "* Understand basics of generalization, and the difference between optimization and generalization (more on that in \"Understanding generalization\" lab)\n",
    "* Understand impact of hyperparameters in SGD on:\n",
    "\n",
    "  - stability (lr)\n",
    "  - generalization (lr, batch size) <- next lab\n",
    "  - speed of optimization (lr, momentum, batch size) <- next lab\n",
    "  - gradients fidelity (batch size)\n",
    "\n",
    "Note:\n",
    "* There is a minor change in the grading - now both numerical and text answers are expected to be saved to files, details in exercise. Sorry for the change, will make it easier to grade.\n",
    "\n",
    "References:\n",
    "* Deep Learning book chapter on optimization: http://www.deeplearningbook.org/contents/optimization.html"
   ]
  },
  {
   "cell_type": "markdown",
   "metadata": {},
   "source": [
    "# Setup"
   ]
  },
  {
   "cell_type": "code",
   "execution_count": 3,
   "metadata": {
    "collapsed": false
   },
   "outputs": [
    {
     "name": "stderr",
     "output_type": "stream",
     "text": [
      "Using Theano backend.\n"
     ]
    }
   ],
   "source": [
    "# Boilerplate code to get started\n",
    "\n",
    "%load_ext autoreload\n",
    "%autoreload 2\n",
    "\n",
    "import numpy as np\n",
    "from numpy import linalg as LA\n",
    "import tqdm\n",
    "import json\n",
    "\n",
    "import torch\n",
    "import torch.nn.functional as F\n",
    "from torch import nn\n",
    "from torch.autograd import Variable\n",
    "from torch import optim\n",
    "\n",
    "from keras.datasets import fashion_mnist\n",
    "from keras.utils import np_utils\n",
    "\n",
    "%matplotlib inline\n",
    "import matplotlib.pylab as plt\n",
    "\n",
    "import matplotlib as mpl\n",
    "mpl.rcParams['lines.linewidth'] = 2\n",
    "mpl.rcParams['figure.figsize'] = (7, 7)\n",
    "mpl.rcParams['axes.titlesize'] = 12\n",
    "mpl.rcParams['axes.labelsize'] = 12\n",
    "\n",
    "# Get FashionMNIST (see 1b_FMNIST.ipynb for data exploration)\n",
    "(x_train, y_train), (x_test, y_test) = fashion_mnist.load_data()\n",
    "\n",
    "# Logistic regression needs 2D data\n",
    "x_train = x_train.reshape(-1, 784)\n",
    "x_test = x_test.reshape(-1, 784)\n",
    "\n",
    "# 0-1 normalization\n",
    "x_train = x_train / 255.\n",
    "x_test = x_test / 255.\n",
    "\n",
    "# Binary case\n",
    "ids_train = ((y_train==0) | (y_train==6))\n",
    "ids_test = (y_test==0) | (y_test==6)\n",
    "x_train_06 = x_train[ids_train]\n",
    "y_train_06 = (y_train[ids_train] == 6).astype(\"float\")\n",
    "x_test_06 = x_test[ids_test]\n",
    "y_test_06 = (y_test[ids_test] == 6).astype(\"float\")\n",
    "\n",
    "# Convert to Torch Tensor. Just to avoid boilerplate code later\n",
    "x_train = torch.from_numpy(x_train).type(torch.FloatTensor)\n",
    "x_test = torch.from_numpy(x_test).type(torch.FloatTensor)\n",
    "y_train = torch.from_numpy(y_train).type(torch.LongTensor)\n",
    "y_test = torch.from_numpy(y_test).type(torch.LongTensor)\n",
    "x_train_06 = torch.from_numpy(x_train_06).type(torch.FloatTensor)\n",
    "x_test_06 = torch.from_numpy(x_test_06).type(torch.FloatTensor)\n",
    "y_train_06 = torch.from_numpy(y_train_06).type(torch.FloatTensor)\n",
    "y_test_06 = torch.from_numpy(y_test_06).type(torch.FloatTensor)\n",
    "\n",
    "# Use only first 1k examples. Just for notebook to run faster\n",
    "x_train, y_train = x_train[0:1000], y_train[0:1000]\n",
    "x_test, y_test = x_test[0:1000], y_test[0:1000]\n",
    "x_train_06, y_train_06 = x_train_06[0:1000], y_train_06[0:1000]\n",
    "x_test_06, y_test_06 = x_test_06[0:1000], y_test_06[0:1000]"
   ]
  },
  {
   "cell_type": "code",
   "execution_count": 5,
   "metadata": {
    "collapsed": false
   },
   "outputs": [],
   "source": [
    "# Training loop adapted from 4_computing_gradient.ipynb\n",
    "\n",
    "def build_mlp(input_dim, output_dim, hidden_dim=512):\n",
    "    model = torch.nn.Sequential()\n",
    "    model.add_module(\"linear_1\", torch.nn.Linear(input_dim, hidden_dim, bias=True))\n",
    "    model.add_module(\"nonlinearity_1\", torch.nn.ReLU())\n",
    "    model.add_module(\"linear_2\", torch.nn.Linear(hidden_dim, output_dim, bias=True))\n",
    "    return model\n",
    "\n",
    "def build_logreg(input_dim, output_dim, hidden_dim=512):\n",
    "    model = torch.nn.Sequential()\n",
    "    model.add_module(\"linear_2\", torch.nn.Linear(input_dim, output_dim, bias=True))\n",
    "    model.add_module(\"nonlinearity_1\", torch.nn.Softmax())\n",
    "    return model\n",
    "\n",
    "def build_linreg(input_dim, output_dim, hidden_dim=512):\n",
    "    model = torch.nn.Sequential()\n",
    "    model.add_module(\"linear_2\", torch.nn.Linear(input_dim, output_dim, bias=True))\n",
    "    return model\n",
    "\n",
    "def step(model, loss, optimizer, x_val, y_val):\n",
    "    x = Variable(x_val, requires_grad=False)\n",
    "    y = Variable(y_val, requires_grad=False)\n",
    "\n",
    "    # Reset gradient\n",
    "    optimizer.zero_grad()\n",
    "\n",
    "    # Forward\n",
    "    fx = model.forward(x)\n",
    "    output = loss.forward(fx, y)\n",
    "\n",
    "    # Backward\n",
    "    output.backward(retain_graph=True)\n",
    "\n",
    "    # Update parameters\n",
    "    optimizer.step()\n",
    "\n",
    "    return output.data[0]\n",
    "\n",
    "def predict(model, x_val):\n",
    "    x = Variable(x_val, requires_grad=False)\n",
    "    output = model.forward(x).data.numpy()\n",
    "\n",
    "    if output.shape[1] >= 2:\n",
    "        return output.argmax(axis=1)\n",
    "    else:\n",
    "        return (output > 0.5).reshape(-1,)\n",
    "\n",
    "def train(model, loss, optim, \n",
    "          x_train=x_train, y_train=y_train, x_test=x_test, y_test=y_test, batch_size=100):\n",
    "    \"\"\"\n",
    "    Trains given model on the FashionMNIST dataset.\n",
    "    \n",
    "    Returns\n",
    "    -------\n",
    "    history: dict\n",
    "        History containing 'acc' and 'test_acc' keys.\n",
    "    \"\"\"\n",
    "    n_examples, n_features = x_train.size()\n",
    "    history = {\"acc\": [], \"test_acc\": []}\n",
    "    for i in tqdm.tqdm(range(100), total=100):\n",
    "        cost = 0.\n",
    "        num_batches = n_examples // batch_size\n",
    "        for k in range(num_batches):\n",
    "            start, end = k * batch_size, (k + 1) * batch_size\n",
    "            cost += step(model, loss, optim, x_train[start:end], y_train[start:end])\n",
    "        \n",
    "        predY = predict(model, x_test)\n",
    "        test_acc = np.mean(predY == y_test.numpy())\n",
    "        history['test_acc'].append(test_acc)\n",
    " \n",
    "        # Usually it is computed from per batch averages, but I compute\n",
    "        # here using the whole train set to reduce level of noise in the learning curves\n",
    "        predY = predict(model, x_train)\n",
    "        train_acc = np.mean(predY == y_train.numpy())\n",
    "        history['acc'].append(train_acc)\n",
    "        \n",
    "    return history"
   ]
  },
  {
   "cell_type": "code",
   "execution_count": 6,
   "metadata": {
    "collapsed": true
   },
   "outputs": [],
   "source": [
    "def plot(H):\n",
    "    plt.title(max(H['test_acc']))\n",
    "    plt.plot(H['acc'], label=\"acc\")\n",
    "    plt.plot(H['test_acc'], label=\"test_acc\")\n",
    "    plt.legend()"
   ]
  },
  {
   "cell_type": "markdown",
   "metadata": {},
   "source": [
    "# Generalization 101: learning curves and the bias/variance decomposition\n",
    "\n",
    "To talk about optimization, it is important to understand the difference between optimization and generalization."
   ]
  },
  {
   "cell_type": "markdown",
   "metadata": {},
   "source": [
    "Optimization is sort-of easy, in the sense it is much more important to generalize than to optimize (but the two co-incide in SGD, optimization gives usually good generalization):\n",
    "\n",
    "<img width=300 src=\"https://github.com/gmum/nn2018/raw/master/lab/fig/7/overfittingspiral.png\">"
   ]
  },
  {
   "cell_type": "markdown",
   "metadata": {},
   "source": [
    "## Learning curves"
   ]
  },
  {
   "cell_type": "code",
   "execution_count": 41,
   "metadata": {
    "collapsed": false
   },
   "outputs": [
    {
     "name": "stderr",
     "output_type": "stream",
     "text": [
      "100%|██████████| 100/100 [00:07<00:00, 13.46it/s]\n"
     ]
    },
    {
     "data": {
      "image/png": "[encoded data removed]",
      "text/plain": [
       "<matplotlib.figure.Figure at 0x112ba2f50>"
      ]
     },
     "metadata": {},
     "output_type": "display_data"
    }
   ],
   "source": [
    "model = build_mlp(784, 10)\n",
    "loss = torch.nn.CrossEntropyLoss(size_average=True)\n",
    "optimizer = optim.SGD(model.parameters(), lr=0.1, momentum=0.9)\n",
    "H = train(loss=loss, model=model, optim=optimizer)\n",
    "plot(H)"
   ]
  },
  {
   "cell_type": "markdown",
   "metadata": {},
   "source": [
    "## Bias-variance\n",
    "\n",
    "One way to understand generalization in machine learnning is through the bias-variance tradeoff. Other ways will be discussed next time.\n",
    "\n",
    "<img width=200 src=\"https://github.com/gmum/nn2018/raw/master/lab/fig/7/bias-and-variance.jpg\">\n",
    "\n",
    "<img width=600 src=\"https://github.com/gmum/nn2018/raw/master/lab/fig/7/bias-and-variance2.png\">\n",
    "\n",
    "<p>\n",
    "<font size=4>\n",
    "$$E[(y - \\hat{f(x)})^2] = Bias[\\hat{f(x)}]^2 + Var[\\hat{f(x)}] + \\sigma^2$$, where\n",
    "\n",
    "$$Bias[f(x)] = E[\\hat{f(x)} - f(x)], Var[\\hat{f(x)}] = E[(\\hat{f(x)} - E[\\hat{f(x)}])^2]$$\n",
    "</font>\n",
    "</p>\n",
    "\n",
    "Reference:\n",
    "\n",
    "https://en.wikipedia.org/wiki/Bias%E2%80%93variance_tradeoff"
   ]
  },
  {
   "cell_type": "markdown",
   "metadata": {},
   "source": [
    "## Exercise 1\n",
    "\n",
    "Train 10 different logistic regressions and MLPs (hidden_dim=100) using the same optimization hyperparameters. Answer the following questions:\n",
    "    \n",
    "a) Which model achieves the lowest test error? What is the mean test accuracy of the MLP vs logistic regression?\n",
    "\n",
    "b) Calculate variance of the test loss of MLP and Logistic Regression. Which has the higher variance? \n",
    "\n",
    "Additionally: plot (in the notebook) train accuracy curves for all the runs.\n",
    "\n",
    "Please, save answers to json (as in the next cell). Do not change name of the json file.\n",
    "\n",
    "Expected outcome:\n",
    "\n",
    "<img width=300 src=\"https://github.com/gmum/nn2018/raw/master/lab/fig/7/ex1_expected.png\">\n",
    "\n",
    "Hint:\n",
    "    * Use torch.manual_seed(seed) to set seed for each repetition\n",
    "    * A very similar question might appear in the exam\n",
    "    \n",
    "Notes:\n",
    "    * In b) you don't have to calculate variance of predictions, just variance of the loss. Result would be similar if we compared variances of predictions."
   ]
  },
  {
   "cell_type": "code",
   "execution_count": 59,
   "metadata": {
    "collapsed": true
   },
   "outputs": [],
   "source": [
    "answers = {\"a\": \"\", \"b\": \"\", \"c\": \"\"}\n",
    "json.dump(answers, open(\"7_ex1.json\", \"w\"))"
   ]
  },
  {
   "cell_type": "markdown",
   "metadata": {},
   "source": [
    "# SGD(M) hyperparameters\n",
    "\n",
    "SGD(M) hyperparameters impact:\n",
    "\n",
    "* (This lab) Stability of training (lr)\n",
    "* (This lab) Gradient accuracy (batch size)\n",
    "* (Next lab?) Speed of optimization (lr, momentum, batch size)\n",
    "* (Next lab?) Generalization (lr, batch size)"
   ]
  },
  {
   "cell_type": "markdown",
   "metadata": {},
   "source": [
    "## Theory (stability, $\\eta$)\n",
    "\n",
    "Let's focus first on the fact that we cannot use larger $\\eta$ than curvature. It is best visible in linear regression.\n",
    "\n",
    "<img width=300 src=\"https://github.com/gmum/nn2018/raw/master/lab/fig/7/overshoot_4.png\">"
   ]
  },
  {
   "cell_type": "markdown",
   "metadata": {},
   "source": [
    "\n",
    "## Theory ($\\eta$ and $S$)\n",
    "\n",
    "<p>\n",
    "<font size=4>\n",
    "Notation: $\\eta$ - learning rate, $S$ - batch size\n",
    "</font>\n",
    "</p>\n",
    "\n",
    "\n",
    "<p>\n",
    "<font size=4>\n",
    "For small $\\eta$:\n",
    "$$d\\theta = -g(\\theta)dt + \\sqrt{\\frac{\\eta}{S} C(\\theta) dW(t)},$$\n",
    "\n",
    "from which we can see that $\\eta$ and $S$ have similar impact on noise in SGD. A similar argument can be made for momentum.\n",
    "</font>\n",
    "</p>"
   ]
  },
  {
   "cell_type": "markdown",
   "metadata": {},
   "source": [
    "## Exercise 2: impact of $\\eta$ on stability\n",
    "\n",
    "Find largest learning rate that optimizes (can cause small oscillations) in linear regression. Compare it to the theoretical prediction: inverse of the spectral norm of the loss surface in linear regression.\n",
    "\n",
    "Hint: \n",
    "* Hessian in linear regression is H = 1/n X^T X \n",
    "* LA.eig(A) computes eigenvalues "
   ]
  },
  {
   "cell_type": "code",
   "execution_count": 90,
   "metadata": {
    "collapsed": false
   },
   "outputs": [
    {
     "name": "stdout",
     "output_type": "stream",
     "text": [
      "Object `` not found.\n"
     ]
    }
   ],
   "source": [
    "def get_linreg_curvature(x_train):\n",
    "    # Computes maximum eigenvalue of the Hessian in linear regression\n",
    "    A = 1./len(x_train) * x_train.T.dot(x_train)\n",
    "    S, _ = LA.eig(A)\n",
    "    idx = S.argsort()[::-1]\n",
    "    S = S[idx]\n",
    "    return S[0]\n",
    "\n",
    "C = get_linreg_curvature(x_train_06.numpy())\n",
    "model = build_linreg(784, 1)\n",
    "loss = torch.nn.MSELoss(size_average=True)\n",
    "optimizer = optim.SGD(model.parameters(), lr=0.0001, momentum=0.0)\n",
    "H = train(loss=loss, model=model, optim=optimizer, x_train=x_train_06, x_test=x_test_06,\n",
    "         y_train=y_train_06, y_test=y_test_06, batch_size=len(x_train_06))\n",
    "plot(H)"
   ]
  },
  {
   "cell_type": "code",
   "execution_count": null,
   "metadata": {
    "collapsed": true
   },
   "outputs": [],
   "source": [
    "# 1/spectral_norm is the inverse of maximum eigenvalue\n",
    "answers = {\"maximum_lr\": 0, \"1/spectral_norm\": 0}\n",
    "json.dump(answers, open(\"7_ex2.json\", \"w\"))"
   ]
  },
  {
   "cell_type": "markdown",
   "metadata": {},
   "source": [
    "## Exercise 3: impact of BS on gradient fidelity\n",
    "\n",
    "For different BS compare fidelity defined as:\n",
    "\n",
    "* fidelity = $cos(g, \\hat g) = \\frac{\\langle g, \\hat g \\rangle}{||g|| ||\\hat g||} \\in [-1, 1]$\n",
    "\n",
    "Plot and save figure:\n",
    "* 7_ex3a.png: X axis is BS in range, Y axis is fidelity averaged over 50 samples.\n",
    "\n",
    "Expected outcome is shown below. Starting code is provided.\n",
    "\n",
    "<img width=300 src=\"https://github.com/gmum/nn2018/raw/master/lab/fig/7/ex3_expected.png\">\n",
    "\n",
    "Hints:\n",
    "* Re-use step function code\n",
    "* You can use gradient wrt to just one weight matrix\n",
    "* You can access weight matrices using model.named_parameters\n",
    "* Remember to normalize the cosine product\n",
    "* When returning gradient, copy matrix (.copy()) to avoid using references\n",
    "\n",
    "Note:\n",
    "* Exam might have questions about interpretation of these plots."
   ]
  },
  {
   "cell_type": "code",
   "execution_count": 97,
   "metadata": {
    "collapsed": false
   },
   "outputs": [],
   "source": [
    "model = build_mlp(784, 10)\n",
    "loss = torch.nn.CrossEntropyLoss(size_average=True)\n",
    "optimizer = optim.SGD(model.parameters(), lr=0.1, momentum=0.9)"
   ]
  },
  {
   "cell_type": "code",
   "execution_count": null,
   "metadata": {
    "collapsed": true
   },
   "outputs": [],
   "source": [
    "def sample_gradient(batch_size):\n",
    "    # Returns vector of size D, where D is number of params in the network\n",
    "    g = ??\n",
    "    return g\n",
    "\n",
    "def true_gradient():\n",
    "    # Returns true gradient of size D, where D is number of params in the network \n",
    "    g = ??\n",
    "    return g"
   ]
  },
  {
   "cell_type": "code",
   "execution_count": 115,
   "metadata": {
    "collapsed": false
   },
   "outputs": [
    {
     "name": "stderr",
     "output_type": "stream",
     "text": [
      "100%|██████████| 7/7 [00:01<00:00,  3.56it/s]\n"
     ]
    },
    {
     "data": {
      "text/plain": [
       "Text(0,0.5,u'Fidelity')"
      ]
     },
     "execution_count": 115,
     "metadata": {},
     "output_type": "execute_result"
    },
    {
     "data": {
      "image/png": "[encoded data removed]",
      "text/plain": [
       "<matplotlib.figure.Figure at 0x112c2c4d0>"
      ]
     },
     "metadata": {},
     "output_type": "display_data"
    }
   ],
   "source": [
    "# Code assuming sample_gradient and true_gradient are implemented\n",
    "fidelities = []\n",
    "bss = [4, 8, 16, 32, 64, 128, 256]\n",
    "for batch_size in tqdm.tqdm(bss, total=len(bss)):\n",
    "    true_grad = true_gradient()\n",
    "    fidelity = []\n",
    "    for _ in range(50):\n",
    "        g = sample_gradient(batch_size)\n",
    "        # Note normalization\n",
    "        fidelity.append(np.dot(g, true_grad)/(np.linalg.norm(g)*np.linalg.norm(true_grad)))\n",
    "    fidelities.append(np.mean(fidelity))\n",
    "plt.plot(bss, fidelities)\n",
    "plt.xlabel(\"Batch size\")\n",
    "plt.ylabel(\"Fidelity\")\n",
    "plt.savefig(\"7a_ex3.png\")"
   ]
  },
  {
   "cell_type": "markdown",
   "metadata": {},
   "source": [
    "## Exercise 4: impact of hyperparameters on optimization speed\n",
    "\n",
    "Probably next lab :)"
   ]
  },
  {
   "cell_type": "markdown",
   "metadata": {},
   "source": [
    "## Exercise 5: impact of hyperparameters on generalization\n",
    "\n",
    "Probably next lab :)"
   ]
  }
 ],
 "metadata": {
  "kernelspec": {
   "display_name": "Python 2",
   "language": "python",
   "name": "python2"
  },
  "language_info": {
   "codemirror_mode": {
    "name": "ipython",
    "version": 2
   },
   "file_extension": ".py",
   "mimetype": "text/x-python",
   "name": "python",
   "nbconvert_exporter": "python",
   "pygments_lexer": "ipython2",
   "version": "2.7.13"
  },
  "toc": {
   "toc_cell": false,
   "toc_number_sections": true,
   "toc_threshold": 6,
   "toc_window_display": false
  }
 },
 "nbformat": 4,
 "nbformat_minor": 0
}
