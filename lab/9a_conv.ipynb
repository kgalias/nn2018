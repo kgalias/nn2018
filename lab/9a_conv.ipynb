{
 "cells": [
  {
   "cell_type": "markdown",
   "metadata": {},
   "source": [
    "# Convolutional Neural Network - part A\n",
    "\n",
    "In this notebook we will implement Conv2D layer.\n",
    "\n",
    "Goal of this lab is to:\n",
    "\n",
    "* Implement and understand basic aspects of Convolutions\n",
    "\n",
    "References:\n",
    "* Largely based on http://cs231n.github.io/convolutional-networks/"
   ]
  },
  {
   "cell_type": "markdown",
   "metadata": {},
   "source": [
    "# Setup"
   ]
  },
  {
   "cell_type": "code",
   "execution_count": 1,
   "metadata": {
    "collapsed": false
   },
   "outputs": [
    {
     "name": "stderr",
     "output_type": "stream",
     "text": [
      "Using Theano backend.\n"
     ]
    }
   ],
   "source": [
    "# Boilerplate code to get started\n",
    "\n",
    "%load_ext autoreload\n",
    "%autoreload \n",
    "%matplotlib inline\n",
    "\n",
    "import json\n",
    "import matplotlib as mpl\n",
    "from src import fmnist_utils\n",
    "from src.fmnist_utils import *\n",
    "\n",
    "def plot(H):\n",
    "    plt.title(max(H['test_acc']))\n",
    "    plt.plot(H['acc'], label=\"acc\")\n",
    "    plt.plot(H['test_acc'], label=\"test_acc\")\n",
    "    plt.legend()\n",
    "\n",
    "mpl.rcParams['lines.linewidth'] = 2\n",
    "mpl.rcParams['figure.figsize'] = (7, 7)\n",
    "mpl.rcParams['axes.titlesize'] = 12\n",
    "mpl.rcParams['axes.labelsize'] = 12\n",
    "\n",
    "(x_train, y_train), (x_test, y_test) = fmnist_utils.get_data()"
   ]
  },
  {
   "cell_type": "code",
   "execution_count": 2,
   "metadata": {
    "collapsed": true
   },
   "outputs": [],
   "source": [
    "# https://github.com/MorvanZhou/PyTorch-Tutorial/blob/master/tutorial-contents-notebooks/401_CNN.ipynb"
   ]
  },
  {
   "cell_type": "markdown",
   "metadata": {},
   "source": [
    "# Convolution layer"
   ]
  },
  {
   "cell_type": "markdown",
   "metadata": {},
   "source": [
    "\n",
    "<img width=300 src=\"http://cs231n.github.io/assets/nn1/neural_net2.jpeg\">\n",
    "<img width=300 src=\"http://cs231n.github.io/assets/cnn/cnn.jpeg\">\n",
    "\n",
    "See animation at http://cs231n.github.io/convolutional-networks/, section \"Convolution Demo\".\n",
    "\n",
    "Summary. To summarize, the Conv Layer:\n",
    "\n",
    "* Accepts a volume of size W1×H1×D1\n",
    "* Requires four hyperparameters:\n",
    "    - Number of filters K,\n",
    "    - their spatial extent F,\n",
    "    - the stride S,\n",
    "    - the amount of zero padding P.\n",
    "* Produces a volume of size W2×H2×D2 where:\n",
    "    - W2=(W1−F+2P)/S+1\n",
    "    - H2=(H1−F+2P)/S+1 (i.e. width and height are computed equally by symmetry)\n",
    "    - D2=K\n",
    "    \n",
    "With parameter sharing, it introduces F⋅F⋅D1 weights per filter, for a total of (F⋅F⋅D1)⋅K weights and K biases.\n",
    "In the output volume, the d-th depth slice (of size W2×H2) is the result of performing a valid convolution of the d-th filter over the input volume with a stride of S, and then offset by d-th bias.\n",
    "A common setting of the hyperparameters is F=3,S=1,P=1. However, there are common conventions and rules of thumb that motivate these hyperparameters. See the ConvNet architectures section below."
   ]
  },
  {
   "cell_type": "markdown",
   "metadata": {},
   "source": [
    "# Whiteboard exercises\n",
    "\n",
    "(Plus anything from the previous labs)\n",
    "\n",
    "* (0.5) Explain equations for W2, H2 and D2.\n",
    "* (1.0) Compared to a dense layer with the same amount of neurons, should we initialize neurons using larger variance or small? Explain intuition behind the answer. Hint: consider equation for popular initialization in DNN, e.g. Glorot.\n",
    "* (0.5) How does output of a convolutional filter react to a small (e.g. 2px) shift of the whole image?\n",
    "* (1.0)  Are convolutional filters invariant to rotations of the input? If not, can you devise a simple strategy to encourage invariance rotation? Hint: think of a different approach than changing the architecture."
   ]
  },
  {
   "cell_type": "markdown",
   "metadata": {},
   "source": [
    "# Exercise: Implement forward pass of convolution layer\n",
    "\n",
    "You cannot use convolutional primitives.\n",
    "\n",
    "Hint: use im2col like approach (see http://cs231n.github.io/convolutional-networks/), and then use dense layer. Alternatively, just code everything as a nested loop. Both approaches are fine."
   ]
  },
  {
   "cell_type": "code",
   "execution_count": 4,
   "metadata": {
    "collapsed": false
   },
   "outputs": [],
   "source": [
    "def conv2d_forward(input, kernel, bias, padding, stride):\n",
    "    \"\"\"\n",
    "    Params\n",
    "    ------\n",
    "    input: torch.FloatTensor, shape (n_examples, n_channels, width, height)\n",
    "    kernel: torch.FloatTensor, shape (n_filters, n_channels, kernel_size, kernel_size)\n",
    "    bias: torch.FloatTensor, shape (n_filters)\n",
    "    padding: int\n",
    "        Padding to add\n",
    "    \"\"\"\n",
    "    # Dummy implementation sampling output with a correct shape\n",
    "    N = input.shape[0]\n",
    "    D = kernel.shape[0]\n",
    "    W, H = input.shape[2], input.shape[3]\n",
    "    F = kernel.shape[-1]\n",
    "    S = stride\n",
    "    P = padding\n",
    "    out = np.random.uniform(size=(N, D, (W-F+2*P)/S+1, (H-F+2*P)/S+1))\n",
    "    return out"
   ]
  },
  {
   "cell_type": "code",
   "execution_count": 5,
   "metadata": {
    "collapsed": true
   },
   "outputs": [],
   "source": [
    "def pytorch_conv2d_foward(input, kernel, bias, padding, stride):\n",
    "    # Ugly code to forward input through PyTorch convolution\n",
    "    assert kernel.shape[-2] == kernel.shape[-1]\n",
    "    kernel_size = kernel.shape[-1]\n",
    "    n_filters = kernel.shape[0]\n",
    "    n_channels = kernel.shape[1]\n",
    "    m = nn.Conv2d(n_channels, n_filters, kernel_size=kernel_size, padding=padding, stride=stride)\n",
    "    m.weight.data.copy_(kernel)\n",
    "    m.bias.data.copy_(bias)\n",
    "    output = m.forward(Variable(input))\n",
    "    output = output.data.numpy()\n",
    "    return output"
   ]
  },
  {
   "cell_type": "markdown",
   "metadata": {},
   "source": [
    "# Tests"
   ]
  },
  {
   "cell_type": "code",
   "execution_count": null,
   "metadata": {
    "collapsed": true
   },
   "outputs": [],
   "source": [
    "def test_conv2d(ex, w, b, P, S):\n",
    "    out_student = conv2d_forward(ex, w, b, P, S)\n",
    "    out = pytorch_conv2d_foward(ex, w, b, P, S)\n",
    "    result = np.allclose(out, out_student, atol=1e-2)\n",
    "    return result"
   ]
  },
  {
   "cell_type": "code",
   "execution_count": 16,
   "metadata": {
    "collapsed": false
   },
   "outputs": [],
   "source": [
    "results = {}"
   ]
  },
  {
   "cell_type": "code",
   "execution_count": 18,
   "metadata": {
    "collapsed": false
   },
   "outputs": [],
   "source": [
    "## Test 1\n",
    "np.random.seed(777)\n",
    "ex = x_train[0:40].view(40, 4, 14, 14)\n",
    "w = torch.FloatTensor(np.random.uniform(size=(16, 4, 5, 5)))\n",
    "b = torch.FloatTensor(np.random.uniform(size=(16,)))\n",
    "results['1'] = test_conv2d(ex, w, b, 0, 1)"
   ]
  },
  {
   "cell_type": "code",
   "execution_count": 21,
   "metadata": {
    "collapsed": true
   },
   "outputs": [],
   "source": [
    "## Test 2\n",
    "np.random.seed(778)\n",
    "ex = x_train[0:40].view(40, 4, 14, 14)\n",
    "w = torch.FloatTensor(np.random.uniform(size=(16, 4, 5, 5)))\n",
    "b = torch.FloatTensor(np.random.uniform(size=(16,)))\n",
    "results['2'] = test_conv2d(ex, w, b, 0, 4)"
   ]
  },
  {
   "cell_type": "code",
   "execution_count": 23,
   "metadata": {
    "collapsed": false
   },
   "outputs": [],
   "source": [
    "## Test 3\n",
    "np.random.seed(779)\n",
    "ex = x_train[0:40].view(40, 1, 28, 28)\n",
    "w = torch.FloatTensor(np.random.uniform(size=(16, 1, 2, 2)))\n",
    "b = torch.FloatTensor(np.random.uniform(size=(16,)))\n",
    "results['3'] = test_conv2d(ex, w, b, 0, 4)"
   ]
  },
  {
   "cell_type": "code",
   "execution_count": 25,
   "metadata": {
    "collapsed": true
   },
   "outputs": [],
   "source": [
    "## Test 4\n",
    "np.random.seed(780)\n",
    "ex = x_train[0:40].view(40, 1, 28, 28)\n",
    "w = torch.FloatTensor(np.random.uniform(size=(16, 1, 2, 2)))\n",
    "b = torch.FloatTensor(np.random.uniform(size=(16,)))\n",
    "results['4'] = test_conv2d(ex, w, b, 4, 4)"
   ]
  },
  {
   "cell_type": "code",
   "execution_count": 95,
   "metadata": {
    "collapsed": true
   },
   "outputs": [],
   "source": [
    "json.dump(results, open(\"9a_conv.json\", \"w\"))"
   ]
  }
 ],
 "metadata": {
  "kernelspec": {
   "display_name": "Python 2",
   "language": "python",
   "name": "python2"
  },
  "language_info": {
   "codemirror_mode": {
    "name": "ipython",
    "version": 2
   },
   "file_extension": ".py",
   "mimetype": "text/x-python",
   "name": "python",
   "nbconvert_exporter": "python",
   "pygments_lexer": "ipython2",
   "version": "2.7.13"
  },
  "toc": {
   "toc_cell": false,
   "toc_number_sections": true,
   "toc_threshold": 6,
   "toc_window_display": false
  }
 },
 "nbformat": 4,
 "nbformat_minor": 0
}
