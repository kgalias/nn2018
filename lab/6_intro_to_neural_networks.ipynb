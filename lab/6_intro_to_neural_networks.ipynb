{
 "cells": [
  {
   "cell_type": "markdown",
   "metadata": {},
   "source": [
    "# Introduction to neural networks\n",
    "\n",
    "We are now well equiped to start experimenting with neural networks.\n",
    "\n",
    "Necessary ingredients to train a neural network are:\n",
    "    * model\n",
    "    * loss\n",
    "    * optimizer\n",
    "    \n",
    "We will focus on model part today, and goal is to get basic intuition of what individual neurons can achieve."
   ]
  },
  {
   "cell_type": "markdown",
   "metadata": {},
   "source": [
    "# Exercise 1\n",
    "\n",
    "Using http://playground.tensorflow.org, answer the following questions:\n",
    "\n",
    "1. How many neurons are needed to achieve <0.14 loss on the XOR dataset?\n",
    "2. What do the neurons implement?"
   ]
  },
  {
   "cell_type": "markdown",
   "metadata": {},
   "source": [
    "# Exercise 2\n",
    "\n",
    "Using Spiral dataset on http://playground.tensorflow.org, answer the following questions:\n",
    "\n",
    "1. Achieve <0.05 test loss. What was the most important factor?\n",
    "2. Does adding more features help your best configuration achieve lower test loss?"
   ]
  },
  {
   "cell_type": "markdown",
   "metadata": {},
   "source": [
    "# Exercise 3\n",
    "\n",
    "1. Reproduce the XOR experiment using PyTorch. \n",
    "2. Consider freezing weights from input to first hidden layer. Can you still solve the task?"
   ]
  }
 ],
 "metadata": {
  "kernelspec": {
   "display_name": "Python 2",
   "language": "python",
   "name": "python2"
  },
  "language_info": {
   "codemirror_mode": {
    "name": "ipython",
    "version": 2
   },
   "file_extension": ".py",
   "mimetype": "text/x-python",
   "name": "python",
   "nbconvert_exporter": "python",
   "pygments_lexer": "ipython2",
   "version": "2.7.13"
  },
  "toc": {
   "toc_cell": false,
   "toc_number_sections": true,
   "toc_threshold": 6,
   "toc_window_display": false
  }
 },
 "nbformat": 4,
 "nbformat_minor": 0
}
