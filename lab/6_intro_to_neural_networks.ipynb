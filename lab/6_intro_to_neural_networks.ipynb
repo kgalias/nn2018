{
 "cells": [
  {
   "cell_type": "markdown",
   "metadata": {},
   "source": [
    "# Introduction to neural networks\n",
    "\n",
    "We are now well equiped to start experimenting with neural networks.\n",
    "\n",
    "Necessary ingredients to train a neural network are:\n",
    "    * model\n",
    "    * loss\n",
    "    * optimizer\n",
    "    \n",
    "We will focus on the model part today, and the goal is to:\n",
    "\n",
    "1. Get a basic intuition of what individual neurons and layers can achieve\n",
    "2. Understand overfitting and generalization from stability perspective\n",
    "\n",
    "** Please save your answers as inline comments in the appropriate cell. **"
   ]
  },
  {
   "cell_type": "code",
   "execution_count": 226,
   "metadata": {
    "collapsed": true
   },
   "outputs": [],
   "source": [
    "%matplotlib inline\n",
    "import numpy as np\n",
    "import matplotlib.pylab as plt"
   ]
  },
  {
   "cell_type": "markdown",
   "metadata": {},
   "source": [
    "# Interpreting neurons\n",
    "\n",
    "Read https://distill.pub/2018/building-blocks/, until \"Making Things Human-Scale\" (i.e. without). \n",
    "\n",
    "Exam might include a question about this paper."
   ]
  },
  {
   "cell_type": "markdown",
   "metadata": {},
   "source": [
    "# Ex. 1: Understanding role of neurons\n",
    "\n",
    "Using http://playground.tensorflow.org, answer the following questionsa:\n",
    "\n",
    "* (a) What is the smallest number of neurons that can achieve <0.2 loss on the XOR dataset?\n",
    "* (b) What do the neurons implement?\n",
    "\n",
    "Notes: \n",
    "\n",
    "* you might need to restart training few times\n",
    "* you cannot change features (except for (d)), nor dataset noise/size"
   ]
  },
  {
   "cell_type": "markdown",
   "metadata": {
    "collapsed": true
   },
   "source": [
    "(a) Three neurons.\n",
    "\n",
    "(b) The neurons implement: \n",
    "* $(x,y)\\mapsto \\{x>0\\}$ \n",
    "* $(x,y)\\mapsto \\{y>0\\}$\n",
    "* $(x,y)\\mapsto \\{x+y>0\\}$"
   ]
  },
  {
   "cell_type": "markdown",
   "metadata": {},
   "source": [
    "# Ex. 2: Understanding overfitting\n",
    "\n",
    "Using Spiral dataset on http://playground.tensorflow.org, answer in the notebook the following questions:\n",
    "\n",
    "Tasks: \n",
    "\n",
    "* (a) Achieve (stable) <0.1 test loss, note down the architecture/optimizer/regularizer used\n",
    "* (b) Achieve (stable) <0.05 test loss, note down the architecture/optimizer/regularizer used\n",
    "* (c) Visually, what distinguishes well generalizing solution from one that overfits? \n",
    "* (d) Which feature combination (you can pick them in the playground) improves most your best configuration?\n",
    "\n",
    "Notes:\n",
    "\n",
    "* you can use \"show test data\" to understand why train and test loss differ.\n",
    "* you cannot change features (except for (d)), nor dataset noise/size\n",
    "\n",
    "Hints:\n",
    "\n",
    "* first try to ovefit (i.e. achieve very low train loss)\n",
    "    * use ReLU, which optimizes better\n",
    "* then, try to regularize the overfitting solution"
   ]
  },
  {
   "cell_type": "markdown",
   "metadata": {
    "collapsed": true
   },
   "source": [
    "  2 layers, 8 and 6 neurons\n",
    "  The well-generalizing solution will be less \"jagged\".\n",
    "  The sines are most useful (I expect change to polar coordinates would be even more useful)."
   ]
  },
  {
   "cell_type": "markdown",
   "metadata": {},
   "source": [
    "# Ex. 3 (XOR)\n",
    "\n",
    "1. (a) Solve XOR using PyTorch \n",
    "2. (b) Does freezing weights from input to first hidden layer still allow you to solve the ask?\n",
    "3. (c) Is it easier or harder to solve the task using SGD vs RMSProp optimizer?\n",
    "\n",
    "Hint: you can base your solution off the previous notebooks. \n",
    "\n",
    "Notes: \n",
    "\n",
    "For the solution to be accepted, it must:\n",
    "\n",
    "1. Include plot of the training data and model prediction heatmap\n",
    "2. Use only single hidden layer.\n",
    "3. Use maximally 3 hidden neurons (except for (b))."
   ]
  },
  {
   "cell_type": "code",
   "execution_count": 37,
   "metadata": {},
   "outputs": [
    {
     "data": {
      "text/plain": [
       "<matplotlib.collections.PathCollection at 0x7fee2f7d34e0>"
      ]
     },
     "execution_count": 37,
     "metadata": {},
     "output_type": "execute_result"
    },
    {
     "data": {
      "image/png": "[encoded data removed]",
      "text/plain": [
       "<matplotlib.figure.Figure at 0x7fedcdd10c50>"
      ]
     },
     "metadata": {},
     "output_type": "display_data"
    }
   ],
   "source": [
    "## Data\n",
    "\n",
    "X = np.array([\n",
    "    [0, 0],\n",
    "    [0, 1],\n",
    "    [1, 0],\n",
    "    [1, 1]])\n",
    "y = np.array([\n",
    "    [0],\n",
    "    [1],\n",
    "    [1],\n",
    "    [0]\n",
    "])\n",
    "\n",
    "plt.scatter(X[:, 0], X[:, 1], c=y.reshape(-1,))"
   ]
  },
  {
   "cell_type": "markdown",
   "metadata": {},
   "source": [
    "## (a)"
   ]
  },
  {
   "cell_type": "code",
   "execution_count": 168,
   "metadata": {
    "scrolled": true
   },
   "outputs": [
    {
     "data": {
      "text/plain": [
       "[<matplotlib.lines.Line2D at 0x7fedc764da20>]"
      ]
     },
     "execution_count": 168,
     "metadata": {},
     "output_type": "execute_result"
    },
    {
     "data": {
      "image/png": "[encoded data removed]",
      "text/plain": [
       "<matplotlib.figure.Figure at 0x7fedc7e34208>"
      ]
     },
     "metadata": {},
     "output_type": "display_data"
    }
   ],
   "source": [
    "import torch\n",
    "import torch.nn.functional as F\n",
    "from torch import nn\n",
    "from torch.autograd import Variable\n",
    "import torch.optim as optim\n",
    "\n",
    "net = nn.Sequential()\n",
    "net.add_module('W0', nn.Linear(2, 3))\n",
    "net.add_module('relu', nn.ReLU())\n",
    "net.add_module('W1', nn.Linear(3, 2))\n",
    "\n",
    "X_ = Variable(torch.FloatTensor(X))\n",
    "y_ = Variable(torch.LongTensor([0,1,1,0]))\n",
    "\n",
    "optimizer = optim.SGD(net.parameters(), lr=0.01)\n",
    "\n",
    "criterion = nn.CrossEntropyLoss()\n",
    "\n",
    "losses = []\n",
    "\n",
    "for i in range(1000):\n",
    "    y_pred = net(X_)\n",
    "    loss = criterion(y_pred, y_)\n",
    "    loss.backward()\n",
    "    optimizer.step()\n",
    "    losses.append(loss.data)\n",
    "    #if i % 100 == 0:\n",
    "    #    print(loss.data)\n",
    "    \n",
    "plt.plot(losses)"
   ]
  },
  {
   "cell_type": "code",
   "execution_count": 172,
   "metadata": {
    "scrolled": true
   },
   "outputs": [
    {
     "data": {
      "text/plain": [
       "<matplotlib.image.AxesImage at 0x7fedc742d198>"
      ]
     },
     "execution_count": 172,
     "metadata": {},
     "output_type": "execute_result"
    },
    {
     "data": {
      "image/png": "[encoded data removed]",
      "text/plain": [
       "<matplotlib.figure.Figure at 0x7fedc7445780>"
      ]
     },
     "metadata": {},
     "output_type": "display_data"
    }
   ],
   "source": [
    "xs = np.linspace(0, 1, 51)\n",
    "ys = np.linspace(0, 1, 51)\n",
    "zs = np.zeros((51, 51))\n",
    "\n",
    "for ix in range(xs.shape[0]):\n",
    "    for iy in range(ys.shape[0]):\n",
    "        inp = Variable(torch.unsqueeze(torch.FloatTensor([xs[ix], ys[iy]]), 0))\n",
    "        zs[ix, iy] = np.argmax(net(inp).data)\n",
    "        \n",
    "plt.imshow(zs)"
   ]
  },
  {
   "cell_type": "markdown",
   "metadata": {},
   "source": [
    "## (c) looks easier"
   ]
  },
  {
   "cell_type": "code",
   "execution_count": 181,
   "metadata": {
    "scrolled": true
   },
   "outputs": [
    {
     "data": {
      "text/plain": [
       "[<matplotlib.lines.Line2D at 0x7fedc6ed80b8>]"
      ]
     },
     "execution_count": 181,
     "metadata": {},
     "output_type": "execute_result"
    },
    {
     "data": {
      "image/png": "[encoded data removed]",
      "text/plain": [
       "<matplotlib.figure.Figure at 0x7fedc70e4ba8>"
      ]
     },
     "metadata": {},
     "output_type": "display_data"
    }
   ],
   "source": [
    "net = nn.Sequential()\n",
    "net.add_module('W0', nn.Linear(2, 3))\n",
    "net.add_module('relu', nn.ReLU())\n",
    "net.add_module('W1', nn.Linear(3, 2))\n",
    "\n",
    "X_ = Variable(torch.FloatTensor(X))\n",
    "y_ = Variable(torch.LongTensor([0,1,1,0]))\n",
    "\n",
    "\n",
    "optimizer = optim.RMSprop(net.parameters(), lr=0.01)\n",
    "\n",
    "losses = []\n",
    "\n",
    "for i in range(1000):\n",
    "    y_pred = net(X_)\n",
    "    loss = criterion(y_pred, y_)\n",
    "    loss.backward()\n",
    "    optimizer.step()\n",
    "    losses.append(loss.data)\n",
    "    \n",
    "plt.plot(losses)"
   ]
  },
  {
   "cell_type": "markdown",
   "metadata": {},
   "source": [
    "## (b) yes"
   ]
  },
  {
   "cell_type": "code",
   "execution_count": 229,
   "metadata": {},
   "outputs": [
    {
     "name": "stdout",
     "output_type": "stream",
     "text": [
      "[Parameter containing:\n",
      " 0.5637  0.1893\n",
      " 0.3825 -0.6582\n",
      " 0.5532  0.5294\n",
      "[torch.FloatTensor of size 3x2]\n",
      ", Parameter containing:\n",
      "1.00000e-02 *\n",
      " -6.7144\n",
      " -4.5284\n",
      " -8.0677\n",
      "[torch.FloatTensor of size 3]\n",
      "]\n",
      "[Parameter containing:\n",
      " 0.5637  0.1893\n",
      " 0.3825 -0.6582\n",
      " 0.5532  0.5294\n",
      "[torch.FloatTensor of size 3x2]\n",
      ", Parameter containing:\n",
      "1.00000e-02 *\n",
      " -6.7144\n",
      " -4.5284\n",
      " -8.0677\n",
      "[torch.FloatTensor of size 3]\n",
      "]\n"
     ]
    },
    {
     "data": {
      "text/plain": [
       "[<matplotlib.lines.Line2D at 0x7fedc68a89e8>]"
      ]
     },
     "execution_count": 229,
     "metadata": {},
     "output_type": "execute_result"
    },
    {
     "data": {
      "image/png": "[encoded data removed]",
      "text/plain": [
       "<matplotlib.figure.Figure at 0x7fedc6a32be0>"
      ]
     },
     "metadata": {},
     "output_type": "display_data"
    }
   ],
   "source": [
    "net = nn.Sequential()\n",
    "net.add_module('W0', nn.Linear(2, 3))\n",
    "net.add_module('relu', nn.ReLU())\n",
    "net.add_module('W1', nn.Linear(3, 2))\n",
    "\n",
    "for p in net.W0.parameters():\n",
    "    p.requires_grad = False\n",
    "\n",
    "X_ = Variable(torch.FloatTensor(X))\n",
    "y_ = Variable(torch.LongTensor([0,1,1,0]))\n",
    "\n",
    "\n",
    "optimizer = optim.SGD((p for p in net.parameters() if p.requires_grad), lr=0.01)\n",
    "\n",
    "losses = []\n",
    "\n",
    "print(list(net.W0.parameters()))\n",
    "\n",
    "for i in range(1000):\n",
    "    y_pred = net(X_)\n",
    "    loss = criterion(y_pred, y_)\n",
    "    loss.backward()\n",
    "    optimizer.step()\n",
    "    losses.append(loss.data)\n",
    "    \n",
    "print(list(net.W0.parameters()))\n",
    "plt.plot(losses)"
   ]
  },
  {
   "cell_type": "code",
   "execution_count": 230,
   "metadata": {
    "scrolled": true
   },
   "outputs": [
    {
     "data": {
      "text/plain": [
       "<matplotlib.image.AxesImage at 0x7fedc67cd128>"
      ]
     },
     "execution_count": 230,
     "metadata": {},
     "output_type": "execute_result"
    },
    {
     "data": {
      "image/png": "[encoded data removed]",
      "text/plain": [
       "<matplotlib.figure.Figure at 0x7fedc69190f0>"
      ]
     },
     "metadata": {},
     "output_type": "display_data"
    }
   ],
   "source": [
    "xs = np.linspace(0, 1, 51)\n",
    "ys = np.linspace(0, 1, 51)\n",
    "zs = np.zeros((51, 51))\n",
    "\n",
    "for ix in range(xs.shape[0]):\n",
    "    for iy in range(ys.shape[0]):\n",
    "        inp = Variable(torch.unsqueeze(torch.FloatTensor([xs[ix], ys[iy]]), 0))\n",
    "        zs[ix, iy] = np.argmax(net(inp).data)\n",
    "        \n",
    "plt.imshow(zs)"
   ]
  }
 ],
 "metadata": {
  "kernelspec": {
   "display_name": "Python [conda env:nn2018]",
   "language": "python",
   "name": "conda-env-nn2018-py"
  },
  "language_info": {
   "codemirror_mode": {
    "name": "ipython",
    "version": 3
   },
   "file_extension": ".py",
   "mimetype": "text/x-python",
   "name": "python",
   "nbconvert_exporter": "python",
   "pygments_lexer": "ipython3",
   "version": "3.6.2"
  },
  "toc": {
   "toc_cell": false,
   "toc_number_sections": true,
   "toc_threshold": 6,
   "toc_window_display": false
  }
 },
 "nbformat": 4,
 "nbformat_minor": 1
}
