{
 "cells": [
  {
   "cell_type": "markdown",
   "metadata": {},
   "source": [
    "# Introduction to neural networks\n",
    "\n",
    "We are now well equiped to start experimenting with neural networks.\n",
    "\n",
    "Necessary ingredients to train a neural network are:\n",
    "    * model\n",
    "    * loss\n",
    "    * optimizer\n",
    "    \n",
    "We will focus on the model part today, and the goal is to:\n",
    "\n",
    "1. Get a basic intuition of what individual neurons and layers can achieve\n",
    "2. Understand overfitting and generalization from stability perspective\n",
    "\n",
    "** Please save your answers as inline comments in the appropriate cell. **"
   ]
  },
  {
   "cell_type": "code",
   "execution_count": 4,
   "metadata": {
    "collapsed": true
   },
   "outputs": [],
   "source": [
    "%matplotlib inline\n",
    "import numpy as np\n",
    "import matplotlib.pylab as plt"
   ]
  },
  {
   "cell_type": "markdown",
   "metadata": {},
   "source": [
    "# Interpreting neurons\n",
    "\n",
    "Read https://distill.pub/2018/building-blocks/, until \"Making Things Human-Scale\" (i.e. without). \n",
    "\n",
    "Exam might include a question about this paper."
   ]
  },
  {
   "cell_type": "markdown",
   "metadata": {},
   "source": [
    "# Ex. 1: Understanding role of neurons\n",
    "\n",
    "Using http://playground.tensorflow.org, answer the following questionsa:\n",
    "\n",
    "* (a) What is the smallest number of neurons that can achieve <0.2 loss on the XOR dataset?\n",
    "* (b) What do the neurons implement?\n",
    "\n",
    "Notes: \n",
    "\n",
    "* you might need to restart training few times\n",
    "* you cannot change features (except for (d)), nor dataset noise/size"
   ]
  },
  {
   "cell_type": "markdown",
   "metadata": {},
   "source": [
    "# Ex. 2: Understanding overfitting\n",
    "\n",
    "Using Spiral dataset on http://playground.tensorflow.org, answer in the notebook the following questions:\n",
    "\n",
    "Tasks: \n",
    "\n",
    "* (a) Achieve (stable) <0.1 test loss, note down the architecture/optimizer/regularizer used\n",
    "* (b) Achieve (stable) <0.05 test loss, note down the architecture/optimizer/regularizer used\n",
    "* (c) Visually, what distinguishes well generalizing solution from one that overfits? \n",
    "* (d) Which feature combination (you can pick them in the playground) improves most your best configuration?\n",
    "\n",
    "Notes:\n",
    "\n",
    "* you can use \"show test data\" to understand why train and test loss differ.\n",
    "* you cannot change features (except for (d)), nor dataset noise/size\n",
    "\n",
    "Hints:\n",
    "\n",
    "* first try to ovefit (i.e. achieve very low train loss)\n",
    "    * use ReLU, which optimizes better\n",
    "* then, try to regularize the overfitting solution"
   ]
  },
  {
   "cell_type": "markdown",
   "metadata": {},
   "source": [
    "# Ex. 3 (XOR)\n",
    "\n",
    "1. (a) Solve XOR using PyTorch \n",
    "2. (b) Does freezing weights from input to first hidden layer still allow you to solve the ask?\n",
    "3. (c) Is it easier or harder to solve the task using SGD vs RMSProp optimizer?\n",
    "\n",
    "Hint: you can base your solution off the previous notebooks. \n",
    "\n",
    "Notes: \n",
    "\n",
    "For the solution to be accepted, it must:\n",
    "\n",
    "1. Include plot of the training data and model prediction heatmap\n",
    "2. Use only single hidden layer.\n",
    "3. Use maximally 3 hidden neurons (except for (b))."
   ]
  },
  {
   "cell_type": "code",
   "execution_count": 11,
   "metadata": {
    "collapsed": false
   },
   "outputs": [
    {
     "data": {
      "text/plain": [
       "<matplotlib.collections.PathCollection at 0x1128e2a90>"
      ]
     },
     "execution_count": 11,
     "metadata": {},
     "output_type": "execute_result"
    },
    {
     "data": {
      "image/png": "[encoded data removed]",
      "text/plain": [
       "<matplotlib.figure.Figure at 0x1128b06d0>"
      ]
     },
     "metadata": {},
     "output_type": "display_data"
    }
   ],
   "source": [
    "## Data\n",
    "\n",
    "X = np.array([\n",
    "    [0, 0],\n",
    "    [0, 1],\n",
    "    [1, 0],\n",
    "    [1, 1]])\n",
    "y = np.array([\n",
    "    [0],\n",
    "    [1],\n",
    "    [1],\n",
    "    [0]\n",
    "])\n",
    "\n",
    "plt.scatter(X[:, 0], X[:, 1], c=y.reshape(-1,))"
   ]
  },
  {
   "cell_type": "code",
   "execution_count": null,
   "metadata": {
    "collapsed": true
   },
   "outputs": [],
   "source": []
  }
 ],
 "metadata": {
  "kernelspec": {
   "display_name": "Python 2",
   "language": "python",
   "name": "python2"
  },
  "language_info": {
   "codemirror_mode": {
    "name": "ipython",
    "version": 2
   },
   "file_extension": ".py",
   "mimetype": "text/x-python",
   "name": "python",
   "nbconvert_exporter": "python",
   "pygments_lexer": "ipython2",
   "version": "2.7.13"
  },
  "toc": {
   "toc_cell": false,
   "toc_number_sections": true,
   "toc_threshold": 6,
   "toc_window_display": false
  }
 },
 "nbformat": 4,
 "nbformat_minor": 0
}
