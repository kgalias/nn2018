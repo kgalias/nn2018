{
 "cells": [
  {
   "cell_type": "markdown",
   "metadata": {},
   "source": [
    "# Optimizing Neural Networks\n",
    "\n",
    "To remind, necessary ingredients to train NN:\n",
    "    * model\n",
    "    * objective\n",
    "    * optimizer\n",
    "    \n",
    "Today we will try to understand basics of optimization of neural networks, giving context for the last two lectures. Goal is to:\n",
    "* Understand basics of generalization, and the difference between optimization and generalization (more on that in \"Understanding generalization\" lab)\n",
    "* Understand impact of hyperparameters in SGD on:\n",
    "\n",
    "  - generalization (lr, batch size)\n",
    "  - speed of optimization (lr, momentum, batch size) \n",
    "\n",
    "References:\n",
    "* Deep Learning book chapter on optimization: http://www.deeplearningbook.org/contents/optimization.html"
   ]
  },
  {
   "cell_type": "markdown",
   "metadata": {},
   "source": [
    "# Setup"
   ]
  },
  {
   "cell_type": "code",
   "execution_count": 1,
   "metadata": {},
   "outputs": [
    {
     "name": "stderr",
     "output_type": "stream",
     "text": [
      "/home/kg/miniconda3/envs/nn2018/lib/python3.6/site-packages/h5py/__init__.py:34: FutureWarning: Conversion of the second argument of issubdtype from `float` to `np.floating` is deprecated. In future, it will be treated as `np.float64 == np.dtype(float).type`.\n",
      "  from ._conv import register_converters as _register_converters\n",
      "Using TensorFlow backend.\n"
     ]
    }
   ],
   "source": [
    "# Boilerplate code to get started\n",
    "\n",
    "%load_ext autoreload\n",
    "%autoreload \n",
    "%matplotlib inline\n",
    "\n",
    "import json\n",
    "import matplotlib as mpl\n",
    "from src import fmnist_utils\n",
    "from src.fmnist_utils import *\n",
    "\n",
    "def plot(H):\n",
    "    plt.title(max(H['test_acc']))\n",
    "    plt.plot(H['acc'], label=\"acc\")\n",
    "    plt.plot(H['test_acc'], label=\"test_acc\")\n",
    "    plt.legend()\n",
    "\n",
    "mpl.rcParams['lines.linewidth'] = 2\n",
    "mpl.rcParams['figure.figsize'] = (7, 7)\n",
    "mpl.rcParams['axes.titlesize'] = 12\n",
    "mpl.rcParams['axes.labelsize'] = 12\n",
    "\n",
    "(x_train, y_train), (x_test, y_test) = fmnist_utils.get_data()"
   ]
  },
  {
   "cell_type": "markdown",
   "metadata": {},
   "source": [
    "# Whiteboard exercises\n",
    "\n",
    "(1 point for each)\n",
    "\n",
    "* Give a case in which layers in neural networks might learn with different speed. Do layers in neural networks learn with different speeds usually?\n",
    "* Write expression for RMSProp. Interpret the equation.\n",
    "* Compare weight decay and L2 regularization. Explain the difference."
   ]
  },
  {
   "cell_type": "markdown",
   "metadata": {},
   "source": [
    "# Exercise 1: optimization speed\n",
    "\n",
    "Assuming fixed number of *epochs*, it is usually better to use either smaller batch size, or larger learning rate. Theoretical reason for it is not completely clear, so let's focus in this exercise on an empirical investigation.\n",
    "\n",
    "Assume you are allowed to train the given network for 10 epochs. Answer the following questions:\n",
    "\n",
    "* a) What was the optimal $\\eta$ (assuming $S$=128 and $\\mu$=0.9) for the final training accuracy?\n",
    "* b) Did it also provide the best test accuracy? If yes, why (hint: consider if model is under or over-fitting)?\n",
    "* c) What is the optimal $S$ (assuming $\\eta$=0.1 and $\\mu$=0.9) for the final training accuracy?\n",
    "* d) Why is higher learning rate, or smaller batch size, optimizing faster? Give your best explanation (it can be hypothetical, there is no obvious theoretical answer)?"
   ]
  },
  {
   "cell_type": "code",
   "execution_count": 2,
   "metadata": {
    "scrolled": true
   },
   "outputs": [
    {
     "name": "stderr",
     "output_type": "stream",
     "text": [
      "100%|██████████| 10/10 [00:01<00:00,  9.46it/s]\n",
      " 10%|█         | 1/10 [00:00<00:00,  9.86it/s]"
     ]
    },
    {
     "name": "stdout",
     "output_type": "stream",
     "text": [
      "lr:  0.0001  train_acc:  0.146  test_acc:  0.147\n"
     ]
    },
    {
     "name": "stderr",
     "output_type": "stream",
     "text": [
      "100%|██████████| 10/10 [00:00<00:00, 11.18it/s]\n",
      " 20%|██        | 2/10 [00:00<00:00, 12.38it/s]"
     ]
    },
    {
     "name": "stdout",
     "output_type": "stream",
     "text": [
      "lr:  0.0005  train_acc:  0.477  test_acc:  0.482\n"
     ]
    },
    {
     "name": "stderr",
     "output_type": "stream",
     "text": [
      "100%|██████████| 10/10 [00:00<00:00, 12.52it/s]\n",
      "  0%|          | 0/10 [00:00<?, ?it/s]"
     ]
    },
    {
     "name": "stdout",
     "output_type": "stream",
     "text": [
      "lr:  0.001  train_acc:  0.585  test_acc:  0.562\n"
     ]
    },
    {
     "name": "stderr",
     "output_type": "stream",
     "text": [
      "100%|██████████| 10/10 [00:01<00:00,  9.36it/s]\n",
      " 10%|█         | 1/10 [00:00<00:01,  8.90it/s]"
     ]
    },
    {
     "name": "stdout",
     "output_type": "stream",
     "text": [
      "lr:  0.005  train_acc:  0.679  test_acc:  0.659\n"
     ]
    },
    {
     "name": "stderr",
     "output_type": "stream",
     "text": [
      "100%|██████████| 10/10 [00:00<00:00, 11.32it/s]\n",
      " 10%|█         | 1/10 [00:00<00:00,  9.46it/s]"
     ]
    },
    {
     "name": "stdout",
     "output_type": "stream",
     "text": [
      "lr:  0.01  train_acc:  0.746  test_acc:  0.712\n"
     ]
    },
    {
     "name": "stderr",
     "output_type": "stream",
     "text": [
      "100%|██████████| 10/10 [00:01<00:00,  8.39it/s]\n",
      " 10%|█         | 1/10 [00:00<00:00,  9.91it/s]"
     ]
    },
    {
     "name": "stdout",
     "output_type": "stream",
     "text": [
      "lr:  0.05  train_acc:  0.87  test_acc:  0.775\n"
     ]
    },
    {
     "name": "stderr",
     "output_type": "stream",
     "text": [
      "100%|██████████| 10/10 [00:00<00:00, 10.87it/s]\n",
      " 20%|██        | 2/10 [00:00<00:00, 12.52it/s]"
     ]
    },
    {
     "name": "stdout",
     "output_type": "stream",
     "text": [
      "lr:  0.1  train_acc:  0.869  test_acc:  0.782\n"
     ]
    },
    {
     "name": "stderr",
     "output_type": "stream",
     "text": [
      "100%|██████████| 10/10 [00:00<00:00, 11.50it/s]"
     ]
    },
    {
     "name": "stdout",
     "output_type": "stream",
     "text": [
      "lr:  0.5  train_acc:  0.671  test_acc:  0.595\n"
     ]
    },
    {
     "name": "stderr",
     "output_type": "stream",
     "text": [
      "\n"
     ]
    }
   ],
   "source": [
    "for lr in [0.0001, 0.0005, 0.001, 0.005, 0.01, 0.05, 0.1, 0.5]:\n",
    "    model = build_mlp(784, 10, hidden_dims=[512])\n",
    "    loss = torch.nn.CrossEntropyLoss(size_average=True)\n",
    "    optimizer = optim.SGD(model.parameters(), lr=lr, momentum=0.9)\n",
    "    H = train(loss=loss, model=model, x_train=x_train, y_train=y_train,\n",
    "              x_test=x_test, y_test=y_test,\n",
    "              optim=optimizer, batch_size=128, n_epochs=10)\n",
    "    print(\"lr: \", lr, \" train_acc: \", H['acc'][-1], \" test_acc: \", H['test_acc'][-1])"
   ]
  },
  {
   "cell_type": "code",
   "execution_count": 3,
   "metadata": {
    "scrolled": true
   },
   "outputs": [
    {
     "name": "stderr",
     "output_type": "stream",
     "text": [
      "100%|██████████| 10/10 [00:31<00:00,  3.59s/it]\n",
      "  0%|          | 0/10 [00:00<?, ?it/s]"
     ]
    },
    {
     "name": "stdout",
     "output_type": "stream",
     "text": [
      "bs:  2  train_acc:  0.102  test_acc:  0.095\n"
     ]
    },
    {
     "name": "stderr",
     "output_type": "stream",
     "text": [
      "100%|██████████| 10/10 [00:16<00:00,  1.86s/it]\n",
      "  0%|          | 0/10 [00:00<?, ?it/s]"
     ]
    },
    {
     "name": "stdout",
     "output_type": "stream",
     "text": [
      "bs:  4  train_acc:  0.115  test_acc:  0.095\n"
     ]
    },
    {
     "name": "stderr",
     "output_type": "stream",
     "text": [
      "100%|██████████| 10/10 [00:07<00:00,  1.13it/s]\n",
      "  0%|          | 0/10 [00:00<?, ?it/s]"
     ]
    },
    {
     "name": "stdout",
     "output_type": "stream",
     "text": [
      "bs:  8  train_acc:  0.213  test_acc:  0.188\n"
     ]
    },
    {
     "name": "stderr",
     "output_type": "stream",
     "text": [
      "100%|██████████| 10/10 [00:03<00:00,  3.11it/s]\n",
      "  0%|          | 0/10 [00:00<?, ?it/s]"
     ]
    },
    {
     "name": "stdout",
     "output_type": "stream",
     "text": [
      "bs:  16  train_acc:  0.69  test_acc:  0.591\n"
     ]
    },
    {
     "name": "stderr",
     "output_type": "stream",
     "text": [
      "100%|██████████| 10/10 [00:02<00:00,  4.64it/s]\n",
      " 10%|█         | 1/10 [00:00<00:01,  5.88it/s]"
     ]
    },
    {
     "name": "stdout",
     "output_type": "stream",
     "text": [
      "bs:  32  train_acc:  0.819  test_acc:  0.715\n"
     ]
    },
    {
     "name": "stderr",
     "output_type": "stream",
     "text": [
      "100%|██████████| 10/10 [00:01<00:00,  6.54it/s]\n",
      " 10%|█         | 1/10 [00:00<00:01,  8.96it/s]"
     ]
    },
    {
     "name": "stdout",
     "output_type": "stream",
     "text": [
      "bs:  64  train_acc:  0.912  test_acc:  0.785\n"
     ]
    },
    {
     "name": "stderr",
     "output_type": "stream",
     "text": [
      "100%|██████████| 10/10 [00:01<00:00,  8.22it/s]\n",
      " 20%|██        | 2/10 [00:00<00:00, 10.93it/s]"
     ]
    },
    {
     "name": "stdout",
     "output_type": "stream",
     "text": [
      "bs:  128  train_acc:  0.849  test_acc:  0.758\n"
     ]
    },
    {
     "name": "stderr",
     "output_type": "stream",
     "text": [
      "100%|██████████| 10/10 [00:00<00:00, 11.34it/s]\n",
      " 20%|██        | 2/10 [00:00<00:00, 15.13it/s]"
     ]
    },
    {
     "name": "stdout",
     "output_type": "stream",
     "text": [
      "bs:  256  train_acc:  0.782  test_acc:  0.708\n"
     ]
    },
    {
     "name": "stderr",
     "output_type": "stream",
     "text": [
      "100%|██████████| 10/10 [00:00<00:00, 14.30it/s]"
     ]
    },
    {
     "name": "stdout",
     "output_type": "stream",
     "text": [
      "bs:  512  train_acc:  0.706  test_acc:  0.682\n"
     ]
    },
    {
     "name": "stderr",
     "output_type": "stream",
     "text": [
      "\n"
     ]
    }
   ],
   "source": [
    "for bs in [2, 4, 8, 16, 32, 64, 128, 256, 512]:\n",
    "    model = build_mlp(784, 10, hidden_dims=[512])\n",
    "    loss = torch.nn.CrossEntropyLoss(size_average=True)\n",
    "    optimizer = optim.SGD(model.parameters(), lr=0.1, momentum=0.9)\n",
    "    H = train(loss=loss, model=model, x_train=x_train, y_train=y_train,\n",
    "              x_test=x_test, y_test=y_test,\n",
    "              optim=optimizer, batch_size=bs, n_epochs=10)\n",
    "    print(\"bs: \", bs, \" train_acc: \", H['acc'][-1], \" test_acc: \", H['test_acc'][-1])"
   ]
  },
  {
   "cell_type": "code",
   "execution_count": 4,
   "metadata": {
    "collapsed": true
   },
   "outputs": [],
   "source": [
    "answers = {\"a\": \"0.1\", \"b\": \"Yes. Might be underfitting?\", \"c\": \"128\", \"d\": \"Higher lr / lower batchsize is more noisy. Maybe it allows you to break out of flat areas / past saddle-points faster.\"}\n",
    "json.dump(answers, open(\"7b_ex1.json\", \"w\"))"
   ]
  },
  {
   "cell_type": "markdown",
   "metadata": {},
   "source": [
    "# Exercise 2: generalization\n",
    "\n",
    "Story with generalization is also unclear, but it is generally accepted that higher noise levels in SGD lead to better generalization. Think of noise in optimization (leading to low fidelity, as seen in lab 7a, for instance) as a close analog of typical regularizations (like dropout or batch normalization, that we will discuss next time).\n",
    "\n",
    "Your task is to:\n",
    "\n",
    "a) Check a range of LR and BS and find the best generalizing combination of LR and BS. What test accuracy were you able to achieve? What is the best LR and BS combination?\n",
    "\n",
    "b) Answer the following question: Is stability correlated with using large LR or small BS. If yes, what is the intuitive reason for it? Feel free to give a hypothesis.\n",
    "\n",
    "Hints:\n",
    "\n",
    "* Make sure you achieve 100% training accuracy with each run, discard hyperparameters that are not achieving convergence.\n",
    "\n",
    "Notes:\n",
    "\n",
    "* Do not change the model in the starting code. It is on purpose a bit more complex MLP.\n",
    "\n",
    "* You can measure stability by computing margin. This is implemented for you (using DeepFool method, https://arxiv.org/abs/1511.04599). Measuring margin is expensive, so recommended approach would be to compute it only on few final runs. "
   ]
  },
  {
   "cell_type": "code",
   "execution_count": 5,
   "metadata": {},
   "outputs": [
    {
     "name": "stderr",
     "output_type": "stream",
     "text": [
      "100%|██████████| 20/20 [00:43<00:00,  2.29s/it]\n",
      "  0%|          | 0/20 [00:00<?, ?it/s]"
     ]
    },
    {
     "name": "stdout",
     "output_type": "stream",
     "text": [
      "lr:  0.0001  bs:  2  train_acc:  0.797  test_acc:  0.742\n"
     ]
    },
    {
     "name": "stderr",
     "output_type": "stream",
     "text": [
      "100%|██████████| 20/20 [00:23<00:00,  1.28s/it]\n",
      "  0%|          | 0/20 [00:00<?, ?it/s]"
     ]
    },
    {
     "name": "stdout",
     "output_type": "stream",
     "text": [
      "lr:  0.0001  bs:  4  train_acc:  0.741  test_acc:  0.701\n"
     ]
    },
    {
     "name": "stderr",
     "output_type": "stream",
     "text": [
      "100%|██████████| 20/20 [00:08<00:00,  2.59it/s]\n",
      "  0%|          | 0/20 [00:00<?, ?it/s]"
     ]
    },
    {
     "name": "stdout",
     "output_type": "stream",
     "text": [
      "lr:  0.0001  bs:  8  train_acc:  0.688  test_acc:  0.667\n"
     ]
    },
    {
     "name": "stderr",
     "output_type": "stream",
     "text": [
      "100%|██████████| 20/20 [00:05<00:00,  2.69it/s]\n",
      "  0%|          | 0/20 [00:00<?, ?it/s]"
     ]
    },
    {
     "name": "stdout",
     "output_type": "stream",
     "text": [
      "lr:  0.0001  bs:  16  train_acc:  0.644  test_acc:  0.633\n"
     ]
    },
    {
     "name": "stderr",
     "output_type": "stream",
     "text": [
      "100%|██████████| 20/20 [00:04<00:00,  4.17it/s]\n",
      "  5%|▌         | 1/20 [00:00<00:02,  6.37it/s]"
     ]
    },
    {
     "name": "stdout",
     "output_type": "stream",
     "text": [
      "lr:  0.0001  bs:  32  train_acc:  0.585  test_acc:  0.567\n"
     ]
    },
    {
     "name": "stderr",
     "output_type": "stream",
     "text": [
      "100%|██████████| 20/20 [00:03<00:00,  6.98it/s]\n",
      "  5%|▌         | 1/20 [00:00<00:02,  8.07it/s]"
     ]
    },
    {
     "name": "stdout",
     "output_type": "stream",
     "text": [
      "lr:  0.0001  bs:  64  train_acc:  0.471  test_acc:  0.475\n"
     ]
    },
    {
     "name": "stderr",
     "output_type": "stream",
     "text": [
      "100%|██████████| 20/20 [00:02<00:00,  8.92it/s]\n",
      "  5%|▌         | 1/20 [00:00<00:02,  7.08it/s]"
     ]
    },
    {
     "name": "stdout",
     "output_type": "stream",
     "text": [
      "lr:  0.0001  bs:  128  train_acc:  0.124  test_acc:  0.128\n"
     ]
    },
    {
     "name": "stderr",
     "output_type": "stream",
     "text": [
      "100%|██████████| 20/20 [00:02<00:00,  9.66it/s]\n",
      " 10%|█         | 2/20 [00:00<00:01, 13.00it/s]"
     ]
    },
    {
     "name": "stdout",
     "output_type": "stream",
     "text": [
      "lr:  0.0001  bs:  256  train_acc:  0.103  test_acc:  0.122\n"
     ]
    },
    {
     "name": "stderr",
     "output_type": "stream",
     "text": [
      "100%|██████████| 20/20 [00:01<00:00, 14.61it/s]\n",
      "  0%|          | 0/20 [00:00<?, ?it/s]"
     ]
    },
    {
     "name": "stdout",
     "output_type": "stream",
     "text": [
      "lr:  0.0001  bs:  512  train_acc:  0.104  test_acc:  0.125\n"
     ]
    },
    {
     "name": "stderr",
     "output_type": "stream",
     "text": [
      "100%|██████████| 20/20 [00:41<00:00,  2.01s/it]\n",
      "  0%|          | 0/20 [00:00<?, ?it/s]"
     ]
    },
    {
     "name": "stdout",
     "output_type": "stream",
     "text": [
      "lr:  0.0005  bs:  2  train_acc:  0.924  test_acc:  0.802\n"
     ]
    },
    {
     "name": "stderr",
     "output_type": "stream",
     "text": [
      "100%|██████████| 20/20 [00:20<00:00,  1.08s/it]\n",
      "  0%|          | 0/20 [00:00<?, ?it/s]"
     ]
    },
    {
     "name": "stdout",
     "output_type": "stream",
     "text": [
      "lr:  0.0005  bs:  4  train_acc:  0.855  test_acc:  0.769\n"
     ]
    },
    {
     "name": "stderr",
     "output_type": "stream",
     "text": [
      "100%|██████████| 20/20 [00:10<00:00,  1.89it/s]\n",
      "  0%|          | 0/20 [00:00<?, ?it/s]"
     ]
    },
    {
     "name": "stdout",
     "output_type": "stream",
     "text": [
      "lr:  0.0005  bs:  8  train_acc:  0.821  test_acc:  0.767\n"
     ]
    },
    {
     "name": "stderr",
     "output_type": "stream",
     "text": [
      "100%|██████████| 20/20 [00:06<00:00,  3.23it/s]\n",
      "  0%|          | 0/20 [00:00<?, ?it/s]"
     ]
    },
    {
     "name": "stdout",
     "output_type": "stream",
     "text": [
      "lr:  0.0005  bs:  16  train_acc:  0.762  test_acc:  0.72\n"
     ]
    },
    {
     "name": "stderr",
     "output_type": "stream",
     "text": [
      "100%|██████████| 20/20 [00:04<00:00,  5.00it/s]\n",
      "  5%|▌         | 1/20 [00:00<00:02,  6.35it/s]"
     ]
    },
    {
     "name": "stdout",
     "output_type": "stream",
     "text": [
      "lr:  0.0005  bs:  32  train_acc:  0.698  test_acc:  0.674\n"
     ]
    },
    {
     "name": "stderr",
     "output_type": "stream",
     "text": [
      "100%|██████████| 20/20 [00:03<00:00,  6.92it/s]\n",
      "  5%|▌         | 1/20 [00:00<00:02,  8.75it/s]"
     ]
    },
    {
     "name": "stdout",
     "output_type": "stream",
     "text": [
      "lr:  0.0005  bs:  64  train_acc:  0.653  test_acc:  0.632\n"
     ]
    },
    {
     "name": "stderr",
     "output_type": "stream",
     "text": [
      "100%|██████████| 20/20 [00:02<00:00,  9.17it/s]\n",
      " 10%|█         | 2/20 [00:00<00:01, 12.13it/s]"
     ]
    },
    {
     "name": "stdout",
     "output_type": "stream",
     "text": [
      "lr:  0.0005  bs:  128  train_acc:  0.583  test_acc:  0.568\n"
     ]
    },
    {
     "name": "stderr",
     "output_type": "stream",
     "text": [
      "100%|██████████| 20/20 [00:01<00:00, 11.23it/s]\n",
      " 10%|█         | 2/20 [00:00<00:01, 13.76it/s]"
     ]
    },
    {
     "name": "stdout",
     "output_type": "stream",
     "text": [
      "lr:  0.0005  bs:  256  train_acc:  0.428  test_acc:  0.421\n"
     ]
    },
    {
     "name": "stderr",
     "output_type": "stream",
     "text": [
      "100%|██████████| 20/20 [00:01<00:00, 13.86it/s]\n",
      "  0%|          | 0/20 [00:00<?, ?it/s]"
     ]
    },
    {
     "name": "stdout",
     "output_type": "stream",
     "text": [
      "lr:  0.0005  bs:  512  train_acc:  0.103  test_acc:  0.122\n"
     ]
    },
    {
     "name": "stderr",
     "output_type": "stream",
     "text": [
      "100%|██████████| 20/20 [00:42<00:00,  2.23s/it]\n",
      "  0%|          | 0/20 [00:00<?, ?it/s]"
     ]
    },
    {
     "name": "stdout",
     "output_type": "stream",
     "text": [
      "lr:  0.001  bs:  2  train_acc:  0.921  test_acc:  0.778\n"
     ]
    },
    {
     "name": "stderr",
     "output_type": "stream",
     "text": [
      "100%|██████████| 20/20 [00:21<00:00,  1.08s/it]\n",
      "  0%|          | 0/20 [00:00<?, ?it/s]"
     ]
    },
    {
     "name": "stdout",
     "output_type": "stream",
     "text": [
      "lr:  0.001  bs:  4  train_acc:  0.917  test_acc:  0.784\n"
     ]
    },
    {
     "name": "stderr",
     "output_type": "stream",
     "text": [
      "100%|██████████| 20/20 [00:11<00:00,  1.84it/s]\n",
      "  0%|          | 0/20 [00:00<?, ?it/s]"
     ]
    },
    {
     "name": "stdout",
     "output_type": "stream",
     "text": [
      "lr:  0.001  bs:  8  train_acc:  0.881  test_acc:  0.793\n"
     ]
    },
    {
     "name": "stderr",
     "output_type": "stream",
     "text": [
      "100%|██████████| 20/20 [00:06<00:00,  2.53it/s]\n",
      "  0%|          | 0/20 [00:00<?, ?it/s]"
     ]
    },
    {
     "name": "stdout",
     "output_type": "stream",
     "text": [
      "lr:  0.001  bs:  16  train_acc:  0.82  test_acc:  0.764\n"
     ]
    },
    {
     "name": "stderr",
     "output_type": "stream",
     "text": [
      "100%|██████████| 20/20 [00:04<00:00,  4.76it/s]\n",
      "  5%|▌         | 1/20 [00:00<00:03,  5.55it/s]"
     ]
    },
    {
     "name": "stdout",
     "output_type": "stream",
     "text": [
      "lr:  0.001  bs:  32  train_acc:  0.764  test_acc:  0.722\n"
     ]
    },
    {
     "name": "stderr",
     "output_type": "stream",
     "text": [
      "100%|██████████| 20/20 [00:03<00:00,  6.70it/s]\n",
      "  5%|▌         | 1/20 [00:00<00:02,  7.73it/s]"
     ]
    },
    {
     "name": "stdout",
     "output_type": "stream",
     "text": [
      "lr:  0.001  bs:  64  train_acc:  0.685  test_acc:  0.658\n"
     ]
    },
    {
     "name": "stderr",
     "output_type": "stream",
     "text": [
      "100%|██████████| 20/20 [00:02<00:00,  8.49it/s]\n",
      "  5%|▌         | 1/20 [00:00<00:02,  9.15it/s]"
     ]
    },
    {
     "name": "stdout",
     "output_type": "stream",
     "text": [
      "lr:  0.001  bs:  128  train_acc:  0.656  test_acc:  0.637\n"
     ]
    },
    {
     "name": "stderr",
     "output_type": "stream",
     "text": [
      "100%|██████████| 20/20 [00:01<00:00, 10.23it/s]\n",
      " 10%|█         | 2/20 [00:00<00:01, 13.65it/s]"
     ]
    },
    {
     "name": "stdout",
     "output_type": "stream",
     "text": [
      "lr:  0.001  bs:  256  train_acc:  0.535  test_acc:  0.513\n"
     ]
    },
    {
     "name": "stderr",
     "output_type": "stream",
     "text": [
      "100%|██████████| 20/20 [00:01<00:00, 11.71it/s]\n",
      "  0%|          | 0/20 [00:00<?, ?it/s]"
     ]
    },
    {
     "name": "stdout",
     "output_type": "stream",
     "text": [
      "lr:  0.001  bs:  512  train_acc:  0.113  test_acc:  0.127\n"
     ]
    },
    {
     "name": "stderr",
     "output_type": "stream",
     "text": [
      "100%|██████████| 20/20 [00:46<00:00,  2.55s/it]\n",
      "  0%|          | 0/20 [00:00<?, ?it/s]"
     ]
    },
    {
     "name": "stdout",
     "output_type": "stream",
     "text": [
      "lr:  0.005  bs:  2  train_acc:  0.903  test_acc:  0.744\n"
     ]
    },
    {
     "name": "stderr",
     "output_type": "stream",
     "text": [
      "100%|██████████| 20/20 [00:25<00:00,  1.23s/it]\n",
      "  0%|          | 0/20 [00:00<?, ?it/s]"
     ]
    },
    {
     "name": "stdout",
     "output_type": "stream",
     "text": [
      "lr:  0.005  bs:  4  train_acc:  0.922  test_acc:  0.76\n"
     ]
    },
    {
     "name": "stderr",
     "output_type": "stream",
     "text": [
      "100%|██████████| 20/20 [00:14<00:00,  1.63it/s]\n",
      "  0%|          | 0/20 [00:00<?, ?it/s]"
     ]
    },
    {
     "name": "stdout",
     "output_type": "stream",
     "text": [
      "lr:  0.005  bs:  8  train_acc:  0.963  test_acc:  0.798\n"
     ]
    },
    {
     "name": "stderr",
     "output_type": "stream",
     "text": [
      "100%|██████████| 20/20 [00:08<00:00,  2.45it/s]\n",
      "  0%|          | 0/20 [00:00<?, ?it/s]"
     ]
    },
    {
     "name": "stdout",
     "output_type": "stream",
     "text": [
      "lr:  0.005  bs:  16  train_acc:  0.934  test_acc:  0.79\n"
     ]
    },
    {
     "name": "stderr",
     "output_type": "stream",
     "text": [
      "100%|██████████| 20/20 [00:05<00:00,  4.18it/s]\n",
      "  5%|▌         | 1/20 [00:00<00:03,  5.66it/s]"
     ]
    },
    {
     "name": "stdout",
     "output_type": "stream",
     "text": [
      "lr:  0.005  bs:  32  train_acc:  0.895  test_acc:  0.782\n"
     ]
    },
    {
     "name": "stderr",
     "output_type": "stream",
     "text": [
      "100%|██████████| 20/20 [00:03<00:00,  5.44it/s]\n",
      "  5%|▌         | 1/20 [00:00<00:02,  7.75it/s]"
     ]
    },
    {
     "name": "stdout",
     "output_type": "stream",
     "text": [
      "lr:  0.005  bs:  64  train_acc:  0.818  test_acc:  0.76\n"
     ]
    },
    {
     "name": "stderr",
     "output_type": "stream",
     "text": [
      "100%|██████████| 20/20 [00:02<00:00,  7.09it/s]\n",
      "  5%|▌         | 1/20 [00:00<00:02,  8.60it/s]"
     ]
    },
    {
     "name": "stdout",
     "output_type": "stream",
     "text": [
      "lr:  0.005  bs:  128  train_acc:  0.763  test_acc:  0.726\n"
     ]
    },
    {
     "name": "stderr",
     "output_type": "stream",
     "text": [
      "100%|██████████| 20/20 [00:02<00:00,  9.15it/s]\n",
      " 10%|█         | 2/20 [00:00<00:01, 11.92it/s]"
     ]
    },
    {
     "name": "stdout",
     "output_type": "stream",
     "text": [
      "lr:  0.005  bs:  256  train_acc:  0.68  test_acc:  0.664\n"
     ]
    },
    {
     "name": "stderr",
     "output_type": "stream",
     "text": [
      "100%|██████████| 20/20 [00:01<00:00, 11.97it/s]\n",
      "  0%|          | 0/20 [00:00<?, ?it/s]"
     ]
    },
    {
     "name": "stdout",
     "output_type": "stream",
     "text": [
      "lr:  0.005  bs:  512  train_acc:  0.566  test_acc:  0.533\n"
     ]
    },
    {
     "name": "stderr",
     "output_type": "stream",
     "text": [
      "100%|██████████| 20/20 [01:12<00:00,  3.60s/it]\n",
      "  0%|          | 0/20 [00:00<?, ?it/s]"
     ]
    },
    {
     "name": "stdout",
     "output_type": "stream",
     "text": [
      "lr:  0.01  bs:  2  train_acc:  0.789  test_acc:  0.688\n"
     ]
    },
    {
     "name": "stderr",
     "output_type": "stream",
     "text": [
      "100%|██████████| 20/20 [00:30<00:00,  1.62s/it]\n",
      "  0%|          | 0/20 [00:00<?, ?it/s]"
     ]
    },
    {
     "name": "stdout",
     "output_type": "stream",
     "text": [
      "lr:  0.01  bs:  4  train_acc:  0.906  test_acc:  0.763\n"
     ]
    },
    {
     "name": "stderr",
     "output_type": "stream",
     "text": [
      "100%|██████████| 20/20 [00:14<00:00,  1.49it/s]\n",
      "  0%|          | 0/20 [00:00<?, ?it/s]"
     ]
    },
    {
     "name": "stdout",
     "output_type": "stream",
     "text": [
      "lr:  0.01  bs:  8  train_acc:  0.959  test_acc:  0.791\n"
     ]
    },
    {
     "name": "stderr",
     "output_type": "stream",
     "text": [
      "100%|██████████| 20/20 [00:09<00:00,  2.17it/s]\n",
      "  0%|          | 0/20 [00:00<?, ?it/s]"
     ]
    },
    {
     "name": "stdout",
     "output_type": "stream",
     "text": [
      "lr:  0.01  bs:  16  train_acc:  0.971  test_acc:  0.802\n"
     ]
    },
    {
     "name": "stderr",
     "output_type": "stream",
     "text": [
      "100%|██████████| 20/20 [00:05<00:00,  3.59it/s]\n",
      "  5%|▌         | 1/20 [00:00<00:03,  5.92it/s]"
     ]
    },
    {
     "name": "stdout",
     "output_type": "stream",
     "text": [
      "lr:  0.01  bs:  32  train_acc:  0.911  test_acc:  0.791\n"
     ]
    },
    {
     "name": "stderr",
     "output_type": "stream",
     "text": [
      "100%|██████████| 20/20 [00:03<00:00,  5.25it/s]\n",
      "  5%|▌         | 1/20 [00:00<00:02,  7.33it/s]"
     ]
    },
    {
     "name": "stdout",
     "output_type": "stream",
     "text": [
      "lr:  0.01  bs:  64  train_acc:  0.878  test_acc:  0.79\n"
     ]
    },
    {
     "name": "stderr",
     "output_type": "stream",
     "text": [
      "100%|██████████| 20/20 [00:02<00:00,  7.82it/s]\n",
      " 10%|█         | 2/20 [00:00<00:01, 10.54it/s]"
     ]
    },
    {
     "name": "stdout",
     "output_type": "stream",
     "text": [
      "lr:  0.01  bs:  128  train_acc:  0.815  test_acc:  0.764\n"
     ]
    },
    {
     "name": "stderr",
     "output_type": "stream",
     "text": [
      "100%|██████████| 20/20 [00:02<00:00,  8.20it/s]\n",
      " 10%|█         | 2/20 [00:00<00:01, 10.94it/s]"
     ]
    },
    {
     "name": "stdout",
     "output_type": "stream",
     "text": [
      "lr:  0.01  bs:  256  train_acc:  0.732  test_acc:  0.7\n"
     ]
    },
    {
     "name": "stderr",
     "output_type": "stream",
     "text": [
      "100%|██████████| 20/20 [00:01<00:00, 11.50it/s]\n",
      "  0%|          | 0/20 [00:00<?, ?it/s]"
     ]
    },
    {
     "name": "stdout",
     "output_type": "stream",
     "text": [
      "lr:  0.01  bs:  512  train_acc:  0.647  test_acc:  0.623\n"
     ]
    },
    {
     "name": "stderr",
     "output_type": "stream",
     "text": [
      "100%|██████████| 20/20 [01:22<00:00,  4.21s/it]\n",
      "  0%|          | 0/20 [00:00<?, ?it/s]"
     ]
    },
    {
     "name": "stdout",
     "output_type": "stream",
     "text": [
      "lr:  0.05  bs:  2  train_acc:  0.107  test_acc:  0.108\n"
     ]
    },
    {
     "name": "stderr",
     "output_type": "stream",
     "text": [
      "100%|██████████| 20/20 [00:39<00:00,  2.02s/it]\n",
      "  0%|          | 0/20 [00:00<?, ?it/s]"
     ]
    },
    {
     "name": "stdout",
     "output_type": "stream",
     "text": [
      "lr:  0.05  bs:  4  train_acc:  0.145  test_acc:  0.134\n"
     ]
    },
    {
     "name": "stderr",
     "output_type": "stream",
     "text": [
      "100%|██████████| 20/20 [00:18<00:00,  1.04s/it]\n",
      "  0%|          | 0/20 [00:00<?, ?it/s]"
     ]
    },
    {
     "name": "stdout",
     "output_type": "stream",
     "text": [
      "lr:  0.05  bs:  8  train_acc:  0.655  test_acc:  0.565\n"
     ]
    },
    {
     "name": "stderr",
     "output_type": "stream",
     "text": [
      "100%|██████████| 20/20 [00:07<00:00,  1.95it/s]\n",
      "  0%|          | 0/20 [00:00<?, ?it/s]"
     ]
    },
    {
     "name": "stdout",
     "output_type": "stream",
     "text": [
      "lr:  0.05  bs:  16  train_acc:  0.869  test_acc:  0.755\n"
     ]
    },
    {
     "name": "stderr",
     "output_type": "stream",
     "text": [
      "100%|██████████| 20/20 [00:04<00:00,  4.82it/s]\n",
      "  5%|▌         | 1/20 [00:00<00:02,  6.41it/s]"
     ]
    },
    {
     "name": "stdout",
     "output_type": "stream",
     "text": [
      "lr:  0.05  bs:  32  train_acc:  0.93  test_acc:  0.799\n"
     ]
    },
    {
     "name": "stderr",
     "output_type": "stream",
     "text": [
      "100%|██████████| 20/20 [00:03<00:00,  5.60it/s]\n",
      "  5%|▌         | 1/20 [00:00<00:02,  7.31it/s]"
     ]
    },
    {
     "name": "stdout",
     "output_type": "stream",
     "text": [
      "lr:  0.05  bs:  64  train_acc:  0.951  test_acc:  0.808\n"
     ]
    },
    {
     "name": "stderr",
     "output_type": "stream",
     "text": [
      "100%|██████████| 20/20 [00:02<00:00,  7.55it/s]\n",
      "  0%|          | 0/20 [00:00<?, ?it/s]"
     ]
    },
    {
     "name": "stdout",
     "output_type": "stream",
     "text": [
      "lr:  0.05  bs:  128  train_acc:  0.93  test_acc:  0.791\n"
     ]
    },
    {
     "name": "stderr",
     "output_type": "stream",
     "text": [
      "100%|██████████| 20/20 [00:01<00:00, 10.77it/s]\n",
      " 10%|█         | 2/20 [00:00<00:01, 13.34it/s]"
     ]
    },
    {
     "name": "stdout",
     "output_type": "stream",
     "text": [
      "lr:  0.05  bs:  256  train_acc:  0.823  test_acc:  0.725\n"
     ]
    },
    {
     "name": "stderr",
     "output_type": "stream",
     "text": [
      "100%|██████████| 20/20 [00:01<00:00, 12.49it/s]\n",
      "  0%|          | 0/20 [00:00<?, ?it/s]"
     ]
    },
    {
     "name": "stdout",
     "output_type": "stream",
     "text": [
      "lr:  0.05  bs:  512  train_acc:  0.705  test_acc:  0.669\n"
     ]
    },
    {
     "name": "stderr",
     "output_type": "stream",
     "text": [
      "100%|██████████| 20/20 [01:21<00:00,  3.85s/it]\n",
      "  0%|          | 0/20 [00:00<?, ?it/s]"
     ]
    },
    {
     "name": "stdout",
     "output_type": "stream",
     "text": [
      "lr:  0.1  bs:  2  train_acc:  0.102  test_acc:  0.096\n"
     ]
    },
    {
     "name": "stderr",
     "output_type": "stream",
     "text": [
      "100%|██████████| 20/20 [00:36<00:00,  1.99s/it]\n",
      "  0%|          | 0/20 [00:00<?, ?it/s]"
     ]
    },
    {
     "name": "stdout",
     "output_type": "stream",
     "text": [
      "lr:  0.1  bs:  4  train_acc:  0.104  test_acc:  0.105\n"
     ]
    },
    {
     "name": "stderr",
     "output_type": "stream",
     "text": [
      "100%|██████████| 20/20 [00:19<00:00,  1.11s/it]\n",
      "  0%|          | 0/20 [00:00<?, ?it/s]"
     ]
    },
    {
     "name": "stdout",
     "output_type": "stream",
     "text": [
      "lr:  0.1  bs:  8  train_acc:  0.107  test_acc:  0.107\n"
     ]
    },
    {
     "name": "stderr",
     "output_type": "stream",
     "text": [
      "100%|██████████| 20/20 [00:10<00:00,  1.68it/s]\n",
      "  0%|          | 0/20 [00:00<?, ?it/s]"
     ]
    },
    {
     "name": "stdout",
     "output_type": "stream",
     "text": [
      "lr:  0.1  bs:  16  train_acc:  0.547  test_acc:  0.493\n"
     ]
    },
    {
     "name": "stderr",
     "output_type": "stream",
     "text": [
      "100%|██████████| 20/20 [00:04<00:00,  4.90it/s]\n",
      "  0%|          | 0/20 [00:00<?, ?it/s]"
     ]
    },
    {
     "name": "stdout",
     "output_type": "stream",
     "text": [
      "lr:  0.1  bs:  32  train_acc:  0.864  test_acc:  0.751\n"
     ]
    },
    {
     "name": "stderr",
     "output_type": "stream",
     "text": [
      "100%|██████████| 20/20 [00:03<00:00,  5.93it/s]\n",
      "  5%|▌         | 1/20 [00:00<00:02,  8.51it/s]"
     ]
    },
    {
     "name": "stdout",
     "output_type": "stream",
     "text": [
      "lr:  0.1  bs:  64  train_acc:  0.906  test_acc:  0.79\n"
     ]
    },
    {
     "name": "stderr",
     "output_type": "stream",
     "text": [
      "100%|██████████| 20/20 [00:02<00:00,  7.05it/s]\n",
      " 10%|█         | 2/20 [00:00<00:01, 10.66it/s]"
     ]
    },
    {
     "name": "stdout",
     "output_type": "stream",
     "text": [
      "lr:  0.1  bs:  128  train_acc:  0.913  test_acc:  0.79\n"
     ]
    },
    {
     "name": "stderr",
     "output_type": "stream",
     "text": [
      "100%|██████████| 20/20 [00:02<00:00,  8.11it/s]\n",
      "  5%|▌         | 1/20 [00:00<00:01,  9.73it/s]"
     ]
    },
    {
     "name": "stdout",
     "output_type": "stream",
     "text": [
      "lr:  0.1  bs:  256  train_acc:  0.906  test_acc:  0.785\n"
     ]
    },
    {
     "name": "stderr",
     "output_type": "stream",
     "text": [
      "100%|██████████| 20/20 [00:01<00:00, 11.79it/s]\n",
      "  0%|          | 0/20 [00:00<?, ?it/s]"
     ]
    },
    {
     "name": "stdout",
     "output_type": "stream",
     "text": [
      "lr:  0.1  bs:  512  train_acc:  0.724  test_acc:  0.691\n"
     ]
    },
    {
     "name": "stderr",
     "output_type": "stream",
     "text": [
      "100%|██████████| 20/20 [01:19<00:00,  4.02s/it]\n",
      "  0%|          | 0/20 [00:00<?, ?it/s]"
     ]
    },
    {
     "name": "stdout",
     "output_type": "stream",
     "text": [
      "lr:  0.5  bs:  2  train_acc:  0.115  test_acc:  0.095\n"
     ]
    },
    {
     "name": "stderr",
     "output_type": "stream",
     "text": [
      "100%|██████████| 20/20 [00:41<00:00,  2.20s/it]\n",
      "  0%|          | 0/20 [00:00<?, ?it/s]"
     ]
    },
    {
     "name": "stdout",
     "output_type": "stream",
     "text": [
      "lr:  0.5  bs:  4  train_acc:  0.099  test_acc:  0.095\n"
     ]
    },
    {
     "name": "stderr",
     "output_type": "stream",
     "text": [
      "100%|██████████| 20/20 [00:22<00:00,  1.15s/it]\n",
      "  0%|          | 0/20 [00:00<?, ?it/s]"
     ]
    },
    {
     "name": "stdout",
     "output_type": "stream",
     "text": [
      "lr:  0.5  bs:  8  train_acc:  0.1  test_acc:  0.087\n"
     ]
    },
    {
     "name": "stderr",
     "output_type": "stream",
     "text": [
      "100%|██████████| 20/20 [00:10<00:00,  1.69it/s]\n",
      "  0%|          | 0/20 [00:00<?, ?it/s]"
     ]
    },
    {
     "name": "stdout",
     "output_type": "stream",
     "text": [
      "lr:  0.5  bs:  16  train_acc:  0.107  test_acc:  0.107\n"
     ]
    },
    {
     "name": "stderr",
     "output_type": "stream",
     "text": [
      "100%|██████████| 20/20 [00:05<00:00,  3.74it/s]\n",
      "  5%|▌         | 1/20 [00:00<00:03,  5.48it/s]"
     ]
    },
    {
     "name": "stdout",
     "output_type": "stream",
     "text": [
      "lr:  0.5  bs:  32  train_acc:  0.104  test_acc:  0.105\n"
     ]
    },
    {
     "name": "stderr",
     "output_type": "stream",
     "text": [
      "100%|██████████| 20/20 [00:04<00:00,  4.50it/s]\n",
      "  5%|▌         | 1/20 [00:00<00:03,  5.84it/s]"
     ]
    },
    {
     "name": "stdout",
     "output_type": "stream",
     "text": [
      "lr:  0.5  bs:  64  train_acc:  0.411  test_acc:  0.378\n"
     ]
    },
    {
     "name": "stderr",
     "output_type": "stream",
     "text": [
      "100%|██████████| 20/20 [00:03<00:00,  7.23it/s]\n",
      "  5%|▌         | 1/20 [00:00<00:02,  9.06it/s]"
     ]
    },
    {
     "name": "stdout",
     "output_type": "stream",
     "text": [
      "lr:  0.5  bs:  128  train_acc:  0.717  test_acc:  0.648\n"
     ]
    },
    {
     "name": "stderr",
     "output_type": "stream",
     "text": [
      "100%|██████████| 20/20 [00:02<00:00,  8.81it/s]\n",
      " 10%|█         | 2/20 [00:00<00:01, 12.48it/s]"
     ]
    },
    {
     "name": "stdout",
     "output_type": "stream",
     "text": [
      "lr:  0.5  bs:  256  train_acc:  0.805  test_acc:  0.704\n"
     ]
    },
    {
     "name": "stderr",
     "output_type": "stream",
     "text": [
      "100%|██████████| 20/20 [00:01<00:00, 11.99it/s]"
     ]
    },
    {
     "name": "stdout",
     "output_type": "stream",
     "text": [
      "lr:  0.5  bs:  512  train_acc:  0.696  test_acc:  0.661\n"
     ]
    },
    {
     "name": "stderr",
     "output_type": "stream",
     "text": [
      "\n"
     ]
    }
   ],
   "source": [
    "for lr in [0.0001, 0.0005, 0.001, 0.005, 0.01, 0.05, 0.1, 0.5]:\n",
    "    for bs in [2, 4, 8, 16, 32, 64, 128, 256, 512]:\n",
    "        model = build_mlp(784, 10, hidden_dims=[512])\n",
    "        loss = torch.nn.CrossEntropyLoss(size_average=True)\n",
    "        optimizer = optim.SGD(model.parameters(), lr=lr, momentum=0.9)\n",
    "        H = train(loss=loss, model=model, x_train=x_train, y_train=y_train,\n",
    "                  x_test=x_test, y_test=y_test,\n",
    "                  optim=optimizer, batch_size=bs, n_epochs=20)\n",
    "        print(\"lr: \", lr, \" bs: \", bs, \" train_acc: \", H['acc'][-1], \" test_acc: \", H['test_acc'][-1])"
   ]
  },
  {
   "cell_type": "code",
   "execution_count": 6,
   "metadata": {
    "collapsed": true
   },
   "outputs": [],
   "source": [
    "answers = {\"a\": \"Training till 100% training accuracy, the combination with the highest test accuracy was lr: 0.05, bs: 128 (with test acc of 0.793).\", \"b\": \"It does seem like it is (though with lr mattering more). If higher lr regularizes more, it makes sense that stability is higher as well.\", \"c\": \"There is no c?\"}\n",
    "json.dump(answers, open(\"7b_ex2.json\", \"w\"))"
   ]
  },
  {
   "cell_type": "markdown",
   "metadata": {},
   "source": [
    "## Stability measure\n",
    "\n",
    "In 7a lab we discussed bias/variance view. Here, we will take a stability based view. To estimate stability, \n",
    "we will record maximum change in prediction when adding gaussian noise to examples. This is a very rudimentary\n",
    "way to estimate geometric margin of the network, and we will talk more about this later."
   ]
  },
  {
   "cell_type": "code",
   "execution_count": 7,
   "metadata": {
    "code_folding": [],
    "collapsed": true
   },
   "outputs": [],
   "source": [
    "from src.deepfool import measure_stability_deepfool"
   ]
  },
  {
   "cell_type": "markdown",
   "metadata": {},
   "source": [
    "## Finding optimal $\\eta$ and $S$"
   ]
  },
  {
   "cell_type": "code",
   "execution_count": 8,
   "metadata": {
    "scrolled": true
   },
   "outputs": [
    {
     "name": "stderr",
     "output_type": "stream",
     "text": [
      "100%|██████████| 400/400 [00:26<00:00, 14.84it/s]\n",
      "100%|██████████| 400/400 [00:36<00:00,  6.02it/s]\n",
      "100%|██████████| 400/400 [01:24<00:00,  6.17it/s]\n",
      "100%|██████████| 400/400 [01:19<00:00,  4.64it/s]\n",
      "100%|██████████| 400/400 [01:26<00:00,  4.92it/s]\n",
      "100%|██████████| 400/400 [00:33<00:00, 12.03it/s]\n",
      "100%|██████████| 400/400 [00:30<00:00, 17.13it/s]\n",
      "100%|██████████| 400/400 [00:29<00:00, 13.53it/s]\n",
      "100%|██████████| 400/400 [00:34<00:00, 15.87it/s]\n",
      "100%|██████████| 400/400 [00:36<00:00,  6.36it/s]\n",
      "100%|██████████| 400/400 [00:49<00:00,  8.54it/s]\n",
      "100%|██████████| 400/400 [00:41<00:00,  9.54it/s]\n",
      "100%|██████████| 400/400 [00:35<00:00,  7.63it/s]\n",
      "100%|██████████| 400/400 [00:21<00:00, 17.43it/s]\n",
      "100%|██████████| 400/400 [00:22<00:00, 17.65it/s]\n",
      "100%|██████████| 400/400 [00:26<00:00, 15.04it/s]\n"
     ]
    }
   ],
   "source": [
    "## Starting code\n",
    "\n",
    "Hs = []\n",
    "Lrs = [0.001, 0.005, 0.01, 0.05]\n",
    "Margins = []\n",
    "bss = [16, 32, 64, 128]\n",
    "\n",
    "for lr in Lrs:\n",
    "    for bs in bss:\n",
    "        model = build_mlp(784, 10, hidden_dims=[100, 100, 100])\n",
    "        loss = torch.nn.CrossEntropyLoss(size_average=True)\n",
    "        optimizer = optim.SGD(model.parameters(), lr=lr, momentum=0.9)\n",
    "        H = train(loss=loss, model=model, x_train=x_train, y_train=y_train,\n",
    "                  x_test=x_test, y_test=y_test,\n",
    "                  optim=optimizer, batch_size=100, n_epochs=400)\n",
    "        Margins.append(measure_stability_deepfool(model=model, \n",
    "                    x_train=x_train, y_train=y_train, loss=loss, N=1000))\n",
    "        Hs.append(H)"
   ]
  },
  {
   "cell_type": "code",
   "execution_count": 9,
   "metadata": {},
   "outputs": [
    {
     "name": "stdout",
     "output_type": "stream",
     "text": [
      "lr:  0.001  bs:  16  train_acc:  0.918  test_acc:  0.77\n",
      "0.6724442\n",
      "lr:  0.001  bs:  32  train_acc:  0.916  test_acc:  0.769\n",
      "0.66856253\n",
      "lr:  0.001  bs:  64  train_acc:  0.912  test_acc:  0.767\n",
      "0.6687987\n",
      "lr:  0.001  bs:  128  train_acc:  0.903  test_acc:  0.769\n",
      "0.6767893\n",
      "lr:  0.005  bs:  16  train_acc:  1.0  test_acc:  0.766\n",
      "0.44146228\n",
      "lr:  0.005  bs:  32  train_acc:  1.0  test_acc:  0.766\n",
      "0.43612298\n",
      "lr:  0.005  bs:  64  train_acc:  1.0  test_acc:  0.766\n",
      "0.43698686\n",
      "lr:  0.005  bs:  128  train_acc:  1.0  test_acc:  0.767\n",
      "0.43706694\n",
      "lr:  0.01  bs:  16  train_acc:  1.0  test_acc:  0.772\n",
      "0.48114952\n",
      "lr:  0.01  bs:  32  train_acc:  1.0  test_acc:  0.771\n",
      "0.46749696\n",
      "lr:  0.01  bs:  64  train_acc:  1.0  test_acc:  0.775\n",
      "0.4705845\n",
      "lr:  0.01  bs:  128  train_acc:  1.0  test_acc:  0.776\n",
      "0.47775257\n",
      "lr:  0.05  bs:  16  train_acc:  1.0  test_acc:  0.8\n",
      "0.79633665\n",
      "lr:  0.05  bs:  32  train_acc:  1.0  test_acc:  0.792\n",
      "0.8934287\n",
      "lr:  0.05  bs:  64  train_acc:  1.0  test_acc:  0.791\n",
      "0.8243331\n",
      "lr:  0.05  bs:  128  train_acc:  1.0  test_acc:  0.794\n",
      "0.83274865\n"
     ]
    }
   ],
   "source": [
    "i = 0\n",
    "for lr in Lrs:\n",
    "    for bs in bss:\n",
    "        print(\"lr: \", lr, \" bs: \", bs, \" train_acc: \", Hs[i]['acc'][-1], \" test_acc: \", Hs[i]['test_acc'][-1])\n",
    "        print(Margins[i])\n",
    "        i += 1"
   ]
  }
 ],
 "metadata": {
  "kernelspec": {
   "display_name": "Python [conda env:nn2018]",
   "language": "python",
   "name": "conda-env-nn2018-py"
  },
  "language_info": {
   "codemirror_mode": {
    "name": "ipython",
    "version": 3
   },
   "file_extension": ".py",
   "mimetype": "text/x-python",
   "name": "python",
   "nbconvert_exporter": "python",
   "pygments_lexer": "ipython3",
   "version": "3.6.2"
  },
  "toc": {
   "toc_cell": false,
   "toc_number_sections": true,
   "toc_threshold": 6,
   "toc_window_display": false
  }
 },
 "nbformat": 4,
 "nbformat_minor": 1
}
