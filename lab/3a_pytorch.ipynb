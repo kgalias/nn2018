{
 "cells": [
  {
   "cell_type": "markdown",
   "metadata": {},
   "source": [
    "# Mulitnomial Logistic Regression in PyTorch\n",
    "\n",
    "Your task will be to:\n",
    "\n",
    "* Implement and optimize multinomial logistic regression using Pytorch using Autograd\n",
    "\n",
    "Goal is to:\n",
    "\n",
    "* Understand and learn basics of PyTorch\n",
    "* Revise multinomial logistic regression"
   ]
  },
  {
   "cell_type": "code",
   "execution_count": 1,
   "metadata": {},
   "outputs": [
    {
     "name": "stderr",
     "output_type": "stream",
     "text": [
      "/home/kg/miniconda3/envs/nn2018/lib/python3.6/site-packages/h5py/__init__.py:34: FutureWarning: Conversion of the second argument of issubdtype from `float` to `np.floating` is deprecated. In future, it will be treated as `np.float64 == np.dtype(float).type`.\n",
      "  from ._conv import register_converters as _register_converters\n",
      "Using TensorFlow backend.\n"
     ]
    }
   ],
   "source": [
    "%load_ext autoreload\n",
    "%autoreload 2\n",
    "\n",
    "import numpy as np\n",
    "import tqdm\n",
    "import json\n",
    "\n",
    "import torch\n",
    "import torch.nn.functional as F\n",
    "from torch import nn\n",
    "from torch.autograd import Variable\n",
    "\n",
    "from keras.datasets import fashion_mnist\n",
    "from keras.utils import np_utils\n",
    "\n",
    "%matplotlib inline\n",
    "import matplotlib.pylab as plt\n",
    "\n",
    "import matplotlib as mpl\n",
    "mpl.rcParams['lines.linewidth'] = 2\n",
    "mpl.rcParams['figure.figsize'] = (7, 7)\n",
    "mpl.rcParams['axes.titlesize'] = 12\n",
    "mpl.rcParams['axes.labelsize'] = 12"
   ]
  },
  {
   "cell_type": "code",
   "execution_count": 2,
   "metadata": {
    "collapsed": true
   },
   "outputs": [],
   "source": [
    "# Get FashionMNIST (see 1b_FMNIST.ipynb for data exploration)\n",
    "(x_train, y_train), (x_test, y_test) = fashion_mnist.load_data()\n",
    "\n",
    "# Logistic regression needs 2D data\n",
    "x_train = x_train.reshape(-1, 784)\n",
    "x_test = x_test.reshape(-1, 784)\n",
    "\n",
    "# 0-1 normalization\n",
    "x_train = x_train / 255.\n",
    "x_test = x_test / 255.\n",
    "\n",
    "# For simplicity - implicit bias\n",
    "x_train = np.concatenate([np.ones_like(x_train[:, 0:1]), x_train], axis=1)\n",
    "x_test = np.concatenate([np.ones_like(x_test[:, 0:1]), x_test], axis=1)\n",
    "\n",
    "# Convert to Torch Tensor. Just to avoid boilerplate code later\n",
    "x_train = torch.from_numpy(x_train).type(torch.FloatTensor)\n",
    "x_test = torch.from_numpy(x_test).type(torch.FloatTensor)\n",
    "y_train = torch.from_numpy(y_train).type(torch.LongTensor)\n",
    "y_test = torch.from_numpy(y_test).type(torch.LongTensor)\n",
    "\n",
    "# Use only first 1k examples. Just for notebook to run faster\n",
    "x_train, y_train = x_train[0:1000], y_train[0:1000]\n",
    "x_test, y_test = x_test[0:1000], y_test[0:1000]"
   ]
  },
  {
   "cell_type": "markdown",
   "metadata": {},
   "source": [
    "# Why not Numpy\n",
    "\n",
    "Ref: http://cs231n.stanford.edu/slides/2017/cs231n_2017_lecture8.pdf\n",
    "\n",
    "<img src=\"https://github.com/gmum/nn2018/raw/master/lab/fig/2/GPUvsCPU.png\">"
   ]
  },
  {
   "cell_type": "markdown",
   "metadata": {},
   "source": [
    "# PyTorch mini tutorial\n",
    "\n",
    "Ref: http://pytorch.org/tutorials/beginner/blitz/tensor_tutorial.html#sphx-glr-beginner-blitz-tensor-tutorial-py\n",
    "\n",
    "PyTorch has 3 layers of abstraction\n",
    "\n",
    "<img width=300 src=\"https://github.com/gmum/nn2018/raw/master/lab/fig/3/cake.jpg\">"
   ]
  },
  {
   "cell_type": "markdown",
   "metadata": {},
   "source": [
    "# First layer: torch Tensor\n",
    "\n",
    "First layer is basically numpy, but with ability to execute on GPU"
   ]
  },
  {
   "cell_type": "code",
   "execution_count": 3,
   "metadata": {},
   "outputs": [
    {
     "name": "stdout",
     "output_type": "stream",
     "text": [
      "[ 6 12 20]\n"
     ]
    }
   ],
   "source": [
    "a = torch.IntTensor([2, 3, 4])\n",
    "b = torch.IntTensor([3, 4, 5])\n",
    "m = a * b  # element-wise product\n",
    "print(m.numpy())  # convert to the numpy array [ 6 12 20]"
   ]
  },
  {
   "cell_type": "code",
   "execution_count": 4,
   "metadata": {},
   "outputs": [
    {
     "name": "stdout",
     "output_type": "stream",
     "text": [
      "\n",
      " 0.4991  0.8046  0.6383\n",
      " 0.5512  0.0703  0.2927\n",
      " 0.0378  0.4827  0.2848\n",
      " 0.1036  0.7897  0.3666\n",
      " 0.1148  0.0287  0.5326\n",
      "[torch.FloatTensor of size 5x3]\n",
      "\n"
     ]
    }
   ],
   "source": [
    "x = torch.rand(5, 3)\n",
    "print(x)"
   ]
  },
  {
   "cell_type": "code",
   "execution_count": 5,
   "metadata": {},
   "outputs": [
    {
     "name": "stdout",
     "output_type": "stream",
     "text": [
      "\n",
      " 1.1035  0.9545  1.4725\n",
      " 1.1324  0.4428  0.2963\n",
      " 0.8617  0.9599  0.8716\n",
      " 0.5866  0.8803  1.3566\n",
      " 0.9298  0.0560  1.4999\n",
      "[torch.FloatTensor of size 5x3]\n",
      "\n"
     ]
    }
   ],
   "source": [
    "y = torch.rand(5, 3)\n",
    "print(x + y)"
   ]
  },
  {
   "cell_type": "code",
   "execution_count": 6,
   "metadata": {},
   "outputs": [
    {
     "name": "stdout",
     "output_type": "stream",
     "text": [
      "\n",
      " 1.1035  0.9545  1.4725\n",
      " 1.1324  0.4428  0.2963\n",
      " 0.8617  0.9599  0.8716\n",
      " 0.5866  0.8803  1.3566\n",
      " 0.9298  0.0560  1.4999\n",
      "[torch.FloatTensor of size 5x3]\n",
      "\n"
     ]
    }
   ],
   "source": [
    "print(torch.add(x, y))"
   ]
  },
  {
   "cell_type": "code",
   "execution_count": 7,
   "metadata": {},
   "outputs": [
    {
     "name": "stdout",
     "output_type": "stream",
     "text": [
      "\n",
      " 0.8046\n",
      " 0.0703\n",
      " 0.4827\n",
      " 0.7897\n",
      " 0.0287\n",
      "[torch.FloatTensor of size 5]\n",
      "\n"
     ]
    }
   ],
   "source": [
    "## Just like numpy! Amazing!\n",
    "print(x[:, 1])"
   ]
  },
  {
   "cell_type": "markdown",
   "metadata": {},
   "source": [
    "## GPU execution by modifying flag"
   ]
  },
  {
   "cell_type": "code",
   "execution_count": 8,
   "metadata": {},
   "outputs": [
    {
     "name": "stdout",
     "output_type": "stream",
     "text": [
      "No GPU!\n"
     ]
    }
   ],
   "source": [
    "if torch.cuda.is_available():\n",
    "    x = x.cuda()\n",
    "    y = y.cuda()\n",
    "    x + y\n",
    "else:\n",
    "    print(\"No GPU!\")"
   ]
  },
  {
   "cell_type": "markdown",
   "metadata": {},
   "source": [
    "# Second layer: Variable, computation graph and autograd\n",
    "\n",
    "torch.autograd.Variable uses internally torch.Tensor as .data field.\n",
    "\n",
    "When computing using wrapped in torch.Variable tensors, PyTorch creates computational graph for us"
   ]
  },
  {
   "cell_type": "code",
   "execution_count": 9,
   "metadata": {},
   "outputs": [
    {
     "name": "stdout",
     "output_type": "stream",
     "text": [
      "Requirement already satisfied: graphviz in /home/kg/miniconda3/envs/nn2018/lib/python3.6/site-packages\n",
      "Collecting git+https://github.com/szagoruyko/pytorchviz\n",
      "  Cloning https://github.com/szagoruyko/pytorchviz to /tmp/pip-loo7ejg6-build\n",
      "  Requirement already satisfied (use --upgrade to upgrade): pytorchviz==0.0.1 from git+https://github.com/szagoruyko/pytorchviz in /home/kg/miniconda3/envs/nn2018/lib/python3.6/site-packages\n",
      "Requirement already satisfied: torch in /home/kg/miniconda3/envs/nn2018/lib/python3.6/site-packages (from pytorchviz==0.0.1)\n",
      "Requirement already satisfied: graphviz in /home/kg/miniconda3/envs/nn2018/lib/python3.6/site-packages (from pytorchviz==0.0.1)\n",
      "Requirement already satisfied: pyyaml in /home/kg/miniconda3/envs/nn2018/lib/python3.6/site-packages (from torch->pytorchviz==0.0.1)\n",
      "Requirement already satisfied: numpy in /home/kg/miniconda3/envs/nn2018/lib/python3.6/site-packages (from torch->pytorchviz==0.0.1)\n"
     ]
    }
   ],
   "source": [
    "# Get torchviz (might not work on some systems)\n",
    "!pip install graphviz\n",
    "!pip install git+https://github.com/szagoruyko/pytorchviz\n",
    "from torchviz import make_dot, make_dot_from_trace"
   ]
  },
  {
   "cell_type": "code",
   "execution_count": 10,
   "metadata": {
    "collapsed": true
   },
   "outputs": [],
   "source": [
    "w = Variable(torch.ones(2, 2), requires_grad=True)\n",
    "x = Variable(torch.ones(2, 4), requires_grad=True)\n",
    "y = w.mm(x) + 2"
   ]
  },
  {
   "cell_type": "code",
   "execution_count": 11,
   "metadata": {},
   "outputs": [
    {
     "data": {
      "image/svg+xml": [
       "<?xml version=\"1.0\" encoding=\"UTF-8\" standalone=\"no\"?>\n",
       "<!DOCTYPE svg PUBLIC \"-//W3C//DTD SVG 1.1//EN\"\n",
       " \"http://www.w3.org/Graphics/SVG/1.1/DTD/svg11.dtd\">\n",
       "<!-- Generated by graphviz version 2.38.0 (20140413.2041)\n",
       " -->\n",
       "<!-- Title: %3 Pages: 1 -->\n",
       "<svg width=\"134pt\" height=\"157pt\"\n",
       " viewBox=\"0.00 0.00 134.00 157.00\" xmlns=\"http://www.w3.org/2000/svg\" xmlns:xlink=\"http://www.w3.org/1999/xlink\">\n",
       "<g id=\"graph0\" class=\"graph\" transform=\"scale(1 1) rotate(0) translate(4 153)\">\n",
       "<title>%3</title>\n",
       "<polygon fill=\"white\" stroke=\"none\" points=\"-4,4 -4,-153 130,-153 130,4 -4,4\"/>\n",
       "<!-- 139676250056408 -->\n",
       "<g id=\"node1\" class=\"node\"><title>139676250056408</title>\n",
       "<polygon fill=\"lightgrey\" stroke=\"black\" points=\"109,-21 17,-21 17,-0 109,-0 109,-21\"/>\n",
       "<text text-anchor=\"middle\" x=\"63\" y=\"-7.4\" font-family=\"Times,serif\" font-size=\"12.00\">AddBackward0</text>\n",
       "</g>\n",
       "<!-- 139676250056800 -->\n",
       "<g id=\"node2\" class=\"node\"><title>139676250056800</title>\n",
       "<polygon fill=\"lightgrey\" stroke=\"black\" points=\"105.5,-78 20.5,-78 20.5,-57 105.5,-57 105.5,-78\"/>\n",
       "<text text-anchor=\"middle\" x=\"63\" y=\"-64.4\" font-family=\"Times,serif\" font-size=\"12.00\">MmBackward</text>\n",
       "</g>\n",
       "<!-- 139676250056800&#45;&gt;139676250056408 -->\n",
       "<g id=\"edge1\" class=\"edge\"><title>139676250056800&#45;&gt;139676250056408</title>\n",
       "<path fill=\"none\" stroke=\"black\" d=\"M63,-56.9197C63,-49.9083 63,-40.1442 63,-31.4652\"/>\n",
       "<polygon fill=\"black\" stroke=\"black\" points=\"66.5001,-31.3408 63,-21.3408 59.5001,-31.3409 66.5001,-31.3408\"/>\n",
       "</g>\n",
       "<!-- 139676250057136 -->\n",
       "<g id=\"node3\" class=\"node\"><title>139676250057136</title>\n",
       "<polygon fill=\"lightblue\" stroke=\"black\" points=\"54,-149 0,-149 0,-114 54,-114 54,-149\"/>\n",
       "<text text-anchor=\"middle\" x=\"27\" y=\"-121.4\" font-family=\"Times,serif\" font-size=\"12.00\"> (2, 2)</text>\n",
       "</g>\n",
       "<!-- 139676250057136&#45;&gt;139676250056800 -->\n",
       "<g id=\"edge2\" class=\"edge\"><title>139676250057136&#45;&gt;139676250056800</title>\n",
       "<path fill=\"none\" stroke=\"black\" d=\"M36.6473,-113.885C41.4897,-105.545 47.3684,-95.4212 52.3436,-86.8527\"/>\n",
       "<polygon fill=\"black\" stroke=\"black\" points=\"55.4789,-88.4232 57.4736,-78.0178 49.4254,-84.9082 55.4789,-88.4232\"/>\n",
       "</g>\n",
       "<!-- 139676250055736 -->\n",
       "<g id=\"node4\" class=\"node\"><title>139676250055736</title>\n",
       "<polygon fill=\"lightblue\" stroke=\"black\" points=\"126,-149 72,-149 72,-114 126,-114 126,-149\"/>\n",
       "<text text-anchor=\"middle\" x=\"99\" y=\"-121.4\" font-family=\"Times,serif\" font-size=\"12.00\"> (2, 4)</text>\n",
       "</g>\n",
       "<!-- 139676250055736&#45;&gt;139676250056800 -->\n",
       "<g id=\"edge3\" class=\"edge\"><title>139676250055736&#45;&gt;139676250056800</title>\n",
       "<path fill=\"none\" stroke=\"black\" d=\"M89.3527,-113.885C84.5103,-105.545 78.6316,-95.4212 73.6564,-86.8527\"/>\n",
       "<polygon fill=\"black\" stroke=\"black\" points=\"76.5746,-84.9082 68.5264,-78.0178 70.5211,-88.4232 76.5746,-84.9082\"/>\n",
       "</g>\n",
       "</g>\n",
       "</svg>\n"
      ],
      "text/plain": [
       "<graphviz.dot.Digraph at 0x7f08e944aac8>"
      ]
     },
     "execution_count": 11,
     "metadata": {},
     "output_type": "execute_result"
    }
   ],
   "source": [
    "make_dot(y)"
   ]
  },
  {
   "cell_type": "markdown",
   "metadata": {},
   "source": [
    "## Autograd\n",
    "\n",
    "torch.Autograd works on torch.Variable"
   ]
  },
  {
   "cell_type": "code",
   "execution_count": 12,
   "metadata": {},
   "outputs": [
    {
     "name": "stdout",
     "output_type": "stream",
     "text": [
      "Variable containing:\n",
      " 1  1\n",
      " 1  1\n",
      "[torch.FloatTensor of size 2x2]\n",
      "\n",
      "Variable containing:\n",
      " 3  3\n",
      " 3  3\n",
      "[torch.FloatTensor of size 2x2]\n",
      "\n",
      "Variable containing:\n",
      " 27  27\n",
      " 27  27\n",
      "[torch.FloatTensor of size 2x2]\n",
      " Variable containing:\n",
      " 27\n",
      "[torch.FloatTensor of size 1]\n",
      "\n",
      "Variable containing:\n",
      " 4.5000  4.5000\n",
      " 4.5000  4.5000\n",
      "[torch.FloatTensor of size 2x2]\n",
      "\n"
     ]
    }
   ],
   "source": [
    "x = Variable(torch.ones(2, 2), requires_grad=True)\n",
    "print(x)\n",
    "y = x + 2\n",
    "print(y)\n",
    "z = y * y * 3\n",
    "out = z.mean()\n",
    "print(z, out)\n",
    "out.backward()\n",
    "print(x.grad) # dout/dx :)"
   ]
  },
  {
   "cell_type": "code",
   "execution_count": 13,
   "metadata": {
    "collapsed": true
   },
   "outputs": [],
   "source": [
    "w = Variable(torch.ones(2, 2), requires_grad=True)\n",
    "x = Variable(torch.ones(2, 4), requires_grad=False)\n",
    "y = (w.mm(x) + 2).mean()\n",
    "grad,  = torch.autograd.grad(y, w, create_graph=True, retain_graph=True)"
   ]
  },
  {
   "cell_type": "code",
   "execution_count": 14,
   "metadata": {},
   "outputs": [
    {
     "data": {
      "image/svg+xml": [
       "<?xml version=\"1.0\" encoding=\"UTF-8\" standalone=\"no\"?>\n",
       "<!DOCTYPE svg PUBLIC \"-//W3C//DTD SVG 1.1//EN\"\n",
       " \"http://www.w3.org/Graphics/SVG/1.1/DTD/svg11.dtd\">\n",
       "<!-- Generated by graphviz version 2.38.0 (20140413.2041)\n",
       " -->\n",
       "<!-- Title: %3 Pages: 1 -->\n",
       "<svg width=\"106pt\" height=\"213pt\"\n",
       " viewBox=\"0.00 0.00 106.00 213.00\" xmlns=\"http://www.w3.org/2000/svg\" xmlns:xlink=\"http://www.w3.org/1999/xlink\">\n",
       "<g id=\"graph0\" class=\"graph\" transform=\"scale(1 1) rotate(0) translate(4 209)\">\n",
       "<title>%3</title>\n",
       "<polygon fill=\"white\" stroke=\"none\" points=\"-4,4 -4,-209 102,-209 102,4 -4,4\"/>\n",
       "<!-- 139676250057248 -->\n",
       "<g id=\"node1\" class=\"node\"><title>139676250057248</title>\n",
       "<polygon fill=\"lightgrey\" stroke=\"black\" points=\"98,-21 0,-21 0,-0 98,-0 98,-21\"/>\n",
       "<text text-anchor=\"middle\" x=\"49\" y=\"-7.4\" font-family=\"Times,serif\" font-size=\"12.00\">MeanBackward1</text>\n",
       "</g>\n",
       "<!-- 139676250056632 -->\n",
       "<g id=\"node2\" class=\"node\"><title>139676250056632</title>\n",
       "<polygon fill=\"lightgrey\" stroke=\"black\" points=\"95,-78 3,-78 3,-57 95,-57 95,-78\"/>\n",
       "<text text-anchor=\"middle\" x=\"49\" y=\"-64.4\" font-family=\"Times,serif\" font-size=\"12.00\">AddBackward0</text>\n",
       "</g>\n",
       "<!-- 139676250056632&#45;&gt;139676250057248 -->\n",
       "<g id=\"edge1\" class=\"edge\"><title>139676250056632&#45;&gt;139676250057248</title>\n",
       "<path fill=\"none\" stroke=\"black\" d=\"M49,-56.9197C49,-49.9083 49,-40.1442 49,-31.4652\"/>\n",
       "<polygon fill=\"black\" stroke=\"black\" points=\"52.5001,-31.3408 49,-21.3408 45.5001,-31.3409 52.5001,-31.3408\"/>\n",
       "</g>\n",
       "<!-- 139676250058088 -->\n",
       "<g id=\"node3\" class=\"node\"><title>139676250058088</title>\n",
       "<polygon fill=\"lightgrey\" stroke=\"black\" points=\"91.5,-135 6.5,-135 6.5,-114 91.5,-114 91.5,-135\"/>\n",
       "<text text-anchor=\"middle\" x=\"49\" y=\"-121.4\" font-family=\"Times,serif\" font-size=\"12.00\">MmBackward</text>\n",
       "</g>\n",
       "<!-- 139676250058088&#45;&gt;139676250056632 -->\n",
       "<g id=\"edge2\" class=\"edge\"><title>139676250058088&#45;&gt;139676250056632</title>\n",
       "<path fill=\"none\" stroke=\"black\" d=\"M49,-113.92C49,-106.908 49,-97.1442 49,-88.4652\"/>\n",
       "<polygon fill=\"black\" stroke=\"black\" points=\"52.5001,-88.3408 49,-78.3408 45.5001,-88.3409 52.5001,-88.3408\"/>\n",
       "</g>\n",
       "<!-- 139676250057864 -->\n",
       "<g id=\"node4\" class=\"node\"><title>139676250057864</title>\n",
       "<polygon fill=\"lightblue\" stroke=\"black\" points=\"76,-205 22,-205 22,-171 76,-171 76,-205\"/>\n",
       "<text text-anchor=\"middle\" x=\"49\" y=\"-191.4\" font-family=\"Times,serif\" font-size=\"12.00\">w</text>\n",
       "<text text-anchor=\"middle\" x=\"49\" y=\"-178.4\" font-family=\"Times,serif\" font-size=\"12.00\"> (2, 2)</text>\n",
       "</g>\n",
       "<!-- 139676250057864&#45;&gt;139676250058088 -->\n",
       "<g id=\"edge3\" class=\"edge\"><title>139676250057864&#45;&gt;139676250058088</title>\n",
       "<path fill=\"none\" stroke=\"black\" d=\"M49,-170.842C49,-163.012 49,-153.54 49,-145.282\"/>\n",
       "<polygon fill=\"black\" stroke=\"black\" points=\"52.5001,-145.042 49,-135.042 45.5001,-145.042 52.5001,-145.042\"/>\n",
       "</g>\n",
       "</g>\n",
       "</svg>\n"
      ],
      "text/plain": [
       "<graphviz.dot.Digraph at 0x7f08e944a940>"
      ]
     },
     "execution_count": 14,
     "metadata": {},
     "output_type": "execute_result"
    }
   ],
   "source": [
    "make_dot(y, params={\"w\": w})"
   ]
  },
  {
   "cell_type": "code",
   "execution_count": 15,
   "metadata": {},
   "outputs": [
    {
     "data": {
      "image/svg+xml": [
       "<?xml version=\"1.0\" encoding=\"UTF-8\" standalone=\"no\"?>\n",
       "<!DOCTYPE svg PUBLIC \"-//W3C//DTD SVG 1.1//EN\"\n",
       " \"http://www.w3.org/Graphics/SVG/1.1/DTD/svg11.dtd\">\n",
       "<!-- Generated by graphviz version 2.38.0 (20140413.2041)\n",
       " -->\n",
       "<!-- Title: %3 Pages: 1 -->\n",
       "<svg width=\"76pt\" height=\"29pt\"\n",
       " viewBox=\"0.00 0.00 76.00 29.00\" xmlns=\"http://www.w3.org/2000/svg\" xmlns:xlink=\"http://www.w3.org/1999/xlink\">\n",
       "<g id=\"graph0\" class=\"graph\" transform=\"scale(1 1) rotate(0) translate(4 25)\">\n",
       "<title>%3</title>\n",
       "<polygon fill=\"white\" stroke=\"none\" points=\"-4,4 -4,-25 72,-25 72,4 -4,4\"/>\n",
       "<!-- 139678202850640 -->\n",
       "<g id=\"node1\" class=\"node\"><title>139678202850640</title>\n",
       "<polygon fill=\"lightgrey\" stroke=\"black\" points=\"68,-21 0,-21 0,-0 68,-0 68,-21\"/>\n",
       "<text text-anchor=\"middle\" x=\"34\" y=\"-7.4\" font-family=\"Times,serif\" font-size=\"12.00\">NoneType</text>\n",
       "</g>\n",
       "</g>\n",
       "</svg>\n"
      ],
      "text/plain": [
       "<graphviz.dot.Digraph at 0x7f08e944ae10>"
      ]
     },
     "execution_count": 15,
     "metadata": {},
     "output_type": "execute_result"
    }
   ],
   "source": [
    "make_dot(grad, params={\"w\": w, \"x\": x})"
   ]
  },
  {
   "cell_type": "markdown",
   "metadata": {},
   "source": [
    "# Third layer: torch.nn\n",
    "\n",
    "Not much about it now. We will work much closer with later."
   ]
  },
  {
   "cell_type": "code",
   "execution_count": 16,
   "metadata": {
    "collapsed": true
   },
   "outputs": [],
   "source": [
    "model = nn.Sequential()\n",
    "model.add_module('W0', nn.Linear(8, 16))\n",
    "model.add_module('tanh', nn.Tanh())\n",
    "model.add_module('W1', nn.Linear(16, 1))\n",
    "\n",
    "x = Variable(torch.randn(1,8))\n",
    "y = model(x)"
   ]
  },
  {
   "cell_type": "code",
   "execution_count": 17,
   "metadata": {},
   "outputs": [
    {
     "data": {
      "image/svg+xml": [
       "<?xml version=\"1.0\" encoding=\"UTF-8\" standalone=\"no\"?>\n",
       "<!DOCTYPE svg PUBLIC \"-//W3C//DTD SVG 1.1//EN\"\n",
       " \"http://www.w3.org/Graphics/SVG/1.1/DTD/svg11.dtd\">\n",
       "<!-- Generated by graphviz version 2.38.0 (20140413.2041)\n",
       " -->\n",
       "<!-- Title: %3 Pages: 1 -->\n",
       "<svg width=\"316pt\" height=\"340pt\"\n",
       " viewBox=\"0.00 0.00 315.50 340.00\" xmlns=\"http://www.w3.org/2000/svg\" xmlns:xlink=\"http://www.w3.org/1999/xlink\">\n",
       "<g id=\"graph0\" class=\"graph\" transform=\"scale(1 1) rotate(0) translate(4 336)\">\n",
       "<title>%3</title>\n",
       "<polygon fill=\"white\" stroke=\"none\" points=\"-4,4 -4,-336 311.5,-336 311.5,4 -4,4\"/>\n",
       "<!-- 139676241134312 -->\n",
       "<g id=\"node1\" class=\"node\"><title>139676241134312</title>\n",
       "<polygon fill=\"lightgrey\" stroke=\"black\" points=\"217,-21 119,-21 119,-0 217,-0 217,-21\"/>\n",
       "<text text-anchor=\"middle\" x=\"168\" y=\"-7.4\" font-family=\"Times,serif\" font-size=\"12.00\">MeanBackward1</text>\n",
       "</g>\n",
       "<!-- 139676241134200 -->\n",
       "<g id=\"node2\" class=\"node\"><title>139676241134200</title>\n",
       "<polygon fill=\"lightgrey\" stroke=\"black\" points=\"220,-78 116,-78 116,-57 220,-57 220,-78\"/>\n",
       "<text text-anchor=\"middle\" x=\"168\" y=\"-64.4\" font-family=\"Times,serif\" font-size=\"12.00\">AddmmBackward</text>\n",
       "</g>\n",
       "<!-- 139676241134200&#45;&gt;139676241134312 -->\n",
       "<g id=\"edge1\" class=\"edge\"><title>139676241134200&#45;&gt;139676241134312</title>\n",
       "<path fill=\"none\" stroke=\"black\" d=\"M168,-56.9197C168,-49.9083 168,-40.1442 168,-31.4652\"/>\n",
       "<polygon fill=\"black\" stroke=\"black\" points=\"171.5,-31.3408 168,-21.3408 164.5,-31.3409 171.5,-31.3408\"/>\n",
       "</g>\n",
       "<!-- 139676241133752 -->\n",
       "<g id=\"node3\" class=\"node\"><title>139676241133752</title>\n",
       "<polygon fill=\"lightgrey\" stroke=\"black\" points=\"102,-135 7.10543e-15,-135 7.10543e-15,-114 102,-114 102,-135\"/>\n",
       "<text text-anchor=\"middle\" x=\"51\" y=\"-121.4\" font-family=\"Times,serif\" font-size=\"12.00\">ExpandBackward</text>\n",
       "</g>\n",
       "<!-- 139676241133752&#45;&gt;139676241134200 -->\n",
       "<g id=\"edge2\" class=\"edge\"><title>139676241133752&#45;&gt;139676241134200</title>\n",
       "<path fill=\"none\" stroke=\"black\" d=\"M71.3798,-113.92C89.8888,-105.219 117.415,-92.2792 138.358,-82.4343\"/>\n",
       "<polygon fill=\"black\" stroke=\"black\" points=\"139.9,-85.5768 147.461,-78.155 136.922,-79.2418 139.9,-85.5768\"/>\n",
       "</g>\n",
       "<!-- 139676241134648 -->\n",
       "<g id=\"node4\" class=\"node\"><title>139676241134648</title>\n",
       "<polygon fill=\"lightblue\" stroke=\"black\" points=\"79,-205 23,-205 23,-171 79,-171 79,-205\"/>\n",
       "<text text-anchor=\"middle\" x=\"51\" y=\"-191.4\" font-family=\"Times,serif\" font-size=\"12.00\">W1.bias</text>\n",
       "<text text-anchor=\"middle\" x=\"51\" y=\"-178.4\" font-family=\"Times,serif\" font-size=\"12.00\"> (1)</text>\n",
       "</g>\n",
       "<!-- 139676241134648&#45;&gt;139676241133752 -->\n",
       "<g id=\"edge3\" class=\"edge\"><title>139676241134648&#45;&gt;139676241133752</title>\n",
       "<path fill=\"none\" stroke=\"black\" d=\"M51,-170.842C51,-163.012 51,-153.54 51,-145.282\"/>\n",
       "<polygon fill=\"black\" stroke=\"black\" points=\"54.5001,-145.042 51,-135.042 47.5001,-145.042 54.5001,-145.042\"/>\n",
       "</g>\n",
       "<!-- 139676241134928 -->\n",
       "<g id=\"node5\" class=\"node\"><title>139676241134928</title>\n",
       "<polygon fill=\"lightgrey\" stroke=\"black\" points=\"216,-135 120,-135 120,-114 216,-114 216,-135\"/>\n",
       "<text text-anchor=\"middle\" x=\"168\" y=\"-121.4\" font-family=\"Times,serif\" font-size=\"12.00\">TanhBackward0</text>\n",
       "</g>\n",
       "<!-- 139676241134928&#45;&gt;139676241134200 -->\n",
       "<g id=\"edge4\" class=\"edge\"><title>139676241134928&#45;&gt;139676241134200</title>\n",
       "<path fill=\"none\" stroke=\"black\" d=\"M168,-113.92C168,-106.908 168,-97.1442 168,-88.4652\"/>\n",
       "<polygon fill=\"black\" stroke=\"black\" points=\"171.5,-88.3408 168,-78.3408 164.5,-88.3409 171.5,-88.3408\"/>\n",
       "</g>\n",
       "<!-- 139676241135096 -->\n",
       "<g id=\"node6\" class=\"node\"><title>139676241135096</title>\n",
       "<polygon fill=\"lightgrey\" stroke=\"black\" points=\"219,-198.5 115,-198.5 115,-177.5 219,-177.5 219,-198.5\"/>\n",
       "<text text-anchor=\"middle\" x=\"167\" y=\"-184.9\" font-family=\"Times,serif\" font-size=\"12.00\">AddmmBackward</text>\n",
       "</g>\n",
       "<!-- 139676241135096&#45;&gt;139676241134928 -->\n",
       "<g id=\"edge5\" class=\"edge\"><title>139676241135096&#45;&gt;139676241134928</title>\n",
       "<path fill=\"none\" stroke=\"black\" d=\"M167.156,-177.391C167.295,-168.866 167.502,-156.139 167.676,-145.423\"/>\n",
       "<polygon fill=\"black\" stroke=\"black\" points=\"171.178,-145.3 167.842,-135.245 164.179,-145.187 171.178,-145.3\"/>\n",
       "</g>\n",
       "<!-- 139676241134368 -->\n",
       "<g id=\"node7\" class=\"node\"><title>139676241134368</title>\n",
       "<polygon fill=\"lightgrey\" stroke=\"black\" points=\"165,-262 63,-262 63,-241 165,-241 165,-262\"/>\n",
       "<text text-anchor=\"middle\" x=\"114\" y=\"-248.4\" font-family=\"Times,serif\" font-size=\"12.00\">ExpandBackward</text>\n",
       "</g>\n",
       "<!-- 139676241134368&#45;&gt;139676241135096 -->\n",
       "<g id=\"edge6\" class=\"edge\"><title>139676241134368&#45;&gt;139676241135096</title>\n",
       "<path fill=\"none\" stroke=\"black\" d=\"M122.281,-240.891C130.169,-231.738 142.231,-217.741 151.841,-206.59\"/>\n",
       "<polygon fill=\"black\" stroke=\"black\" points=\"154.725,-208.605 158.602,-198.745 149.422,-204.035 154.725,-208.605\"/>\n",
       "</g>\n",
       "<!-- 139676241134480 -->\n",
       "<g id=\"node8\" class=\"node\"><title>139676241134480</title>\n",
       "<polygon fill=\"lightblue\" stroke=\"black\" points=\"142,-332 86,-332 86,-298 142,-298 142,-332\"/>\n",
       "<text text-anchor=\"middle\" x=\"114\" y=\"-318.4\" font-family=\"Times,serif\" font-size=\"12.00\">W0.bias</text>\n",
       "<text text-anchor=\"middle\" x=\"114\" y=\"-305.4\" font-family=\"Times,serif\" font-size=\"12.00\"> (16)</text>\n",
       "</g>\n",
       "<!-- 139676241134480&#45;&gt;139676241134368 -->\n",
       "<g id=\"edge7\" class=\"edge\"><title>139676241134480&#45;&gt;139676241134368</title>\n",
       "<path fill=\"none\" stroke=\"black\" d=\"M114,-297.842C114,-290.012 114,-280.54 114,-272.282\"/>\n",
       "<polygon fill=\"black\" stroke=\"black\" points=\"117.5,-272.042 114,-262.042 110.5,-272.042 117.5,-272.042\"/>\n",
       "</g>\n",
       "<!-- 139676241134424 -->\n",
       "<g id=\"node9\" class=\"node\"><title>139676241134424</title>\n",
       "<polygon fill=\"lightgrey\" stroke=\"black\" points=\"256.5,-262 183.5,-262 183.5,-241 256.5,-241 256.5,-262\"/>\n",
       "<text text-anchor=\"middle\" x=\"220\" y=\"-248.4\" font-family=\"Times,serif\" font-size=\"12.00\">TBackward</text>\n",
       "</g>\n",
       "<!-- 139676241134424&#45;&gt;139676241135096 -->\n",
       "<g id=\"edge8\" class=\"edge\"><title>139676241134424&#45;&gt;139676241135096</title>\n",
       "<path fill=\"none\" stroke=\"black\" d=\"M211.719,-240.891C203.831,-231.738 191.769,-217.741 182.159,-206.59\"/>\n",
       "<polygon fill=\"black\" stroke=\"black\" points=\"184.578,-204.035 175.398,-198.745 179.275,-208.605 184.578,-204.035\"/>\n",
       "</g>\n",
       "<!-- 139676241135152 -->\n",
       "<g id=\"node10\" class=\"node\"><title>139676241135152</title>\n",
       "<polygon fill=\"lightblue\" stroke=\"black\" points=\"254.5,-332 185.5,-332 185.5,-298 254.5,-298 254.5,-332\"/>\n",
       "<text text-anchor=\"middle\" x=\"220\" y=\"-318.4\" font-family=\"Times,serif\" font-size=\"12.00\">W0.weight</text>\n",
       "<text text-anchor=\"middle\" x=\"220\" y=\"-305.4\" font-family=\"Times,serif\" font-size=\"12.00\"> (16, 8)</text>\n",
       "</g>\n",
       "<!-- 139676241135152&#45;&gt;139676241134424 -->\n",
       "<g id=\"edge9\" class=\"edge\"><title>139676241135152&#45;&gt;139676241134424</title>\n",
       "<path fill=\"none\" stroke=\"black\" d=\"M220,-297.842C220,-290.012 220,-280.54 220,-272.282\"/>\n",
       "<polygon fill=\"black\" stroke=\"black\" points=\"223.5,-272.042 220,-262.042 216.5,-272.042 223.5,-272.042\"/>\n",
       "</g>\n",
       "<!-- 139676241134704 -->\n",
       "<g id=\"node11\" class=\"node\"><title>139676241134704</title>\n",
       "<polygon fill=\"lightgrey\" stroke=\"black\" points=\"307.5,-135 234.5,-135 234.5,-114 307.5,-114 307.5,-135\"/>\n",
       "<text text-anchor=\"middle\" x=\"271\" y=\"-121.4\" font-family=\"Times,serif\" font-size=\"12.00\">TBackward</text>\n",
       "</g>\n",
       "<!-- 139676241134704&#45;&gt;139676241134200 -->\n",
       "<g id=\"edge10\" class=\"edge\"><title>139676241134704&#45;&gt;139676241134200</title>\n",
       "<path fill=\"none\" stroke=\"black\" d=\"M253.059,-113.92C237.058,-105.376 213.403,-92.7441 195.097,-82.9694\"/>\n",
       "<polygon fill=\"black\" stroke=\"black\" points=\"196.551,-79.778 186.081,-78.155 193.254,-85.9528 196.551,-79.778\"/>\n",
       "</g>\n",
       "<!-- 139676241134984 -->\n",
       "<g id=\"node12\" class=\"node\"><title>139676241134984</title>\n",
       "<polygon fill=\"lightblue\" stroke=\"black\" points=\"306.5,-205 237.5,-205 237.5,-171 306.5,-171 306.5,-205\"/>\n",
       "<text text-anchor=\"middle\" x=\"272\" y=\"-191.4\" font-family=\"Times,serif\" font-size=\"12.00\">W1.weight</text>\n",
       "<text text-anchor=\"middle\" x=\"272\" y=\"-178.4\" font-family=\"Times,serif\" font-size=\"12.00\"> (1, 16)</text>\n",
       "</g>\n",
       "<!-- 139676241134984&#45;&gt;139676241134704 -->\n",
       "<g id=\"edge11\" class=\"edge\"><title>139676241134984&#45;&gt;139676241134704</title>\n",
       "<path fill=\"none\" stroke=\"black\" d=\"M271.737,-170.842C271.61,-163.012 271.456,-153.54 271.322,-145.282\"/>\n",
       "<polygon fill=\"black\" stroke=\"black\" points=\"274.817,-144.984 271.155,-135.042 267.818,-145.098 274.817,-144.984\"/>\n",
       "</g>\n",
       "</g>\n",
       "</svg>\n"
      ],
      "text/plain": [
       "<graphviz.dot.Digraph at 0x7f08e8bc84e0>"
      ]
     },
     "execution_count": 17,
     "metadata": {},
     "output_type": "execute_result"
    }
   ],
   "source": [
    "make_dot(y.mean(), params=dict(model.named_parameters()))"
   ]
  },
  {
   "cell_type": "markdown",
   "metadata": {},
   "source": [
    "# Multinomial logistic regression\n",
    "\n",
    "(Using PyTorch)\n",
    "\n",
    "## Useful equations\n",
    "\n",
    "Let $D$ denote input dimension, $K$ denote number of classes. Class probabilities are given by the softmax distribution:\n",
    "\n",
    "<br>\n",
    "<font size=4>\n",
    "$ p(\\textbf{y} = k | \\textbf{x}, \\textbf{w}) = \\frac{\\exp(\\langle\\textbf{w}_k, \\textbf{x}\\rangle)}{\\sum_i^{K} \\exp(\\langle\\textbf{w}_i, \\textbf{x}\\rangle)}$\n",
    "</font>\n",
    "\n",
    ", where $w \\in \\mathbb{R}^{(D,K)}$, $w_k$ denotes $k^{th}$ row of the $w$ matrix. For $K=2$ equivalent to the binomial logistic regression discussed in the previous notebook:\n",
    "\n",
    "<br>\n",
    "<font size=4>\n",
    "$ p(\\textbf{y} | \\textbf{x}, \\textbf{w}) = \\sigma(\\langle\\textbf{w}, \\textbf{x}\\rangle)$\n",
    "</font>\n",
    "\n",
    "Same as in binary case, loss is the cross-entropy loss:\n",
    "\n",
    "<br>\n",
    "<font size=4>\n",
    "$ L(\\textbf{w}) = - \\sum_i y_i \\log(p(\\textbf{y_i} | \\textbf{x_i}, \\textbf{w}))$\n",
    "</font>\n"
   ]
  },
  {
   "cell_type": "markdown",
   "metadata": {},
   "source": [
    "## Implement helper functions \n",
    "\n",
    "Hint: very similar to 2a_logistic_regression"
   ]
  },
  {
   "cell_type": "code",
   "execution_count": 18,
   "metadata": {
    "collapsed": true
   },
   "outputs": [],
   "source": [
    "def cross_entropy_loss(y_pred, y):\n",
    "    \"\"\"\n",
    "    Parameters\n",
    "    ----------\n",
    "    y_pred: torch.Variable, shape: (batch_size, K)\n",
    "        Probabiities\n",
    "    y: torch.Variable, shape: (batch_size,)\n",
    "        Correct classes\n",
    "    \n",
    "    Returns\n",
    "    -------\n",
    "    loss: torch.Variable, shape: (1, )\n",
    "        Cross entropy loss\n",
    "    \"\"\"\n",
    "    # Hint: use y as indexes to retrieve appropriate columns of y_pred\n",
    "    return - y_pred[range(len(y.data)), y].log().mean()\n",
    "\n",
    "\n",
    "def softmax(h):\n",
    "    \"\"\"\n",
    "    Parameters\n",
    "    ----------\n",
    "    h: torch.Variable, shape: (batch_size, K)\n",
    "        Logits\n",
    "    \n",
    "    Returns\n",
    "    -------\n",
    "    y_pred: torch.Variable, shape: (batch_size, K)\n",
    "        Softmax on h\n",
    "    \"\"\"\n",
    "    return h.exp() / h.exp().sum(dim=1, keepdim=True)\n",
    "\n",
    "def forward(x, w):\n",
    "    return softmax(x.mm(w))\n",
    "\n",
    "def evaluate(w):\n",
    "    x = Variable(x_test)\n",
    "    y_test_pred = forward(x, w).data.numpy()\n",
    "    return np.mean(y_test_pred.argmax(axis=1) == y_test.numpy())"
   ]
  },
  {
   "cell_type": "code",
   "execution_count": 19,
   "metadata": {},
   "outputs": [
    {
     "name": "stderr",
     "output_type": "stream",
     "text": [
      "/home/kg/miniconda3/envs/nn2018/lib/python3.6/site-packages/ipykernel/__main__.py:11: UserWarning: Implicit dimension choice for softmax has been deprecated. Change the call to include dim=X as an argument.\n"
     ]
    }
   ],
   "source": [
    "# Asserts to help you implement the functions.\n",
    "D = 785\n",
    "K = 10\n",
    "\n",
    "x = Variable(x_train[0:100], requires_grad=False) # No grad wrt to data\n",
    "y = Variable(y_train[0:100], requires_grad=False) # No grad wrt to data \n",
    "w = Variable(torch.randn(D, K), requires_grad=True) # Grad wrt to weights!\n",
    "y_pred = softmax(x.mm(w))\n",
    "\n",
    "yours = softmax(x.mm(w)).data.numpy()\n",
    "correct = F.softmax(x.mm(w)).data.numpy()\n",
    "assert np.allclose(yours, correct, atol=0.01)\n",
    "\n",
    "yours = cross_entropy_loss(y_pred, y).data[0]\n",
    "correct = nn.CrossEntropyLoss()(x.mm(w), y).data[0]\n",
    "assert np.allclose(yours, correct, atol=0.01)"
   ]
  },
  {
   "cell_type": "code",
   "execution_count": 20,
   "metadata": {},
   "outputs": [],
   "source": [
    "def train_logistic_regression(lr=0.1, n_epochs=100, batch_size=100):\n",
    "    \"\"\"\n",
    "    Parameters\n",
    "    ----------\n",
    "    lr: float\n",
    "        Learning rate used in SGD\n",
    "    n_epochs: int\n",
    "        Number of epochs to train\n",
    "    use_autograd: bool\n",
    "        If true will use PyTorch autograd\n",
    "    \n",
    "    Returns\n",
    "    -------\n",
    "    w: np.array, shape: (D_in, D_out)\n",
    "        Found parameters\n",
    "    \"\"\"\n",
    "    \n",
    "    n_epochs = 100\n",
    "    batch_size = 100\n",
    "    learning_rate = 0.1\n",
    "    use_autograd = True\n",
    "\n",
    "    # 784 + bias -> 10 model\n",
    "    D, K = 784 + 1, 10 \n",
    "\n",
    "    # Define all Variables used in the computation\n",
    "    dtype = torch.FloatTensor\n",
    "    x = Variable(torch.randn(batch_size, D).type(dtype), requires_grad=False) # No grad wrt to data\n",
    "    y = Variable(torch.randn(batch_size, K).type(dtype), requires_grad=False) # No grad wrt to data\n",
    "    w = Variable(torch.randn(D, K).type(dtype), requires_grad=True) # Grad wrt to weights!\n",
    "\n",
    "    loss_history = []\n",
    "    for epoch in tqdm.tqdm(range(n_epochs), total=n_epochs):    \n",
    "        for batch in range(len(x_train) // batch_size):\n",
    "            # Sample data\n",
    "            x_batch = x_train[batch*batch_size:(batch+1)*batch_size]\n",
    "            y_batch = y_train[batch*batch_size:(batch+1)*batch_size]\n",
    "\n",
    "            x_batch = Variable(x_batch.type(torch.FloatTensor), requires_grad=False)\n",
    "            y_batch = Variable(y_batch.type(torch.LongTensor), requires_grad=False)\n",
    "\n",
    "            y_pred = forward(x_batch, w)  # Hint: use forward\n",
    "            loss = cross_entropy_loss(y_pred, y_batch)  # Hint: cross_entropy_loss\n",
    "\n",
    "            if batch == 0:\n",
    "                loss_history.append(loss.data.numpy())\n",
    "\n",
    "            # Compute grad_w\n",
    "            loss.backward()\n",
    "            grad_w = w.grad  # Hint: use w.grad and backward. Google if needed.\n",
    "\n",
    "            # Update weights using gradient descent\n",
    "            w.data -= learning_rate * grad_w.data  # Hint: use learning rate and computed gradient\n",
    "\n",
    "            w.grad.data.zero_()  # You need to zero gradients, before next batch.  Google if needed.\n",
    "\n",
    "    plt.plot(loss_history)\n",
    "    plt.xlabel(\"Epoch\")\n",
    "    plt.ylabel(\"Loss\")\n",
    "    \n",
    "    return w"
   ]
  },
  {
   "cell_type": "markdown",
   "metadata": {},
   "source": [
    "# Tests\n",
    "\n",
    "Each notebook will terminate with Tests section. This will automatically grade and assign points."
   ]
  },
  {
   "cell_type": "code",
   "execution_count": 21,
   "metadata": {},
   "outputs": [
    {
     "name": "stderr",
     "output_type": "stream",
     "text": [
      "100%|██████████| 100/100 [00:01<00:00, 81.59it/s]\n"
     ]
    },
    {
     "name": "stdout",
     "output_type": "stream",
     "text": [
      "Evaluation results:\n",
      "===========\n",
      "{'test1': 1}\n"
     ]
    },
    {
     "data": {
      "image/png": "[encoded data removed]",
      "text/plain": [
       "<matplotlib.figure.Figure at 0x7f08e8bc8c18>"
      ]
     },
     "metadata": {},
     "output_type": "display_data"
    }
   ],
   "source": [
    "result = {}\n",
    "result['test1'] = int(evaluate(train_logistic_regression(n_epochs=100, lr=0.1)) > 0.6)\n",
    "print(\"Evaluation results:\\n===========\")\n",
    "print(result)\n",
    "json.dump(result, open(\"2b_pytorch.json\", \"w\"))"
   ]
  }
 ],
 "metadata": {
  "kernelspec": {
   "display_name": "Python [conda env:nn2018]",
   "language": "python",
   "name": "conda-env-nn2018-py"
  },
  "language_info": {
   "codemirror_mode": {
    "name": "ipython",
    "version": 3
   },
   "file_extension": ".py",
   "mimetype": "text/x-python",
   "name": "python",
   "nbconvert_exporter": "python",
   "pygments_lexer": "ipython3",
   "version": "3.6.2"
  },
  "toc": {
   "toc_cell": false,
   "toc_number_sections": true,
   "toc_threshold": 6,
   "toc_window_display": false
  }
 },
 "nbformat": 4,
 "nbformat_minor": 1
}
