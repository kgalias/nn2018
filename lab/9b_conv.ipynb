{
 "cells": [
  {
   "cell_type": "markdown",
   "metadata": {},
   "source": [
    "# Convolutional Neural Network - part B\n",
    "\n",
    "In this notebook we will look a very quickl look at what convolutional layers learn\n",
    "\n",
    "Goal of this lab is to:\n",
    "\n",
    "* Visualize and understand what convolutional layer learns"
   ]
  },
  {
   "cell_type": "markdown",
   "metadata": {},
   "source": [
    "# Optional project - reproducibility challenge\n",
    "\n",
    "You are welcome to work on it during the lab if you have finished the exercises."
   ]
  },
  {
   "cell_type": "markdown",
   "metadata": {},
   "source": [
    "# Whiteboard exercises"
   ]
  },
  {
   "cell_type": "markdown",
   "metadata": {},
   "source": [
    "# Setup"
   ]
  },
  {
   "cell_type": "code",
   "execution_count": null,
   "metadata": {
    "collapsed": false
   },
   "outputs": [],
   "source": [
    "# Boilerplate code to get started\n",
    "\n",
    "%load_ext autoreload\n",
    "%autoreload \n",
    "%matplotlib inline\n",
    "\n",
    "import json\n",
    "import matplotlib as mpl\n",
    "from src import fmnist_utils\n",
    "from src.fmnist_utils import *\n",
    "\n",
    "def plot(H):\n",
    "    plt.title(max(H['test_acc']))\n",
    "    plt.plot(H['acc'], label=\"acc\")\n",
    "    plt.plot(H['test_acc'], label=\"test_acc\")\n",
    "    plt.legend()\n",
    "\n",
    "mpl.rcParams['lines.linewidth'] = 2\n",
    "mpl.rcParams['figure.figsize'] = (7, 7)\n",
    "mpl.rcParams['axes.titlesize'] = 12\n",
    "mpl.rcParams['axes.labelsize'] = 12\n",
    "\n",
    "(x_train, y_train), (x_test, y_test) = fmnist_utils.get_data()\n",
    "\n",
    "x_train_4d = x_train.view(-1, 1, 28, 28)\n",
    "x_test_4d = x_test.view(-1, 1, 28, 28)"
   ]
  },
  {
   "cell_type": "code",
   "execution_count": null,
   "metadata": {
    "collapsed": true
   },
   "outputs": [],
   "source": [
    "## TODO: Random "
   ]
  },
  {
   "cell_type": "markdown",
   "metadata": {},
   "source": [
    "# Exercise 1: Convolution vs FC on FMNIST\n",
    "\n",
    "* Fill out blanks in the code\n",
    "* Train an MLP and a ConvNet for the supplied hyperparameters. Which one works better?"
   ]
  },
  {
   "cell_type": "code",
   "execution_count": 111,
   "metadata": {
    "collapsed": false
   },
   "outputs": [],
   "source": [
    "def build_conv(input_dim, output_dim, n_filters=32, hidden_dims=[32]):\n",
    "    model = torch.nn.Sequential()\n",
    "    \n",
    "    # Convolution part\n",
    "    ## TODO: Pick padding\n",
    "    model.add_module(\"conv2d\", torch.nn.Conv2d(input_dim[0], n_filters, kernel_size=5, padding=2))\n",
    "    model.add_module(\"maxpool\", torch.nn.MaxPool2d(2))\n",
    "    model.add_module(\"relu\", torch.nn.ReLU()) \n",
    "    ## TODO: Add layer flattening output to pass into linear layers\n",
    "    model.add_module(\"flatten\", Flatten())\n",
    "    \n",
    "    ## TODO: Determine this size\n",
    "    previous_dim = n_filters *  input_dim[1]/2 * input_dim[2]/2\n",
    "    \n",
    "    # Classifier\n",
    "    for id, D in enumerate(hidden_dims):\n",
    "        model.add_module(\"linear_{}\".format(id), torch.nn.Linear(previous_dim, D, bias=True))\n",
    "        model.add_module(\"nonlinearity_{}\".format(id), torch.nn.ReLU())\n",
    "        previous_dim = D\n",
    "    model.add_module(\"final_layer\", torch.nn.Linear(D, output_dim, bias=True))\n",
    "    return model"
   ]
  },
  {
   "cell_type": "code",
   "execution_count": null,
   "metadata": {
    "collapsed": false
   },
   "outputs": [
    {
     "name": "stderr",
     "output_type": "stream",
     "text": [
      " 15%|█▌        | 15/100 [00:11<01:02,  1.36it/s]"
     ]
    }
   ],
   "source": [
    "## Starting code for training a ConvNet.\n",
    "\n",
    "input_dim = (1, 28, 28)\n",
    "\n",
    "model = build_conv(input_dim, 10, n_filters=32)\n",
    "\n",
    "loss = torch.nn.CrossEntropyLoss(size_average=True)\n",
    "optimizer = optim.SGD(model.parameters(), lr=0.1, momentum=0.9)\n",
    "\n",
    "H = train(loss=loss, model=model, x_train=x_train_4d, y_train=y_train,\n",
    "          x_test=x_test_4d, y_test=y_test,\n",
    "          optim=optimizer, batch_size=128, n_epochs=100)\n",
    "\n",
    "plot(H)"
   ]
  },
  {
   "cell_type": "code",
   "execution_count": 62,
   "metadata": {
    "collapsed": false
   },
   "outputs": [
    {
     "name": "stderr",
     "output_type": "stream",
     "text": [
      "100%|██████████| 100/100 [00:06<00:00, 14.68it/s]\n"
     ]
    }
   ],
   "source": [
    "# Starting code for training an MLP.\n",
    "\n",
    "model = build_mlp(784, 10)\n",
    "loss = torch.nn.CrossEntropyLoss(size_average=True)\n",
    "optimizer = optim.SGD(model.parameters(), lr=0.1, momentum=0.9)\n",
    "H_mlp = train(loss=loss, model=model, x_train=x_train, y_train=y_train,\n",
    "          x_test=x_test, y_test=y_test, optim=optimizer, batch_size=128, n_epochs=100)"
   ]
  },
  {
   "cell_type": "markdown",
   "metadata": {},
   "source": [
    "# Exercise 2: examine filters\n",
    "\n",
    "1. Plot filters from model in exercise 2. Save them to file \"9b_1.png\".\n",
    "\n",
    "2. Retrain model with shuffled labels. Does it still learn filters? What can you imply based on this experiment about how learning filters happens? Please save your answers to \"9b_2.json\"."
   ]
  },
  {
   "cell_type": "code",
   "execution_count": null,
   "metadata": {
    "collapsed": true
   },
   "outputs": [],
   "source": [
    "## TODO: Consider reuglarizing."
   ]
  },
  {
   "cell_type": "code",
   "execution_count": 110,
   "metadata": {
    "collapsed": false
   },
   "outputs": [
    {
     "data": {
      "image/png": "[encoded data removed]",
      "text/plain": [
       "<matplotlib.figure.Figure at 0x113948b90>"
      ]
     },
     "metadata": {},
     "output_type": "display_data"
    }
   ],
   "source": [
    "from torchvision import utils\n",
    "import numpy as np\n",
    "import matplotlib.pyplot as plt\n",
    "\n",
    "def vistensor(tensor, ch=0, allkernels=False, nrow=8, padding=1): \n",
    "    '''\n",
    "    vistensor: visuzlization tensor\n",
    "        @ch: visualization channel \n",
    "        @allkernels: visualization all tensores\n",
    "    ''' \n",
    "    \n",
    "    n,c,w,h = tensor.shape\n",
    "    if allkernels: tensor = tensor.view(n*c,-1,w,h )\n",
    "    elif c != 3: tensor = tensor[:,ch,:,:].unsqueeze(dim=1)\n",
    "        \n",
    "    rows = np.min( (tensor.shape[0]//nrow + 1, 64 )  )    \n",
    "    grid = utils.make_grid(tensor, nrow=nrow, normalize=True, padding=padding)\n",
    "    plt.figure( figsize=(nrow,rows) )\n",
    "    plt.imshow(grid.numpy().transpose((1, 2, 0)))\n",
    "\n",
    "filters = list(model.modules())[0][0].weight.data\n",
    "vistensor(filters, ch=0, allkernels=True)"
   ]
  },
  {
   "cell_type": "code",
   "execution_count": null,
   "metadata": {
    "collapsed": true
   },
   "outputs": [],
   "source": []
  }
 ],
 "metadata": {
  "kernelspec": {
   "display_name": "Python 2",
   "language": "python",
   "name": "python2"
  },
  "language_info": {
   "codemirror_mode": {
    "name": "ipython",
    "version": 2
   },
   "file_extension": ".py",
   "mimetype": "text/x-python",
   "name": "python",
   "nbconvert_exporter": "python",
   "pygments_lexer": "ipython2",
   "version": "2.7.13"
  },
  "toc": {
   "toc_cell": false,
   "toc_number_sections": true,
   "toc_threshold": 6,
   "toc_window_display": false
  }
 },
 "nbformat": 4,
 "nbformat_minor": 0
}
